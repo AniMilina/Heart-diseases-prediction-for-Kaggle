{
 "cells": [
  {
   "cell_type": "markdown",
   "id": "00e9e429",
   "metadata": {},
   "source": [
    "## Part 3 – Model Selection"
   ]
  },
  {
   "cell_type": "markdown",
   "id": "79439295",
   "metadata": {},
   "source": [
    "## Initial"
   ]
  },
  {
   "cell_type": "markdown",
   "id": "f163d1d4",
   "metadata": {},
   "source": [
    "### Imports"
   ]
  },
  {
   "cell_type": "code",
   "execution_count": 1,
   "id": "b611aa94",
   "metadata": {},
   "outputs": [],
   "source": [
    "import pandas as pd\n",
    "import numpy as np\n",
    "\n",
    "import matplotlib.pyplot as plt\n",
    "import seaborn as sns\n",
    "\n",
    "import os\n",
    "import json\n",
    "import warnings\n",
    "from datetime import date, time, datetime\n",
    "from tqdm.notebook import tqdm\n",
    "\n",
    "from sklearn.compose import ColumnTransformer, make_column_transformer, make_column_selector\n",
    "from sklearn.preprocessing import StandardScaler, OrdinalEncoder, OneHotEncoder\n",
    "\n",
    "from sklearn.model_selection import train_test_split, cross_val_score, StratifiedKFold\n",
    "from imblearn.pipeline import Pipeline, make_pipeline\n",
    "\n",
    "from sklearn.ensemble import RandomForestClassifier\n",
    "from sklearn.ensemble import HistGradientBoostingClassifier\n",
    "from sklearn.linear_model import SGDClassifier\n",
    "from sklearn.svm import LinearSVC\n",
    "# from lightgbm import LGBMClassifier\n",
    "\n",
    "from sklearn.metrics import roc_auc_score, matthews_corrcoef, cohen_kappa_score, accuracy_score\n",
    "from sklearn.inspection import permutation_importance\n",
    "\n",
    "#!pip install optuna\n",
    "import optuna\n",
    "from optuna.integration import OptunaSearchCV\n",
    "from optuna.distributions import FloatDistribution, IntDistribution, CategoricalDistribution"
   ]
  },
  {
   "cell_type": "markdown",
   "id": "d56cb5d4",
   "metadata": {},
   "source": [
    "### Constants"
   ]
  },
  {
   "cell_type": "code",
   "execution_count": 2,
   "id": "9840d9e4",
   "metadata": {},
   "outputs": [],
   "source": [
    "PATH_LOCAL = 'datasets/'                                           # local path to data\n",
    "PATH_REMOTE = '/kaggle/input/yap15-heart-diseases-predictions/'    # remote path to data\n",
    "\n",
    "CR = '\\n'                                                          # new line\n",
    "RANDOM_STATE = RS = 88                                             # random_state\n",
    "N_CV = 3                                                           # num of cross-val batches\n",
    "\n",
    "N_TRIALS = 5                  # количество попыток для Optuna\n",
    "TIMEOUT = 5                   # максимальный порог времени для Optuna\n",
    "SCORING = 'roc_auc'           # основная метрика"
   ]
  },
  {
   "cell_type": "markdown",
   "id": "8ab5aa5b",
   "metadata": {},
   "source": [
    "### Functions"
   ]
  },
  {
   "cell_type": "code",
   "execution_count": 3,
   "id": "e2e669d3",
   "metadata": {},
   "outputs": [],
   "source": [
    "def custom_read_csv(file_name, separator=','):\n",
    "    \"\"\"\n",
    "    чтение датасета в формате CSV:\n",
    "      сначала из локального хранилища;\n",
    "      при неудаче — из удаленного хранилища Kaggle.\n",
    "    \"\"\"\n",
    "\n",
    "    path_local = f'{PATH_LOCAL}{file_name}'\n",
    "    path_remote = f'{PATH_REMOTE}{file_name}'\n",
    "    \n",
    "    if os.path.exists(path_local):\n",
    "        return pd.read_csv(path_local, sep=separator)\n",
    "\n",
    "    elif os.path.exists(path_remote):\n",
    "        return pd.read_csv(path_remote, sep=separator)\n",
    "\n",
    "    else:\n",
    "        print(f'File \"{file_name}\" not found at the specified path ')"
   ]
  },
  {
   "cell_type": "markdown",
   "id": "e711a9f6",
   "metadata": {},
   "source": [
    "### Settings"
   ]
  },
  {
   "cell_type": "code",
   "execution_count": 4,
   "id": "e869bb61",
   "metadata": {},
   "outputs": [],
   "source": [
    "# text styles\n",
    "class f:\n",
    "    BOLD = \"\\033[1m\"\n",
    "    ITALIC = \"\\033[3m\"\n",
    "    END = \"\\033[0m\""
   ]
  },
  {
   "cell_type": "code",
   "execution_count": 5,
   "id": "a345daf3",
   "metadata": {},
   "outputs": [],
   "source": [
    "# defaults for charts\n",
    "\n",
    "# Matplotlib, Seaborn\n",
    "PLOT_DPI = 150  # dpi for charts rendering \n",
    "sns.set_style('whitegrid', {'axes.facecolor': '0.98', 'grid.color': '0.9', 'axes.edgecolor': '1.0'})\n",
    "plt.rc(\n",
    "       'axes',\n",
    "       labelweight='bold',\n",
    "       titlesize=14,\n",
    "       titlepad=10,\n",
    "      )"
   ]
  },
  {
   "cell_type": "code",
   "execution_count": 6,
   "id": "6cb400f4",
   "metadata": {},
   "outputs": [],
   "source": [
    "# Pandas defaults\n",
    "pd.options.display.max_colwidth = 100\n",
    "pd.options.display.max_rows = 500\n",
    "pd.options.display.max_columns = 100\n",
    "pd.options.display.float_format = '{:.3f}'.format\n",
    "pd.options.display.colheader_justify = 'left'"
   ]
  },
  {
   "cell_type": "code",
   "execution_count": 7,
   "id": "d27c5e8d",
   "metadata": {},
   "outputs": [],
   "source": [
    "# оформление Optuna\n",
    "optuna.logging.set_verbosity(optuna.logging.WARNING)  # отключение вывода логов при работе optuna"
   ]
  },
  {
   "cell_type": "code",
   "execution_count": 8,
   "id": "f59ae7b2",
   "metadata": {},
   "outputs": [],
   "source": [
    "# others\n",
    "warnings.filterwarnings('ignore')"
   ]
  },
  {
   "cell_type": "markdown",
   "id": "76784f87",
   "metadata": {},
   "source": [
    "## Read Data"
   ]
  },
  {
   "cell_type": "code",
   "execution_count": 9,
   "id": "4a5905f6",
   "metadata": {},
   "outputs": [],
   "source": [
    "data_train = pd.read_csv('C:\\\\Users\\\\Admin\\\\Desktop\\\\DS studies\\\\Data\\\\Heart diseases\\\\PROJECT\\\\For work\\\\FE_train.csv')  # обучающая выборка после этапа EDA\n",
    "data_test = pd.read_csv('C:\\\\Users\\\\Admin\\\\Desktop\\\\DS studies\\\\Data\\\\Heart diseases\\\\PROJECT\\\\For work\\\\FE_test.csv')    # тестовая выборка после этапа EDA"
   ]
  },
  {
   "cell_type": "code",
   "execution_count": 10,
   "id": "9c41ccb1",
   "metadata": {},
   "outputs": [
    {
     "data": {
      "text/html": [
       "<div>\n",
       "<style scoped>\n",
       "    .dataframe tbody tr th:only-of-type {\n",
       "        vertical-align: middle;\n",
       "    }\n",
       "\n",
       "    .dataframe tbody tr th {\n",
       "        vertical-align: top;\n",
       "    }\n",
       "\n",
       "    .dataframe thead th {\n",
       "        text-align: right;\n",
       "    }\n",
       "</style>\n",
       "<table border=\"1\" class=\"dataframe\">\n",
       "  <thead>\n",
       "    <tr style=\"text-align: left;\">\n",
       "      <th></th>\n",
       "      <th>cardio</th>\n",
       "      <th>age</th>\n",
       "      <th>cholesterol</th>\n",
       "      <th>gluc</th>\n",
       "      <th>gender_aphi_bined_aplo_bined_TRG_mean</th>\n",
       "      <th>gender_age_bined_weight_bined_TRG_mean</th>\n",
       "      <th>gender_cholesterol_gluc_bmi_TRG_mean</th>\n",
       "      <th>gender_smoke_alco_active_TRG_mean</th>\n",
       "      <th>gender_height_TRG_mean</th>\n",
       "    </tr>\n",
       "  </thead>\n",
       "  <tbody>\n",
       "    <tr>\n",
       "      <th>0</th>\n",
       "      <td>0</td>\n",
       "      <td>50</td>\n",
       "      <td>1</td>\n",
       "      <td>1</td>\n",
       "      <td>0.263</td>\n",
       "      <td>0.373</td>\n",
       "      <td>0.303</td>\n",
       "      <td>0.496</td>\n",
       "      <td>0.502</td>\n",
       "    </tr>\n",
       "    <tr>\n",
       "      <th>1</th>\n",
       "      <td>1</td>\n",
       "      <td>55</td>\n",
       "      <td>3</td>\n",
       "      <td>1</td>\n",
       "      <td>0.821</td>\n",
       "      <td>0.631</td>\n",
       "      <td>1.000</td>\n",
       "      <td>0.485</td>\n",
       "      <td>0.513</td>\n",
       "    </tr>\n",
       "    <tr>\n",
       "      <th>2</th>\n",
       "      <td>1</td>\n",
       "      <td>52</td>\n",
       "      <td>3</td>\n",
       "      <td>1</td>\n",
       "      <td>0.529</td>\n",
       "      <td>0.462</td>\n",
       "      <td>0.667</td>\n",
       "      <td>0.523</td>\n",
       "      <td>0.466</td>\n",
       "    </tr>\n",
       "    <tr>\n",
       "      <th>3</th>\n",
       "      <td>1</td>\n",
       "      <td>48</td>\n",
       "      <td>1</td>\n",
       "      <td>1</td>\n",
       "      <td>0.871</td>\n",
       "      <td>0.489</td>\n",
       "      <td>0.562</td>\n",
       "      <td>0.496</td>\n",
       "      <td>0.501</td>\n",
       "    </tr>\n",
       "    <tr>\n",
       "      <th>4</th>\n",
       "      <td>0</td>\n",
       "      <td>48</td>\n",
       "      <td>1</td>\n",
       "      <td>1</td>\n",
       "      <td>0.194</td>\n",
       "      <td>0.264</td>\n",
       "      <td>0.299</td>\n",
       "      <td>0.523</td>\n",
       "      <td>0.513</td>\n",
       "    </tr>\n",
       "  </tbody>\n",
       "</table>\n",
       "</div>"
      ],
      "text/plain": [
       "   cardio  age  cholesterol  gluc  gender_aphi_bined_aplo_bined_TRG_mean  \\\n",
       "0  0       50   1            1    0.263                                    \n",
       "1  1       55   3            1    0.821                                    \n",
       "2  1       52   3            1    0.529                                    \n",
       "3  1       48   1            1    0.871                                    \n",
       "4  0       48   1            1    0.194                                    \n",
       "\n",
       "   gender_age_bined_weight_bined_TRG_mean  \\\n",
       "0 0.373                                     \n",
       "1 0.631                                     \n",
       "2 0.462                                     \n",
       "3 0.489                                     \n",
       "4 0.264                                     \n",
       "\n",
       "   gender_cholesterol_gluc_bmi_TRG_mean  gender_smoke_alco_active_TRG_mean  \\\n",
       "0 0.303                                 0.496                                \n",
       "1 1.000                                 0.485                                \n",
       "2 0.667                                 0.523                                \n",
       "3 0.562                                 0.496                                \n",
       "4 0.299                                 0.523                                \n",
       "\n",
       "   gender_height_TRG_mean  \n",
       "0 0.502                    \n",
       "1 0.513                    \n",
       "2 0.466                    \n",
       "3 0.501                    \n",
       "4 0.513                    "
      ]
     },
     "execution_count": 10,
     "metadata": {},
     "output_type": "execute_result"
    }
   ],
   "source": [
    "data_train.head()"
   ]
  },
  {
   "cell_type": "markdown",
   "id": "fa8b7b40",
   "metadata": {},
   "source": [
    "## Данные для моделей"
   ]
  },
  {
   "cell_type": "markdown",
   "id": "f749b40b",
   "metadata": {},
   "source": [
    "### Выделение признаков и целевой переменной"
   ]
  },
  {
   "cell_type": "code",
   "execution_count": 11,
   "id": "69e22560",
   "metadata": {},
   "outputs": [
    {
     "data": {
      "text/plain": [
       "((68753, 8), (68753,))"
      ]
     },
     "execution_count": 11,
     "metadata": {},
     "output_type": "execute_result"
    }
   ],
   "source": [
    "X = data_train.drop('cardio', axis=1)\n",
    "Y = data_train.cardio\n",
    "\n",
    "X.shape, Y.shape"
   ]
  },
  {
   "cell_type": "markdown",
   "id": "156de62f",
   "metadata": {},
   "source": [
    "### Разделение на обучающую и валидационную выборки\n",
    "\n",
    "Валидационная выборка – часть, отрезанная от train. Нужна для локальной проверки модели."
   ]
  },
  {
   "cell_type": "code",
   "execution_count": 12,
   "id": "f6ce3239",
   "metadata": {},
   "outputs": [
    {
     "data": {
      "text/plain": [
       "((55002, 8), (55002,), (13751, 8), (13751,))"
      ]
     },
     "execution_count": 12,
     "metadata": {},
     "output_type": "execute_result"
    }
   ],
   "source": [
    "X_train, X_valid, Y_train, Y_valid = train_test_split(X, Y, test_size=0.2, stratify=Y, random_state=RS)\n",
    "\n",
    "X_train.shape, Y_train.shape, X_valid.shape, Y_valid.shape"
   ]
  },
  {
   "cell_type": "markdown",
   "id": "0c25feed",
   "metadata": {},
   "source": [
    "## Модель"
   ]
  },
  {
   "cell_type": "markdown",
   "id": "f618eb84",
   "metadata": {},
   "source": [
    "### Preprocessing"
   ]
  },
  {
   "cell_type": "markdown",
   "id": "fb48e7d2",
   "metadata": {},
   "source": [
    "#### Селекторы числовых и категориальных признаков"
   ]
  },
  {
   "cell_type": "code",
   "execution_count": 13,
   "id": "3edc6405",
   "metadata": {},
   "outputs": [],
   "source": [
    "selector_num = make_column_selector(dtype_include=np.number)\n",
    "selector_cat = make_column_selector(dtype_exclude=np.number)"
   ]
  },
  {
   "cell_type": "markdown",
   "id": "44227ec2",
   "metadata": {},
   "source": [
    "#### Предбработка числовых признаков"
   ]
  },
  {
   "cell_type": "code",
   "execution_count": 14,
   "id": "e531a131",
   "metadata": {},
   "outputs": [],
   "source": [
    "num_preprocessor = make_pipeline(\n",
    "                                 StandardScaler(),\n",
    "#                                IterativeImputer(initial_strategy='mean', random_state=RS),  # в данных нет пропусков\n",
    "                                )"
   ]
  },
  {
   "cell_type": "markdown",
   "id": "4fb52c3d",
   "metadata": {},
   "source": [
    "#### Предбработка категориальных признаков\n",
    "\n",
    "Раздельно для линейных моделей и моделей на базе деревьев."
   ]
  },
  {
   "cell_type": "code",
   "execution_count": 15,
   "id": "9530e9f8",
   "metadata": {},
   "outputs": [],
   "source": [
    "# for linear models\n",
    "cat_preprocessor_linr = OneHotEncoder(sparse=False, drop='first', handle_unknown='ignore')\n",
    "\n",
    "# for tree models\n",
    "cat_preprocessor_tree = OrdinalEncoder(handle_unknown='use_encoded_value', unknown_value=999)"
   ]
  },
  {
   "cell_type": "markdown",
   "id": "047fb0b1",
   "metadata": {},
   "source": [
    "#### Объединение предобработки"
   ]
  },
  {
   "cell_type": "code",
   "execution_count": 16,
   "id": "a74bb664",
   "metadata": {},
   "outputs": [],
   "source": [
    "# for linear models\n",
    "preprocessing_linr = make_column_transformer(\n",
    "                                             (num_preprocessor, selector_num),\n",
    "                                             (cat_preprocessor_linr, selector_cat),\n",
    "                                             remainder='passthrough'\n",
    "                                            )\n",
    "# for tree models\n",
    "preprocessing_tree = make_column_transformer(\n",
    "                                             (num_preprocessor, selector_num),\n",
    "                                             (cat_preprocessor_tree, selector_cat),\n",
    "                                             remainder='passthrough'\n",
    "                                            )"
   ]
  },
  {
   "cell_type": "markdown",
   "id": "af73ca9f",
   "metadata": {},
   "source": [
    "#### Models pipelines"
   ]
  },
  {
   "cell_type": "code",
   "execution_count": 17,
   "id": "5598ed6b",
   "metadata": {},
   "outputs": [
    {
     "data": {
      "text/html": [
       "<div>\n",
       "<style scoped>\n",
       "    .dataframe tbody tr th:only-of-type {\n",
       "        vertical-align: middle;\n",
       "    }\n",
       "\n",
       "    .dataframe tbody tr th {\n",
       "        vertical-align: top;\n",
       "    }\n",
       "\n",
       "    .dataframe thead th {\n",
       "        text-align: right;\n",
       "    }\n",
       "</style>\n",
       "<table border=\"1\" class=\"dataframe\">\n",
       "  <thead>\n",
       "    <tr style=\"text-align: left;\">\n",
       "      <th></th>\n",
       "      <th>name</th>\n",
       "      <th>short_name</th>\n",
       "      <th>model</th>\n",
       "    </tr>\n",
       "  </thead>\n",
       "  <tbody>\n",
       "    <tr>\n",
       "      <th>0</th>\n",
       "      <td>RandomForestClassifier</td>\n",
       "      <td>RFC</td>\n",
       "      <td>(ColumnTransformer(remainder='passthrough',\\n                  transformers=[('pipeline',\\n     ...</td>\n",
       "    </tr>\n",
       "    <tr>\n",
       "      <th>1</th>\n",
       "      <td>HistGradientBoostingClassifier</td>\n",
       "      <td>HGBC</td>\n",
       "      <td>(ColumnTransformer(remainder='passthrough',\\n                  transformers=[('pipeline',\\n     ...</td>\n",
       "    </tr>\n",
       "    <tr>\n",
       "      <th>2</th>\n",
       "      <td>SGDClassifier</td>\n",
       "      <td>SGDC</td>\n",
       "      <td>(ColumnTransformer(remainder='passthrough',\\n                  transformers=[('pipeline',\\n     ...</td>\n",
       "    </tr>\n",
       "    <tr>\n",
       "      <th>3</th>\n",
       "      <td>LinearSVC</td>\n",
       "      <td>LSVC</td>\n",
       "      <td>(ColumnTransformer(remainder='passthrough',\\n                  transformers=[('pipeline',\\n     ...</td>\n",
       "    </tr>\n",
       "  </tbody>\n",
       "</table>\n",
       "</div>"
      ],
      "text/plain": [
       "  name                            short_name  \\\n",
       "0          RandomForestClassifier   RFC        \n",
       "1  HistGradientBoostingClassifier  HGBC        \n",
       "2                   SGDClassifier  SGDC        \n",
       "3                       LinearSVC  LSVC        \n",
       "\n",
       "  model                                                                                                 \n",
       "0  (ColumnTransformer(remainder='passthrough',\\n                  transformers=[('pipeline',\\n     ...  \n",
       "1  (ColumnTransformer(remainder='passthrough',\\n                  transformers=[('pipeline',\\n     ...  \n",
       "2  (ColumnTransformer(remainder='passthrough',\\n                  transformers=[('pipeline',\\n     ...  \n",
       "3  (ColumnTransformer(remainder='passthrough',\\n                  transformers=[('pipeline',\\n     ...  "
      ]
     },
     "execution_count": 17,
     "metadata": {},
     "output_type": "execute_result"
    }
   ],
   "source": [
    "pipelines_list = [\n",
    "                  Pipeline([('PT', preprocessing_tree), ('RFC', RandomForestClassifier(random_state=RS)) ]),\n",
    "                  Pipeline([('PT', preprocessing_tree), ('HGBC', HistGradientBoostingClassifier(random_state=RS)) ]),\n",
    "                  Pipeline([('PL', preprocessing_linr), ('SGDC', SGDClassifier(random_state=RS)) ]),\n",
    "                  Pipeline([('PL', preprocessing_linr), ('LSVC', LinearSVC(dual=False, random_state=RS)) ]),\n",
    "                 ]\n",
    "\n",
    "names_list = ['RandomForestClassifier', 'HistGradientBoostingClassifier', 'SGDClassifier', 'LinearSVC']\n",
    "short_names_list = ['RFC', 'HGBC', 'SGDC', 'LSVC']\n",
    "\n",
    "models = pd.DataFrame(data={'name': names_list,\n",
    "                            'short_name': short_names_list,\n",
    "                            'model': pipelines_list,\n",
    "                           },\n",
    "                     )\n",
    "models"
   ]
  },
  {
   "cell_type": "markdown",
   "id": "7b6e21de",
   "metadata": {},
   "source": [
    "### Подбор гиперпараметров"
   ]
  },
  {
   "cell_type": "markdown",
   "id": "65a9d2a4",
   "metadata": {},
   "source": [
    "#### Objective functions для Optuna"
   ]
  },
  {
   "cell_type": "code",
   "execution_count": 18,
   "id": "6091d322",
   "metadata": {},
   "outputs": [],
   "source": [
    "def objective_RFC(trial):\n",
    "\n",
    "    params = {\n",
    "              'RFC__n_estimators': trial.suggest_int('RFC__n_estimators', 50, 1000, log=True),\n",
    "              'RFC__max_depth': trial.suggest_int('RFC__max_depth', 1, 50),\n",
    "              'RFC__class_weight': trial.suggest_categorical('RFC__class_weight', ['balanced', 'balanced_subsample', None]),\n",
    "             }\n",
    "    model.set_params(**params)\n",
    "    cv_SKF = StratifiedKFold(n_splits=5)\n",
    "    \n",
    "    return cross_val_score(model, X_train, Y_train, scoring=SCORING, cv=cv_SKF, n_jobs=-1).mean()"
   ]
  },
  {
   "cell_type": "code",
   "execution_count": 19,
   "id": "7c05025e",
   "metadata": {},
   "outputs": [],
   "source": [
    "def objective_HGBC(trial):\n",
    "\n",
    "    params = {\n",
    "              'HGBC__max_depth': trial.suggest_int('HGBC__max_depth', 10, 100),\n",
    "              'HGBC__learning_rate': trial.suggest_float('HGBC__learning_rate', 0.1, 10.0, log=True),\n",
    "              'HGBC__max_iter': trial.suggest_int('HGBC__max_iter', 10, 500, log=True),\n",
    "              'HGBC__l2_regularization': trial.suggest_float('HGBC__l2_regularization', 0.001, 1000),\n",
    "              'HGBC__max_bins': trial.suggest_int('HGBC__max_bins', 5, 255),\n",
    "             }\n",
    "    model.set_params(**params)\n",
    "    cv_SKF = StratifiedKFold(n_splits=5)\n",
    "    \n",
    "    return cross_val_score(model, X_train, Y_train, scoring=SCORING, cv=cv_SKF, n_jobs=-1).mean()"
   ]
  },
  {
   "cell_type": "code",
   "execution_count": 20,
   "id": "b1858976",
   "metadata": {},
   "outputs": [],
   "source": [
    "def objective_SGDC(trial):\n",
    "\n",
    "    params = {\n",
    "              'SGDC__loss': trial.suggest_categorical('SGDC__loss', ['hinge','log_loss','modified_huber','squared_hinge','perceptron']),\n",
    "              'SGDC__penalty': trial.suggest_categorical('SGDC__penalty', ['l1', 'l2', 'elasticnet']),\n",
    "              'SGDC__max_iter': trial.suggest_int('SGDC__max_iter', 5, 1000, log=True),\n",
    "              'SGDC__validation_fraction': trial.suggest_float('SGDC__validation_fraction', 0.001, 0.999999),\n",
    "              'SGDC__class_weight': trial.suggest_categorical('SGDC__class_weight', ['balanced', None]),\n",
    "             }\n",
    "    model.set_params(**params)\n",
    "    cv_SKF = StratifiedKFold(n_splits=5)\n",
    "    \n",
    "    return cross_val_score(model, X_train, Y_train, scoring=SCORING, cv=cv_SKF, n_jobs=-1).mean()"
   ]
  },
  {
   "cell_type": "code",
   "execution_count": 21,
   "id": "a1f575b7",
   "metadata": {},
   "outputs": [],
   "source": [
    "def objective_LSVC(trial):\n",
    "\n",
    "    params = {\n",
    "              'LSVC__penalty': trial.suggest_categorical('LSVC__penalty', ['l1', 'l2']),\n",
    "              'LSVC__max_iter': trial.suggest_int('LSVC__max_iter', 10, 1000, log=True),\n",
    "              'LSVC__C': trial.suggest_float('LSVC__C', 0.01, 100, log=True),\n",
    "              'LSVC__class_weight': trial.suggest_categorical('LSVC__class_weight', ['balanced', None]),\n",
    "             }\n",
    "    model.set_params(**params)\n",
    "    cv_SKF = StratifiedKFold(n_splits=5)\n",
    "    \n",
    "    return cross_val_score(model, X_train, Y_train, scoring=SCORING, cv=cv_SKF, n_jobs=-1).mean()"
   ]
  },
  {
   "cell_type": "markdown",
   "id": "701bb3d7",
   "metadata": {},
   "source": [
    "#### Вызов Optuna"
   ]
  },
  {
   "cell_type": "code",
   "execution_count": 22,
   "id": "318149f5",
   "metadata": {},
   "outputs": [
    {
     "data": {
      "application/vnd.jupyter.widget-view+json": {
       "model_id": "c903e337ad454c9d9dfb2a32f0545cec",
       "version_major": 2,
       "version_minor": 0
      },
      "text/plain": [
       "  0%|          | 0/5 [00:00<?, ?it/s]"
      ]
     },
     "metadata": {},
     "output_type": "display_data"
    },
    {
     "name": "stdout",
     "output_type": "stream",
     "text": [
      "\n",
      "\u001b[1mRandomForestClassifier\u001b[0m\n",
      "\n",
      "Количество попыток: 5\n",
      "Лучший результат: \u001b[1m0.8500\u001b[0m\n",
      "\n",
      "Комбинация гиперпараметров:\n",
      "{\n",
      " \"RFC__class_weight\": \"balanced_subsample\",\n",
      " \"RFC__max_depth\": 38,\n",
      " \"RFC__n_estimators\": 222\n",
      "} \n",
      "\n"
     ]
    },
    {
     "data": {
      "application/vnd.jupyter.widget-view+json": {
       "model_id": "bfdffc72a60e467791d37418f741e54c",
       "version_major": 2,
       "version_minor": 0
      },
      "text/plain": [
       "  0%|          | 0/5 [00:00<?, ?it/s]"
      ]
     },
     "metadata": {},
     "output_type": "display_data"
    },
    {
     "name": "stdout",
     "output_type": "stream",
     "text": [
      "\n",
      "\u001b[1mHistGradientBoostingClassifier\u001b[0m\n",
      "\n",
      "Количество попыток: 5\n",
      "Лучший результат: \u001b[1m0.6921\u001b[0m\n",
      "\n",
      "Комбинация гиперпараметров:\n",
      "{\n",
      " \"HGBC__l2_regularization\": 864.0188752714649,\n",
      " \"HGBC__learning_rate\": 8.54197067415154,\n",
      " \"HGBC__max_bins\": 201,\n",
      " \"HGBC__max_depth\": 42,\n",
      " \"HGBC__max_iter\": 29\n",
      "} \n",
      "\n"
     ]
    },
    {
     "data": {
      "application/vnd.jupyter.widget-view+json": {
       "model_id": "a9b05c8bbcbc49f1bb262f410e5915cd",
       "version_major": 2,
       "version_minor": 0
      },
      "text/plain": [
       "  0%|          | 0/5 [00:00<?, ?it/s]"
      ]
     },
     "metadata": {},
     "output_type": "display_data"
    },
    {
     "name": "stdout",
     "output_type": "stream",
     "text": [
      "\n",
      "\u001b[1mSGDClassifier\u001b[0m\n",
      "\n",
      "Количество попыток: 5\n",
      "Лучший результат: \u001b[1m0.8633\u001b[0m\n",
      "\n",
      "Комбинация гиперпараметров:\n",
      "{\n",
      " \"SGDC__class_weight\": \"balanced\",\n",
      " \"SGDC__loss\": \"perceptron\",\n",
      " \"SGDC__max_iter\": 653,\n",
      " \"SGDC__penalty\": \"l2\",\n",
      " \"SGDC__validation_fraction\": 0.7034347025075354\n",
      "} \n",
      "\n"
     ]
    },
    {
     "data": {
      "application/vnd.jupyter.widget-view+json": {
       "model_id": "8b300cdd4a014132bb26365754935a70",
       "version_major": 2,
       "version_minor": 0
      },
      "text/plain": [
       "  0%|          | 0/5 [00:00<?, ?it/s]"
      ]
     },
     "metadata": {},
     "output_type": "display_data"
    },
    {
     "name": "stdout",
     "output_type": "stream",
     "text": [
      "\n",
      "\u001b[1mLinearSVC\u001b[0m\n",
      "\n",
      "Количество попыток: 5\n",
      "Лучший результат: \u001b[1m0.8673\u001b[0m\n",
      "\n",
      "Комбинация гиперпараметров:\n",
      "{\n",
      " \"LSVC__C\": 9.55503969385683,\n",
      " \"LSVC__class_weight\": null,\n",
      " \"LSVC__max_iter\": 504,\n",
      " \"LSVC__penalty\": \"l2\"\n",
      "} \n",
      "\n"
     ]
    }
   ],
   "source": [
    "for item in range(models.shape[0]):\n",
    "    \n",
    "    model = models.loc[item,'model']\n",
    "    \n",
    "    # создание объекта optuna.study\n",
    "    study = optuna.create_study(\n",
    "                                study_name=models.loc[item,'name'],\n",
    "                                direction=\"maximize\",\n",
    "                                sampler=optuna.samplers.TPESampler(seed=RS)\n",
    "                               )\n",
    "\n",
    "    # оптимизация (подбор гиперпараметров)\n",
    "    if models.loc[item,'short_name'] == 'RFC':\n",
    "        study.optimize(objective_RFC, n_trials=N_TRIALS, timeout=TIMEOUT, show_progress_bar=True, n_jobs=-1)\n",
    "    elif models.loc[item,'short_name'] == 'HGBC':\n",
    "        study.optimize(objective_HGBC, n_trials=N_TRIALS, timeout=TIMEOUT, show_progress_bar=True, n_jobs=-1)\n",
    "    elif models.loc[item,'short_name'] == 'SGDC':\n",
    "        study.optimize(objective_SGDC, n_trials=N_TRIALS, timeout=TIMEOUT, show_progress_bar=True, n_jobs=-1)\n",
    "    elif models.loc[item,'short_name'] == 'LSVC':\n",
    "        study.optimize(objective_LSVC, n_trials=N_TRIALS, timeout=TIMEOUT, show_progress_bar=True, n_jobs=-1)\n",
    "\n",
    "    # извлечение и обучение лучшей модели\n",
    "    model.set_params(**study.best_params).fit(X_train, Y_train)\n",
    "\n",
    "    # сохранение результатов в таблице моделей\n",
    "    models.loc[item,'model'] = model\n",
    "    models.loc[item,'study'] = study\n",
    "    \n",
    "    print(f'{CR}{f.BOLD}{study.study_name}{f.END}{CR}')\n",
    "    print(f'Количество попыток: {len(study.trials)}')\n",
    "    print(f'Лучший результат: {f.BOLD}{study.best_value:0.4f}{f.END}{CR}')\n",
    "    print('Комбинация гиперпараметров:')\n",
    "    print(json.dumps(study.best_params, indent=1, sort_keys=True), f'{CR}')"
   ]
  }
 ],
 "metadata": {
  "kernelspec": {
   "display_name": "Python 3 (ipykernel)",
   "language": "python",
   "name": "python3"
  },
  "language_info": {
   "codemirror_mode": {
    "name": "ipython",
    "version": 3
   },
   "file_extension": ".py",
   "mimetype": "text/x-python",
   "name": "python",
   "nbconvert_exporter": "python",
   "pygments_lexer": "ipython3",
   "version": "3.9.13"
  }
 },
 "nbformat": 4,
 "nbformat_minor": 5
}
