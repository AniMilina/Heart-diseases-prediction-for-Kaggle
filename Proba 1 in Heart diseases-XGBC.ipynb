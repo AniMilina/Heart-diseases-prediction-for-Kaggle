{
 "cells": [
  {
   "cell_type": "markdown",
   "id": "37333473",
   "metadata": {},
   "source": [
    "## Part 4 – Prediction"
   ]
  },
  {
   "cell_type": "markdown",
   "id": "08845d6b",
   "metadata": {},
   "source": [
    "## Initial"
   ]
  },
  {
   "cell_type": "markdown",
   "id": "0fb78984",
   "metadata": {},
   "source": [
    "### Imports"
   ]
  },
  {
   "cell_type": "code",
   "execution_count": 40,
   "id": "0b653b73",
   "metadata": {},
   "outputs": [],
   "source": [
    "import pandas as pd\n",
    "import numpy as np\n",
    "import joblib\n",
    "\n",
    "import matplotlib.pyplot as plt\n",
    "import seaborn as sns\n",
    "from matplotlib.colors import LinearSegmentedColormap\n",
    "import plotly.graph_objects as go\n",
    "import plotly.io as pio\n",
    "\n",
    "import os\n",
    "import json\n",
    "import warnings\n",
    "from datetime import date, time, datetime\n",
    "from tqdm.notebook import tqdm\n",
    "\n",
    "from sklearn.compose import ColumnTransformer, make_column_transformer, make_column_selector\n",
    "from sklearn.preprocessing import StandardScaler, OrdinalEncoder, OneHotEncoder\n",
    "\n",
    "from sklearn.model_selection import train_test_split, cross_val_score, StratifiedKFold\n",
    "from imblearn.pipeline import Pipeline, make_pipeline\n",
    "\n",
    "from xgboost import XGBClassifier\n",
    "\n",
    "from sklearn.metrics import roc_auc_score, matthews_corrcoef, cohen_kappa_score, accuracy_score\n",
    "from sklearn.inspection import permutation_importance\n",
    "\n",
    "import optuna\n",
    "from optuna.integration import OptunaSearchCV\n",
    "from optuna.distributions import FloatDistribution, IntDistribution, CategoricalDistribution"
   ]
  },
  {
   "cell_type": "markdown",
   "id": "c9c8a3b4",
   "metadata": {},
   "source": [
    "### Constants"
   ]
  },
  {
   "cell_type": "code",
   "execution_count": 41,
   "id": "f2a23ec8",
   "metadata": {},
   "outputs": [],
   "source": [
    "#PATH_LOCAL = 'datasets/'                                           # local path to data\n",
    "#PATH_REMOTE = '/kaggle/input/yap15-heart-diseases-predictions/'    # remote path to data\n",
    "\n",
    "CR = '\\n'                                                          # new line\n",
    "RANDOM_STATE = RS = 66                                             # random_state\n",
    "N_CV = 5                                                           # num of cross-val batches\n",
    "\n",
    "VALID_FRAC = 0.1                          # размер валидационной выборки, выделяемой из обцчающей\n",
    "N_TRIALS = 1000                           # количество попыток для Optuna\n",
    "TIMEOUT = 300                             # максимальный порог времени для Optuna\n",
    "SCORING = 'roc_auc'                       # основная метрика"
   ]
  },
  {
   "cell_type": "markdown",
   "id": "9d00e7ec",
   "metadata": {},
   "source": [
    "### Functions"
   ]
  },
  {
   "cell_type": "code",
   "execution_count": 42,
   "id": "d6db7057",
   "metadata": {},
   "outputs": [],
   "source": [
    "# def custom_read_csv(file_name, separator=','):\n",
    "#     \"\"\"\n",
    "#     чтение датасета в формате CSV:\n",
    "#       сначала из локального хранилища;\n",
    "#       при неудаче — из удаленного хранилища Kaggle.\n",
    "#     \"\"\"\n",
    "\n",
    "#     path_local = f'{PATH_LOCAL}{file_name}'\n",
    "#     path_remote = f'{PATH_REMOTE}{file_name}'\n",
    "    \n",
    "#     if os.path.exists(path_local):\n",
    "#         return pd.read_csv(path_local, sep=separator)\n",
    "\n",
    "#     elif os.path.exists(path_remote):\n",
    "#         return pd.read_csv(path_remote, sep=separator)\n",
    "\n",
    "#     else:\n",
    "#         print(f'File \"{file_name}\" not found at the specified path ')"
   ]
  },
  {
   "cell_type": "code",
   "execution_count": 43,
   "id": "fc559ccc",
   "metadata": {},
   "outputs": [],
   "source": [
    "def add_model_metrics(models, X_train, Y_train, X_valid, Y_valid, cv=N_CV, scoring_list=['f1']):\n",
    "    '''\n",
    "    Принимает датафрейм со списком моделей и их характеристиками.\n",
    "    Добавляет в принятый датафрейм несколько метрик.\n",
    "    \n",
    "    :models: датафрейм с информацией об обученных моделях\n",
    "    :X_train: обучающая выборка (признаки)\n",
    "    :Y_train: обучающая выборка (целевая переменная)\n",
    "    :X_test: тестовая выборка (признаки)\n",
    "    :Y_test: тестовая выборка (целевая переменная)\n",
    "    :scoring: метрики для оценки\n",
    "    '''\n",
    "\n",
    "    for scoring in scoring_list:\n",
    "    \n",
    "        # результаты моделей на обучающей выборке (усреднение на кроссвалидации)\n",
    "        models[scoring + '_train'] = models.model.apply(\n",
    "                              lambda model: cross_val_score(model, X_train, Y_train, scoring=scoring, cv=cv, n_jobs=-1).mean())\n",
    "\n",
    "        # результаты моделей на тестовой выборке (усреднение на кроссвалидации)\n",
    "        models[scoring + '_valid'] = models.model.apply(\n",
    "                              lambda model: cross_val_score(model, X_valid, Y_valid, scoring=scoring, cv=cv, n_jobs=-1).mean())\n",
    "    \n",
    "    # ROC_AUC, коэффициент корреляции Мэтьюса, коэффициент каппа Коэна\n",
    "    models['ROC_AUC'] = models.model.apply(lambda model: roc_auc_score(Y_valid, model.predict_proba(X_valid)[:,1]))\n",
    "    models['matthews_coeff'] = models.model.apply(lambda model: matthews_corrcoef(Y_valid, model.predict(X_valid)))\n",
    "    models['cohen_kappa'] = models.model.apply(lambda model: cohen_kappa_score(Y_valid, model.predict(X_valid)))\n",
    "    \n",
    "    # оптимальные гиперпараметры\n",
    "    models['best_params'] = models.study.apply(lambda model: model.best_params)\n",
    "    \n",
    "    return models"
   ]
  },
  {
   "cell_type": "code",
   "execution_count": 44,
   "id": "a84fdd9d",
   "metadata": {},
   "outputs": [],
   "source": [
    "def plot_Optuna(study, plot_kind='plot_slice', model_name=''):\n",
    "    '''\n",
    "    Дополнительная настройка оригинальных графиков Optuna.\n",
    "    Например, на графике `plot_slice` изначально цвет точек зависел от номера итерации.\n",
    "    Теперь они все одинакового цвета и полупрозрачные, лучше видны скопления точек.\n",
    "    \n",
    "    :study: обученный объект класса OptunaSearchCV\n",
    "    :plot_kind: тип графика Optuna\n",
    "    :model_name: название модели\n",
    "    '''\n",
    "    \n",
    "    if plot_kind == 'plot_slice':\n",
    "        fig = optuna.visualization.plot_slice(study)\n",
    "        fig.update_traces(\n",
    "                          marker_color='Darkgrey',\n",
    "                          marker_size=3,\n",
    "                          marker_opacity=0.2,\n",
    "                          marker_line_width=1,\n",
    "                          marker_line_color='Black',\n",
    "                         )\n",
    "    \n",
    "    elif plot_kind == 'plot_param_importances':\n",
    "        fig = optuna.visualization.plot_param_importances(study)\n",
    "        \n",
    "    elif plot_kind == 'plot_optimization_history':\n",
    "        fig = optuna.visualization.plot_optimization_history(study)\n",
    "        fig.update_traces(\n",
    "                          marker_size=5,\n",
    "                          marker_opacity=0.3,\n",
    "                          marker_line_width=1,\n",
    "                          marker_line_color='Black',\n",
    "                         )\n",
    "\n",
    "    fig.update_layout(\n",
    "                      title_text=model_name,\n",
    "                      title_x=0,\n",
    "                      font_size=10,\n",
    "                     )    \n",
    "    fig.show()"
   ]
  },
  {
   "cell_type": "code",
   "execution_count": 45,
   "id": "7b5449e5",
   "metadata": {},
   "outputs": [],
   "source": [
    "def plot_feature_importances(chart_title, feature_names, feature_importances):\n",
    "    \"\"\"\n",
    "    Выводит график важности признаков, использованных моделью.\n",
    "    \n",
    "    :chart_title: заголовок графика\n",
    "    :feature_names: названия признаков\n",
    "    :feature_importances: важность признаков\n",
    "    \"\"\"\n",
    "    \n",
    "    fig, ax = plt.subplots(figsize=(15,5), dpi=PLOT_DPI)\n",
    "\n",
    "    df = pd.DataFrame({'features': feature_names,\n",
    "                       'importances': feature_importances.importances_mean,\n",
    "                       'std_err': feature_importances.importances_std,\n",
    "                      }).sort_values('importances', ascending=False)\n",
    "    \n",
    "    sns.barplot(\n",
    "                x=df.importances,\n",
    "                y=df.features,\n",
    "                xerr=df.std_err,\n",
    "                color='skyblue',\n",
    "               )\n",
    "    \n",
    "    ax.set_title(f'{chart_title}')\n",
    "    ax.set_xlim(-0.02,)"
   ]
  },
  {
   "cell_type": "markdown",
   "id": "c5c7e318",
   "metadata": {},
   "source": [
    "### Settings"
   ]
  },
  {
   "cell_type": "code",
   "execution_count": 46,
   "id": "5e30b600",
   "metadata": {},
   "outputs": [],
   "source": [
    "# text styles\n",
    "class f:\n",
    "    BOLD = \"\\033[1m\"\n",
    "    ITALIC = \"\\033[3m\"\n",
    "    END = \"\\033[0m\""
   ]
  },
  {
   "cell_type": "code",
   "execution_count": 47,
   "id": "8c88bf36",
   "metadata": {},
   "outputs": [],
   "source": [
    "# defaults for charts\n",
    "\n",
    "# Matplotlib, Seaborn\n",
    "PLOT_DPI = 150  # dpi for charts rendering \n",
    "sns.set_style('whitegrid', {'axes.facecolor': '0.98', 'grid.color': '0.9', 'axes.edgecolor': '1.0'})\n",
    "plt.rc(\n",
    "       'axes',\n",
    "       labelweight='bold',\n",
    "       titlesize=14,\n",
    "       titlepad=10,\n",
    "      )\n",
    "\n",
    "# Plotly Graph_Objects\n",
    "pio.templates['my_theme'] = go.layout.Template(\n",
    "                                               layout_autosize=True,\n",
    "                                               # width=900,\n",
    "                                               layout_height=200,\n",
    "                                               layout_legend_orientation=\"h\",\n",
    "                                               layout_margin=dict(t=40, b=40),         # (l=0, r=0, b=0, t=0, pad=0)\n",
    "                                               layout_template='seaborn',\n",
    "                                              )\n",
    "pio.templates.default = 'my_theme'\n",
    "\n",
    "# colors and maps\n",
    "SYMMETRIC_CMAP = LinearSegmentedColormap.from_list('', ['steelblue', 'aliceblue', 'steelblue'])"
   ]
  },
  {
   "cell_type": "code",
   "execution_count": 48,
   "id": "0b4f2f3c",
   "metadata": {},
   "outputs": [],
   "source": [
    "# Pandas defaults\n",
    "pd.options.display.max_colwidth = 100\n",
    "pd.options.display.max_rows = 500\n",
    "pd.options.display.max_columns = 100\n",
    "pd.options.display.float_format = '{:.3f}'.format\n",
    "pd.options.display.colheader_justify = 'left'"
   ]
  },
  {
   "cell_type": "code",
   "execution_count": 49,
   "id": "d69ef16b",
   "metadata": {},
   "outputs": [],
   "source": [
    "# оформление Optuna\n",
    "optuna.logging.set_verbosity(optuna.logging.WARNING)  # отключение вывода логов при работе optuna"
   ]
  },
  {
   "cell_type": "code",
   "execution_count": 50,
   "id": "e05120f6",
   "metadata": {},
   "outputs": [],
   "source": [
    "# others\n",
    "warnings.filterwarnings('ignore')"
   ]
  },
  {
   "cell_type": "markdown",
   "id": "b1147981",
   "metadata": {},
   "source": [
    "## Read Data"
   ]
  },
  {
   "cell_type": "code",
   "execution_count": 51,
   "id": "6b4b5711",
   "metadata": {},
   "outputs": [],
   "source": [
    "data_train = pd.read_csv('C:\\\\Users\\\\Admin\\\\Desktop\\\\DS studies\\\\Data\\\\Heart diseases\\\\PROJECT\\\\For work\\\\FE_train.csv')  # обучающая выборка после этапа EDA\n",
    "data_test = pd.read_csv('C:\\\\Users\\\\Admin\\\\Desktop\\\\DS studies\\\\Data\\\\Heart diseases\\\\PROJECT\\\\For work\\\\FE_test.csv')    # тестовая выборка после этапа EDA"
   ]
  },
  {
   "cell_type": "code",
   "execution_count": 52,
   "id": "d47538a3",
   "metadata": {},
   "outputs": [
    {
     "data": {
      "text/html": [
       "<div>\n",
       "<style scoped>\n",
       "    .dataframe tbody tr th:only-of-type {\n",
       "        vertical-align: middle;\n",
       "    }\n",
       "\n",
       "    .dataframe tbody tr th {\n",
       "        vertical-align: top;\n",
       "    }\n",
       "\n",
       "    .dataframe thead th {\n",
       "        text-align: right;\n",
       "    }\n",
       "</style>\n",
       "<table border=\"1\" class=\"dataframe\">\n",
       "  <thead>\n",
       "    <tr style=\"text-align: left;\">\n",
       "      <th></th>\n",
       "      <th>cardio</th>\n",
       "      <th>age</th>\n",
       "      <th>cholesterol</th>\n",
       "      <th>gluc</th>\n",
       "      <th>gender_aphi_bined_aplo_bined_TRG_mean</th>\n",
       "      <th>gender_age_bined_weight_bined_TRG_mean</th>\n",
       "      <th>gender_cholesterol_gluc_bmi_TRG_mean</th>\n",
       "      <th>gender_smoke_alco_active_TRG_mean</th>\n",
       "      <th>gender_height_TRG_mean</th>\n",
       "    </tr>\n",
       "  </thead>\n",
       "  <tbody>\n",
       "    <tr>\n",
       "      <th>0</th>\n",
       "      <td>0</td>\n",
       "      <td>50</td>\n",
       "      <td>1</td>\n",
       "      <td>1</td>\n",
       "      <td>0.263</td>\n",
       "      <td>0.373</td>\n",
       "      <td>0.303</td>\n",
       "      <td>0.496</td>\n",
       "      <td>0.502</td>\n",
       "    </tr>\n",
       "    <tr>\n",
       "      <th>1</th>\n",
       "      <td>1</td>\n",
       "      <td>55</td>\n",
       "      <td>3</td>\n",
       "      <td>1</td>\n",
       "      <td>0.821</td>\n",
       "      <td>0.631</td>\n",
       "      <td>1.000</td>\n",
       "      <td>0.485</td>\n",
       "      <td>0.513</td>\n",
       "    </tr>\n",
       "    <tr>\n",
       "      <th>2</th>\n",
       "      <td>1</td>\n",
       "      <td>52</td>\n",
       "      <td>3</td>\n",
       "      <td>1</td>\n",
       "      <td>0.529</td>\n",
       "      <td>0.462</td>\n",
       "      <td>0.667</td>\n",
       "      <td>0.523</td>\n",
       "      <td>0.466</td>\n",
       "    </tr>\n",
       "    <tr>\n",
       "      <th>3</th>\n",
       "      <td>1</td>\n",
       "      <td>48</td>\n",
       "      <td>1</td>\n",
       "      <td>1</td>\n",
       "      <td>0.871</td>\n",
       "      <td>0.489</td>\n",
       "      <td>0.562</td>\n",
       "      <td>0.496</td>\n",
       "      <td>0.501</td>\n",
       "    </tr>\n",
       "    <tr>\n",
       "      <th>4</th>\n",
       "      <td>0</td>\n",
       "      <td>48</td>\n",
       "      <td>1</td>\n",
       "      <td>1</td>\n",
       "      <td>0.194</td>\n",
       "      <td>0.264</td>\n",
       "      <td>0.299</td>\n",
       "      <td>0.523</td>\n",
       "      <td>0.513</td>\n",
       "    </tr>\n",
       "  </tbody>\n",
       "</table>\n",
       "</div>"
      ],
      "text/plain": [
       "   cardio  age  cholesterol  gluc  gender_aphi_bined_aplo_bined_TRG_mean  \\\n",
       "0  0       50   1            1    0.263                                    \n",
       "1  1       55   3            1    0.821                                    \n",
       "2  1       52   3            1    0.529                                    \n",
       "3  1       48   1            1    0.871                                    \n",
       "4  0       48   1            1    0.194                                    \n",
       "\n",
       "   gender_age_bined_weight_bined_TRG_mean  \\\n",
       "0 0.373                                     \n",
       "1 0.631                                     \n",
       "2 0.462                                     \n",
       "3 0.489                                     \n",
       "4 0.264                                     \n",
       "\n",
       "   gender_cholesterol_gluc_bmi_TRG_mean  gender_smoke_alco_active_TRG_mean  \\\n",
       "0 0.303                                 0.496                                \n",
       "1 1.000                                 0.485                                \n",
       "2 0.667                                 0.523                                \n",
       "3 0.562                                 0.496                                \n",
       "4 0.299                                 0.523                                \n",
       "\n",
       "   gender_height_TRG_mean  \n",
       "0 0.502                    \n",
       "1 0.513                    \n",
       "2 0.466                    \n",
       "3 0.501                    \n",
       "4 0.513                    "
      ]
     },
     "execution_count": 52,
     "metadata": {},
     "output_type": "execute_result"
    }
   ],
   "source": [
    "data_train.head()"
   ]
  },
  {
   "cell_type": "code",
   "execution_count": 53,
   "id": "084fce17",
   "metadata": {},
   "outputs": [
    {
     "data": {
      "text/plain": [
       "id                                        30000\n",
       "age                                       30000\n",
       "cholesterol                               30000\n",
       "gluc                                      30000\n",
       "gender_aphi_bined_aplo_bined_TRG_mean     30000\n",
       "gender_age_bined_weight_bined_TRG_mean    30000\n",
       "gender_cholesterol_gluc_bmi_TRG_mean      30000\n",
       "gender_smoke_alco_active_TRG_mean         30000\n",
       "gender_height_TRG_mean                    30000\n",
       "dtype: int64"
      ]
     },
     "execution_count": 53,
     "metadata": {},
     "output_type": "execute_result"
    }
   ],
   "source": [
    "data_test[data_test.notna()].count()"
   ]
  },
  {
   "cell_type": "markdown",
   "id": "f55bd75d",
   "metadata": {},
   "source": [
    "## Данные для моделей"
   ]
  },
  {
   "cell_type": "markdown",
   "id": "ddf2653a",
   "metadata": {},
   "source": [
    "### Выделение признаков и целевой переменной"
   ]
  },
  {
   "cell_type": "code",
   "execution_count": 54,
   "id": "fda8f925",
   "metadata": {},
   "outputs": [
    {
     "data": {
      "text/plain": [
       "((68753, 8), (68753,))"
      ]
     },
     "execution_count": 54,
     "metadata": {},
     "output_type": "execute_result"
    }
   ],
   "source": [
    "X = data_train.drop('cardio', axis=1)\n",
    "Y = data_train.cardio\n",
    "\n",
    "X.shape, Y.shape"
   ]
  },
  {
   "cell_type": "markdown",
   "id": "dedc669c",
   "metadata": {},
   "source": [
    "### Разделение на обучающую и валидационную выборки\n",
    "\n",
    "Валидационная выборка – часть, отрезанная от train. Нужна для локальной проверки модели."
   ]
  },
  {
   "cell_type": "code",
   "execution_count": 55,
   "id": "aa1027db",
   "metadata": {},
   "outputs": [
    {
     "data": {
      "text/plain": [
       "((61877, 8), (61877,), (6876, 8), (6876,))"
      ]
     },
     "execution_count": 55,
     "metadata": {},
     "output_type": "execute_result"
    }
   ],
   "source": [
    "X_train, X_valid, Y_train, Y_valid = train_test_split(X, Y, test_size=VALID_FRAC, stratify=Y, random_state=RS)\n",
    "\n",
    "X_train.shape, Y_train.shape, X_valid.shape, Y_valid.shape"
   ]
  },
  {
   "cell_type": "markdown",
   "id": "6ec71aec",
   "metadata": {},
   "source": [
    "## Модель"
   ]
  },
  {
   "cell_type": "markdown",
   "id": "1ab37103",
   "metadata": {},
   "source": [
    "### Preprocessing"
   ]
  },
  {
   "cell_type": "markdown",
   "id": "db8dc98b",
   "metadata": {},
   "source": [
    "#### Селекторы числовых и категориальных признаков"
   ]
  },
  {
   "cell_type": "code",
   "execution_count": 56,
   "id": "ea389671",
   "metadata": {},
   "outputs": [],
   "source": [
    "selector_num = make_column_selector(dtype_include=np.number)\n",
    "selector_cat = make_column_selector(dtype_exclude=np.number)"
   ]
  },
  {
   "cell_type": "markdown",
   "id": "eda5ba11",
   "metadata": {},
   "source": [
    "#### Предбработка числовых признаков"
   ]
  },
  {
   "cell_type": "code",
   "execution_count": 57,
   "id": "fc20f374",
   "metadata": {},
   "outputs": [],
   "source": [
    "num_preprocessor = make_pipeline(\n",
    "                                 StandardScaler(),\n",
    "#                                IterativeImputer(initial_strategy='mean', random_state=RS),  # в данных нет пропусков\n",
    "                                )"
   ]
  },
  {
   "cell_type": "markdown",
   "id": "a0570c50",
   "metadata": {},
   "source": [
    "#### Предбработка категориальных признаков"
   ]
  },
  {
   "cell_type": "markdown",
   "id": "fc3c7b96",
   "metadata": {},
   "source": [
    "Раздельно для линейных моделей и моделей на базе деревьев."
   ]
  },
  {
   "cell_type": "code",
   "execution_count": 58,
   "id": "9578d2b5",
   "metadata": {},
   "outputs": [],
   "source": [
    "# for linear models\n",
    "cat_preprocessor_linr = OneHotEncoder(sparse=False, drop='first', handle_unknown='ignore')\n",
    "\n",
    "# for tree models\n",
    "cat_preprocessor_tree = OrdinalEncoder(handle_unknown='use_encoded_value', unknown_value=999)"
   ]
  },
  {
   "cell_type": "markdown",
   "id": "8d8f47c8",
   "metadata": {},
   "source": [
    "#### Объединение предобработки"
   ]
  },
  {
   "cell_type": "code",
   "execution_count": 59,
   "id": "0876c65f",
   "metadata": {},
   "outputs": [],
   "source": [
    "# for linear models\n",
    "preprocessing_linr = make_column_transformer(\n",
    "                                             (num_preprocessor, selector_num),\n",
    "                                             (cat_preprocessor_linr, selector_cat),\n",
    "                                             remainder='passthrough'\n",
    "                                            )\n",
    "# for tree models\n",
    "preprocessing_tree = make_column_transformer(\n",
    "                                             (num_preprocessor, selector_num),\n",
    "                                             (cat_preprocessor_tree, selector_cat),\n",
    "                                             remainder='passthrough'\n",
    "                                            )"
   ]
  },
  {
   "cell_type": "markdown",
   "id": "2cc5d012",
   "metadata": {},
   "source": [
    "#### Pipelines"
   ]
  },
  {
   "cell_type": "code",
   "execution_count": 60,
   "id": "50c5edde",
   "metadata": {},
   "outputs": [
    {
     "data": {
      "text/html": [
       "<div>\n",
       "<style scoped>\n",
       "    .dataframe tbody tr th:only-of-type {\n",
       "        vertical-align: middle;\n",
       "    }\n",
       "\n",
       "    .dataframe tbody tr th {\n",
       "        vertical-align: top;\n",
       "    }\n",
       "\n",
       "    .dataframe thead th {\n",
       "        text-align: right;\n",
       "    }\n",
       "</style>\n",
       "<table border=\"1\" class=\"dataframe\">\n",
       "  <thead>\n",
       "    <tr style=\"text-align: left;\">\n",
       "      <th></th>\n",
       "      <th>name</th>\n",
       "      <th>short_name</th>\n",
       "      <th>model</th>\n",
       "    </tr>\n",
       "  </thead>\n",
       "  <tbody>\n",
       "    <tr>\n",
       "      <th>0</th>\n",
       "      <td>XGBClassifier</td>\n",
       "      <td>XGBC</td>\n",
       "      <td>(ColumnTransformer(remainder='passthrough',\\n                  transformers=[('pipeline',\\n     ...</td>\n",
       "    </tr>\n",
       "  </tbody>\n",
       "</table>\n",
       "</div>"
      ],
      "text/plain": [
       "  name           short_name  \\\n",
       "0  XGBClassifier  XGBC        \n",
       "\n",
       "  model                                                                                                 \n",
       "0  (ColumnTransformer(remainder='passthrough',\\n                  transformers=[('pipeline',\\n     ...  "
      ]
     },
     "execution_count": 60,
     "metadata": {},
     "output_type": "execute_result"
    }
   ],
   "source": [
    "pipelines_list = [\n",
    "                  Pipeline([('PT', preprocessing_tree),\n",
    "                            ('XGBC', XGBClassifier(objective='binary:logistic', eval_metric='auc', random_state=RS))\n",
    "                           ])\n",
    "                 ]\n",
    "\n",
    "names_list = ['XGBClassifier']\n",
    "short_names_list = ['XGBC']\n",
    "\n",
    "models = pd.DataFrame(\n",
    "                      data={'name': names_list,\n",
    "                            'short_name': short_names_list,\n",
    "                            'model': pipelines_list,\n",
    "                           },\n",
    "                     )\n",
    "models"
   ]
  },
  {
   "cell_type": "markdown",
   "id": "56322b8e",
   "metadata": {},
   "source": [
    "### Подбор гиперпараметров"
   ]
  },
  {
   "cell_type": "markdown",
   "id": "ede8a3e4",
   "metadata": {},
   "source": [
    "#### Objective functions для Optuna"
   ]
  },
  {
   "cell_type": "code",
   "execution_count": 61,
   "id": "e5f4e22b",
   "metadata": {},
   "outputs": [],
   "source": [
    "def objective_XGBC(trial):\n",
    "\n",
    "    params = {\n",
    "              'XGBC__max_depth': trial.suggest_int('XGBC__max_depth', 1, 20),\n",
    "              'XGBC__n_estimators': trial.suggest_int('XGBC__n_estimators', 10, 200, log=True),\n",
    "              'XGBC__subsample': trial.suggest_float('XGBC__subsample', 0.3, 1.0),\n",
    "#               'XGBC__colsample_bytree': trial.suggest_float('XGBC__colsample_bytree', 0.3, 1.0),\n",
    "              'XGBC__scale_pos_weight': trial.suggest_float('XGBC__scale_pos_weight', 0.4, 0.6),\n",
    "              'XGBC__learning_rate': trial.suggest_float('XGBC__learning_rate', 0.01, 0.99),\n",
    "              'XGBC__gamma': trial.suggest_float('XGBC__gamma', 0.1, 10, log=True),\n",
    "              'XGBC__min_child_weight': trial.suggest_float('XGBC__min_child_weight', 0.1, 10, log=True),\n",
    "              'XGBC__lambda': trial.suggest_float('XGBC__lambda', 0.1, 10, log=True),\n",
    "#               'XGBC__max_leaves': trial.suggest_int('XGBC__max_leaves', 2, 200, log=True),\n",
    "#               'XGBC__max_bin': trial.suggest_int('XGBC__max_bin', 10, 1000, log=True),\n",
    "             }\n",
    "    model.set_params(**params)\n",
    "    cv_SKF = StratifiedKFold(n_splits=N_CV)\n",
    "    \n",
    "    return cross_val_score(model, X_train, Y_train, scoring=SCORING, cv=cv_SKF, n_jobs=-1).mean()"
   ]
  },
  {
   "cell_type": "markdown",
   "id": "c3c26160",
   "metadata": {},
   "source": [
    "#### Вызов Optuna"
   ]
  },
  {
   "cell_type": "code",
   "execution_count": 62,
   "id": "dcff5041",
   "metadata": {},
   "outputs": [
    {
     "data": {
      "application/vnd.jupyter.widget-view+json": {
       "model_id": "ab183e1079ee4988bd076fd5849a58a6",
       "version_major": 2,
       "version_minor": 0
      },
      "text/plain": [
       "  0%|          | 0/1000 [00:00<?, ?it/s]"
      ]
     },
     "metadata": {},
     "output_type": "display_data"
    },
    {
     "name": "stdout",
     "output_type": "stream",
     "text": [
      "\n",
      "\u001b[1mXGBClassifier\u001b[0m\n",
      "\n",
      "Количество попыток: 179\n",
      "Лучший результат: \u001b[1m0.8757\u001b[0m\n",
      "\n",
      "Комбинация гиперпараметров:\n",
      "{\n",
      " \"XGBC__gamma\": 8.743417721091333,\n",
      " \"XGBC__lambda\": 0.2684956565838877,\n",
      " \"XGBC__learning_rate\": 0.15943136127528545,\n",
      " \"XGBC__max_depth\": 14,\n",
      " \"XGBC__min_child_weight\": 0.780312977508543,\n",
      " \"XGBC__n_estimators\": 38,\n",
      " \"XGBC__scale_pos_weight\": 0.5208166272698982,\n",
      " \"XGBC__subsample\": 0.9101978401379107\n",
      "} \n",
      "\n"
     ]
    }
   ],
   "source": [
    "for item in range(models.shape[0]):\n",
    "    \n",
    "    model = models.loc[item,'model']\n",
    "    \n",
    "    # создание объекта optuna.study\n",
    "    study = optuna.create_study(\n",
    "                                study_name=models.loc[item,'name'],\n",
    "                                direction=\"maximize\",\n",
    "                                sampler=optuna.samplers.TPESampler(seed=RS)\n",
    "                               )\n",
    "\n",
    "    # оптимизация (подбор гиперпараметров)\n",
    "    if models.loc[item,'short_name'] == 'XGBC':\n",
    "        study.optimize(objective_XGBC, n_trials=N_TRIALS, timeout=TIMEOUT, show_progress_bar=True, n_jobs=-1)\n",
    "\n",
    "    # извлечение и обучение лучшей модели (здесь можно сделать обучение на полном наборе данных X, Y)\n",
    "    model.set_params(**study.best_params).fit(X_train, Y_train)\n",
    "\n",
    "    # сохранение результатов в таблице моделей\n",
    "    models.loc[item,'model'] = model\n",
    "    models.loc[item,'study'] = study\n",
    "    \n",
    "    print(f'{CR}{f.BOLD}{study.study_name}{f.END}{CR}')\n",
    "    print(f'Количество попыток: {len(study.trials)}')\n",
    "    print(f'Лучший результат: {f.BOLD}{study.best_value:0.4f}{f.END}{CR}')\n",
    "    print('Комбинация гиперпараметров:')\n",
    "    print(json.dumps(study.best_params, indent=1, sort_keys=True), f'{CR}')"
   ]
  },
  {
   "cell_type": "markdown",
   "id": "92e7e571",
   "metadata": {},
   "source": [
    "### Визуализация результатов подбора гиперпараметров\n",
    "\n",
    "Помогает cкорректировать процесс подбора."
   ]
  },
  {
   "cell_type": "code",
   "execution_count": 63,
   "id": "54f201e2",
   "metadata": {},
   "outputs": [
    {
     "data": {
      "application/vnd.plotly.v1+json": {
       "config": {
        "plotlyServerURL": "https://plot.ly"
       },
       "data": [
        {
         "marker": {
          "color": "Darkgrey",
          "colorbar": {
           "title": {
            "text": "Trial"
           },
           "x": 1,
           "xpad": 40
          },
          "colorscale": [
           [
            0,
            "rgb(247,251,255)"
           ],
           [
            0.125,
            "rgb(222,235,247)"
           ],
           [
            0.25,
            "rgb(198,219,239)"
           ],
           [
            0.375,
            "rgb(158,202,225)"
           ],
           [
            0.5,
            "rgb(107,174,214)"
           ],
           [
            0.625,
            "rgb(66,146,198)"
           ],
           [
            0.75,
            "rgb(33,113,181)"
           ],
           [
            0.875,
            "rgb(8,81,156)"
           ],
           [
            1,
            "rgb(8,48,107)"
           ]
          ],
          "line": {
           "color": "Black",
           "width": 1
          },
          "opacity": 0.2,
          "showscale": true,
          "size": 3
         },
         "mode": "markers",
         "showlegend": false,
         "type": "scatter",
         "x": [
          5.575430583426718,
          2.0686953532700616,
          0.4090205938166273,
          0.10698951978599963,
          0.1696749671365948,
          1.2382907982451037,
          4.997763383545062,
          4.971254787545075,
          0.1501734031128111,
          0.21324805298316854,
          0.5208685296956396,
          0.11864571969659046,
          0.10692012676110518,
          1.1109444107713655,
          0.19016518299564153,
          0.45726634828151635,
          0.27184910677617374,
          9.255252895123345,
          2.37040369799621,
          8.573294956950502,
          2.6465555418262787,
          9.423635161334039,
          2.5901109961993063,
          9.826797170035402,
          9.780330675664601,
          9.276813778764184,
          8.68823407767331,
          8.857359271473355,
          7.891782602466267,
          5.651820133024307,
          5.696235306823774,
          6.094293356411403,
          6.099257705894294,
          7.426314644120262,
          7.0711909025169675,
          6.439787817974019,
          6.3627062537331875,
          4.425478577607349,
          6.239977868385543,
          3.883693566211896,
          3.9561376067659766,
          5.220061103744716,
          4.029346611417309,
          4.089027168872844,
          4.158084717865504,
          3.8881960726157554,
          3.8784321031837137,
          3.6920868034848318,
          7.640618288485812,
          7.518892058725707,
          3.4301256785945706,
          3.3767894346341274,
          3.203533752606705,
          3.4495289768226285,
          3.1216045019623992,
          3.163445575545129,
          3.1674668546774556,
          3.356717395529089,
          3.3778174909202665,
          3.1501763723110354,
          1.8812320297750125,
          1.7190228143560207,
          4.8690595329234725,
          1.7737755229951395,
          1.567760291785556,
          1.8354661374996644,
          2.041870920886629,
          1.762792908745188,
          2.1368894231175473,
          5.019508392422767,
          4.8823921952850915,
          5.0233784240744015,
          4.846319323429509,
          5.083938064912742,
          4.925489101753197,
          4.846150294709619,
          4.832471409718265,
          4.822198334169068,
          2.707033030482517,
          4.809723576867683,
          2.683128250117793,
          2.7365823191531002,
          2.737429028952897,
          4.5215066339573005,
          2.756320840482467,
          2.624964573769321,
          2.793082029386287,
          2.667406330599419,
          2.73511837440943,
          2.5690306456441756,
          2.805599890790337,
          2.8171767241083874,
          2.70166120040391,
          2.82051847940764,
          2.389427246534222,
          2.344128482595265,
          2.2972210239354456,
          2.208060275636828,
          4.372463737929712,
          4.1918489605655775,
          2.3754714650107895,
          2.3288736422326424,
          5.579246966387238,
          5.52153909634349,
          4.220280012622761,
          5.559232392789388,
          5.69841858321802,
          5.605104536944802,
          5.646260410766785,
          5.542513576015296,
          3.6103243689825844,
          3.634148615905154,
          3.0665628365808475,
          3.621276724186623,
          6.371702504343078,
          3.7505503609364874,
          6.843253847139366,
          3.660134739963389,
          6.8122793356319535,
          6.004463107967615,
          6.637912727791941,
          6.759308971795672,
          6.2879821019348,
          6.5074473866214015,
          6.742042680509341,
          6.652255678424964,
          6.004842492551328,
          6.208129012381611,
          8.21507316866953,
          8.295635159507539,
          7.945329775760839,
          8.06705874630279,
          8.381430540984363,
          8.71751180396191,
          8.01595989609487,
          7.326683266810135,
          7.63003268086717,
          7.59249302416407,
          7.710467424539605,
          7.862305381226739,
          7.583814095428963,
          7.492007641305037,
          7.8611357026895785,
          8.993596013414388,
          9.838907454887515,
          9.826130568892927,
          9.367100541955944,
          9.27211638558298,
          9.205199447440606,
          9.181367906980395,
          9.182162828141292,
          9.529182117330729,
          8.98186412001231,
          8.988525492662355,
          9.650790305821408,
          9.897931796864006,
          9.916091747957436,
          9.967516462601903,
          6.079453156278792,
          9.867820846718137,
          8.478340995741895,
          9.854038307225833,
          9.793363122661049,
          8.717990997382541,
          8.46460726725963,
          8.439257394311753,
          8.756236686569826,
          8.689109028363882,
          8.512598757299653,
          8.634930601627453,
          8.743417721091333,
          8.639232815647778,
          8.296029534987259,
          8.47318645548648,
          8.369470893086534,
          8.224536056247992,
          7.112749457949413,
          7.118423141549555,
          7.078742123866138
         ],
         "xaxis": "x",
         "y": [
          0.8719022753395407,
          0.8719022753395407,
          0.8719022753395407,
          0.8719022753395407,
          0.8719022753395407,
          0.8719022753395407,
          0.8719022753395407,
          0.8719022753395407,
          0.8533235970298179,
          0.8559907438940723,
          0.8361302772806434,
          0.8529366493371618,
          0.8492104219710829,
          0.8688386758703259,
          0.865628739217132,
          0.8259444270048506,
          0.8544510475979903,
          0.8738317145636282,
          0.8270966400954567,
          0.8684694632140427,
          0.8303860876266382,
          0.8658756157551164,
          0.8374982821341208,
          0.8704209798808522,
          0.8616993917942428,
          0.873443683991033,
          0.8740890241115455,
          0.8734871695476139,
          0.8735671147476106,
          0.8728723960560825,
          0.873830493454323,
          0.8351452228832151,
          0.8734663567959681,
          0.8738980054634228,
          0.867942086325493,
          0.8698677498026421,
          0.8701876459043003,
          0.8696854037320623,
          0.8668675601274488,
          0.8696267183492526,
          0.8632502578606605,
          0.8704916931535133,
          0.8583636478539072,
          0.8746803481809351,
          0.874360579025414,
          0.8746961434256736,
          0.8746961434256736,
          0.8749041304881908,
          0.87489187794198,
          0.8734411517492623,
          0.8746649471834649,
          0.8745971360847744,
          0.8744841473558422,
          0.8745321031114927,
          0.8741887455534141,
          0.8750828525950624,
          0.8749091334440996,
          0.8746936172306834,
          0.8745267169723284,
          0.8744178607448347,
          0.8744824313330412,
          0.8744075221944148,
          0.8753751758292369,
          0.8740555806442544,
          0.8738392053252764,
          0.8735402291838534,
          0.8718770525529683,
          0.8714784370635277,
          0.8736194618570569,
          0.8744155199456334,
          0.8745246929172866,
          0.8747011140728048,
          0.8748935264142512,
          0.8751931559926538,
          0.8749608008980709,
          0.8750036471127522,
          0.8748282963265048,
          0.8749248074401859,
          0.8753218295023343,
          0.8751644430396516,
          0.8750599385586462,
          0.8753266754219309,
          0.8750694295323924,
          0.8751964007445849,
          0.87468143726375,
          0.8749234657287877,
          0.8748498458295966,
          0.8753068652651189,
          0.8751971287764354,
          0.8752184935801971,
          0.8736609654608717,
          0.8738171104054056,
          0.8737460463068867,
          0.8727806098142226,
          0.8740867815416052,
          0.8718247864076002,
          0.8742402216897778,
          0.8730307374068126,
          0.8740521956315833,
          0.8709910358753483,
          0.8680634821847905,
          0.8752733779631475,
          0.8745234768252139,
          0.8743876420756962,
          0.8748456871488999,
          0.8752720800941061,
          0.8755095559092501,
          0.8755095559092501,
          0.8751952836366612,
          0.8754420581197657,
          0.8751420140387876,
          0.8751184328511676,
          0.8744284641461991,
          0.8742129247982394,
          0.8753902361432164,
          0.8747249562942802,
          0.875109860804228,
          0.8737390318083105,
          0.8748309192942918,
          0.8754847793659458,
          0.875516002034777,
          0.8752472145606012,
          0.8748365257153038,
          0.8752018012287526,
          0.874274707664577,
          0.8738955644880313,
          0.8753903625916395,
          0.8754230404827066,
          0.8752367573123676,
          0.8753306112793237,
          0.8753856743506491,
          0.8754130925607843,
          0.8751941094792539,
          0.8755222986396051,
          0.875577315397915,
          0.8751100909887557,
          0.8753667508353224,
          0.8753171345850637,
          0.8754627524687294,
          0.8754351087125757,
          0.8753734271684074,
          0.8753368172105939,
          0.8755012700160221,
          0.875353877033389,
          0.8751636836014768,
          0.8754953201320819,
          0.8755058820589638,
          0.8753458158208304,
          0.8750287661508516,
          0.8751226959089843,
          0.8753844066621983,
          0.875533676315891,
          0.8754899775307601,
          0.875454809599144,
          0.8755455469114037,
          0.8752580526455402,
          0.8752182141223844,
          0.875271605012839,
          0.8749286582272513,
          0.8753274108828174,
          0.8755047992664553,
          0.8754665366094245,
          0.8754135016793454,
          0.8754770373946477,
          0.8754728904705843,
          0.8756924224635556,
          0.8754029622843756,
          0.875449888315714,
          0.8753815968144358,
          0.8755216431119697,
          0.8756948998471501,
          0.8755654172421684,
          0.8755214409504181,
          0.8753725356828443,
          0.8754710131994525,
          0.8755582247175567,
          0.8754160626686993,
          0.8751952881890196,
          0.8750985332721204
         ],
         "yaxis": "y"
        },
        {
         "marker": {
          "color": "Darkgrey",
          "colorbar": {
           "title": {
            "text": "Trial"
           },
           "x": 1,
           "xpad": 40
          },
          "colorscale": [
           [
            0,
            "rgb(247,251,255)"
           ],
           [
            0.125,
            "rgb(222,235,247)"
           ],
           [
            0.25,
            "rgb(198,219,239)"
           ],
           [
            0.375,
            "rgb(158,202,225)"
           ],
           [
            0.5,
            "rgb(107,174,214)"
           ],
           [
            0.625,
            "rgb(66,146,198)"
           ],
           [
            0.75,
            "rgb(33,113,181)"
           ],
           [
            0.875,
            "rgb(8,81,156)"
           ],
           [
            1,
            "rgb(8,48,107)"
           ]
          ],
          "line": {
           "color": "Black",
           "width": 1
          },
          "opacity": 0.2,
          "showscale": false,
          "size": 3
         },
         "mode": "markers",
         "showlegend": false,
         "type": "scatter",
         "x": [
          0.6622442893117263,
          2.475117145277899,
          8.315381418691965,
          0.44228540908468505,
          5.907673976555064,
          6.534973555694418,
          7.416996079942144,
          2.1884409310132558,
          0.24568866485945745,
          0.16732371908350047,
          5.180459503272892,
          5.403778477187618,
          4.3907754482569485,
          7.741293881671674,
          5.9434320899493,
          0.3198069153978498,
          1.7940673237326779,
          0.7217108410725379,
          1.0400884921465705,
          0.9259623032572349,
          0.9034689724888488,
          0.8911113831851396,
          1.0546914210887517,
          0.6691884121476198,
          0.7315787817306666,
          0.8162102256491622,
          0.5742810706654634,
          0.11488045221932396,
          0.47255260898459756,
          0.5617065238088422,
          0.5209583942830248,
          0.4890644662759873,
          0.6290829096906878,
          0.44761360363030134,
          0.10646909992517388,
          0.4769173845177102,
          0.4819105387592195,
          0.34990755719214545,
          0.5009172571097469,
          0.48164362136981814,
          0.3784308454468032,
          0.39790768525129766,
          0.31492948047232094,
          0.3528756579869728,
          0.37261335120256267,
          0.3010735813269571,
          0.36974441631905713,
          0.3135351189378394,
          0.2917518727119535,
          0.26660108663100185,
          0.2797274695192607,
          0.29607172929842607,
          0.25451234364971265,
          0.2332389544199128,
          0.2336284839940742,
          0.2226006131625931,
          0.24554942202695593,
          0.21189017705205027,
          0.21666745845880062,
          0.2022918316654593,
          0.20765553229334385,
          0.1972071201123001,
          0.21212609778741498,
          0.20184033842871452,
          0.19358084357676494,
          0.172526164799393,
          0.16144740893609746,
          0.16763397818088746,
          0.17810153586784616,
          0.1774429524553312,
          0.1646606088798302,
          0.1510770850410104,
          0.16409663198396499,
          0.14767227808645997,
          0.31093117809639154,
          0.2816221350569787,
          0.2929491621849542,
          0.3064077383830266,
          0.29171656559881753,
          0.2850216862179405,
          0.14238351799313817,
          0.13718739535722832,
          0.13436227471386417,
          0.13292699188931975,
          0.13141237620457225,
          0.1316062272135055,
          0.2502352536951104,
          0.2624854804990868,
          0.1315019072705179,
          0.14162298693528858,
          0.13979843453880528,
          0.13552381002272101,
          0.12816398257184572,
          0.10087064327301416,
          0.10110157434908135,
          0.11877070457479129,
          0.10040754136558291,
          0.11636336982133186,
          0.118473695643213,
          0.11285459054034247,
          0.11415503589276944,
          0.11658479695125953,
          0.11875161258979713,
          0.11610207082888463,
          0.14950986327974058,
          0.11555665804883151,
          0.14793843787942906,
          0.14839275176111255,
          0.15352527214983522,
          0.14902381029348966,
          0.15336318997132234,
          0.1513389257452161,
          0.15115713461825914,
          0.1475690639469873,
          0.1458786814491294,
          0.1503778664622163,
          0.18547042516566514,
          0.18714634544200504,
          0.12885826319536314,
          0.18212078714128138,
          0.17699331898922277,
          0.18266595673280722,
          0.17494663856327958,
          0.19001079397559342,
          0.19029779983764122,
          0.1724902746459953,
          0.18830589291372854,
          0.1773872024976413,
          0.18149273994651924,
          0.1776492909118372,
          0.2209311326819885,
          0.22434098473714342,
          0.2279834649504543,
          0.2211621457370264,
          0.2210309112962758,
          0.21735876488273348,
          0.21555442573463257,
          0.224009355760472,
          0.2263221321796945,
          0.21941180513049982,
          0.20715124308921826,
          0.21557296048654712,
          0.22295585791989433,
          0.21579578105542124,
          0.2359927904466811,
          0.20342525235192044,
          0.24882075228314499,
          0.26296936767048174,
          0.2441206678121982,
          0.24033653911648514,
          0.2415509087429743,
          0.24771337962585532,
          0.25564318114163403,
          0.25929560943455454,
          0.24963832810452274,
          0.24258126934207294,
          0.24636195765601188,
          0.1963373683762513,
          0.1631771024198158,
          0.25611711154867167,
          0.26939723876425387,
          0.26288789899945136,
          0.3233414969827717,
          0.26910974993775294,
          0.2724288968967748,
          0.2762533111280041,
          0.26992276107171165,
          0.3322078099646951,
          0.2782283615763541,
          0.1975624932944147,
          0.2684956565838877,
          0.2655438569367275,
          0.2677024625880542,
          0.2799179378695623,
          0.3363966053350861,
          0.2842345820375795,
          0.3528183962024298,
          0.33129170723788914,
          0.3020484028074108
         ],
         "xaxis": "x2",
         "y": [
          0.8719022753395407,
          0.8719022753395407,
          0.8719022753395407,
          0.8719022753395407,
          0.8719022753395407,
          0.8719022753395407,
          0.8719022753395407,
          0.8719022753395407,
          0.8533235970298179,
          0.8559907438940723,
          0.8361302772806434,
          0.8529366493371618,
          0.8492104219710829,
          0.8688386758703259,
          0.865628739217132,
          0.8259444270048506,
          0.8544510475979903,
          0.8738317145636282,
          0.8270966400954567,
          0.8684694632140427,
          0.8303860876266382,
          0.8658756157551164,
          0.8374982821341208,
          0.8704209798808522,
          0.8616993917942428,
          0.873443683991033,
          0.8740890241115455,
          0.8734871695476139,
          0.8735671147476106,
          0.8728723960560825,
          0.873830493454323,
          0.8351452228832151,
          0.8734663567959681,
          0.8738980054634228,
          0.867942086325493,
          0.8698677498026421,
          0.8701876459043003,
          0.8696854037320623,
          0.8668675601274488,
          0.8696267183492526,
          0.8632502578606605,
          0.8704916931535133,
          0.8583636478539072,
          0.8746803481809351,
          0.874360579025414,
          0.8746961434256736,
          0.8746961434256736,
          0.8749041304881908,
          0.87489187794198,
          0.8734411517492623,
          0.8746649471834649,
          0.8745971360847744,
          0.8744841473558422,
          0.8745321031114927,
          0.8741887455534141,
          0.8750828525950624,
          0.8749091334440996,
          0.8746936172306834,
          0.8745267169723284,
          0.8744178607448347,
          0.8744824313330412,
          0.8744075221944148,
          0.8753751758292369,
          0.8740555806442544,
          0.8738392053252764,
          0.8735402291838534,
          0.8718770525529683,
          0.8714784370635277,
          0.8736194618570569,
          0.8744155199456334,
          0.8745246929172866,
          0.8747011140728048,
          0.8748935264142512,
          0.8751931559926538,
          0.8749608008980709,
          0.8750036471127522,
          0.8748282963265048,
          0.8749248074401859,
          0.8753218295023343,
          0.8751644430396516,
          0.8750599385586462,
          0.8753266754219309,
          0.8750694295323924,
          0.8751964007445849,
          0.87468143726375,
          0.8749234657287877,
          0.8748498458295966,
          0.8753068652651189,
          0.8751971287764354,
          0.8752184935801971,
          0.8736609654608717,
          0.8738171104054056,
          0.8737460463068867,
          0.8727806098142226,
          0.8740867815416052,
          0.8718247864076002,
          0.8742402216897778,
          0.8730307374068126,
          0.8740521956315833,
          0.8709910358753483,
          0.8680634821847905,
          0.8752733779631475,
          0.8745234768252139,
          0.8743876420756962,
          0.8748456871488999,
          0.8752720800941061,
          0.8755095559092501,
          0.8755095559092501,
          0.8751952836366612,
          0.8754420581197657,
          0.8751420140387876,
          0.8751184328511676,
          0.8744284641461991,
          0.8742129247982394,
          0.8753902361432164,
          0.8747249562942802,
          0.875109860804228,
          0.8737390318083105,
          0.8748309192942918,
          0.8754847793659458,
          0.875516002034777,
          0.8752472145606012,
          0.8748365257153038,
          0.8752018012287526,
          0.874274707664577,
          0.8738955644880313,
          0.8753903625916395,
          0.8754230404827066,
          0.8752367573123676,
          0.8753306112793237,
          0.8753856743506491,
          0.8754130925607843,
          0.8751941094792539,
          0.8755222986396051,
          0.875577315397915,
          0.8751100909887557,
          0.8753667508353224,
          0.8753171345850637,
          0.8754627524687294,
          0.8754351087125757,
          0.8753734271684074,
          0.8753368172105939,
          0.8755012700160221,
          0.875353877033389,
          0.8751636836014768,
          0.8754953201320819,
          0.8755058820589638,
          0.8753458158208304,
          0.8750287661508516,
          0.8751226959089843,
          0.8753844066621983,
          0.875533676315891,
          0.8754899775307601,
          0.875454809599144,
          0.8755455469114037,
          0.8752580526455402,
          0.8752182141223844,
          0.875271605012839,
          0.8749286582272513,
          0.8753274108828174,
          0.8755047992664553,
          0.8754665366094245,
          0.8754135016793454,
          0.8754770373946477,
          0.8754728904705843,
          0.8756924224635556,
          0.8754029622843756,
          0.875449888315714,
          0.8753815968144358,
          0.8755216431119697,
          0.8756948998471501,
          0.8755654172421684,
          0.8755214409504181,
          0.8753725356828443,
          0.8754710131994525,
          0.8755582247175567,
          0.8754160626686993,
          0.8751952881890196,
          0.8750985332721204
         ],
         "yaxis": "y2"
        },
        {
         "marker": {
          "color": "Darkgrey",
          "colorbar": {
           "title": {
            "text": "Trial"
           },
           "x": 1,
           "xpad": 40
          },
          "colorscale": [
           [
            0,
            "rgb(247,251,255)"
           ],
           [
            0.125,
            "rgb(222,235,247)"
           ],
           [
            0.25,
            "rgb(198,219,239)"
           ],
           [
            0.375,
            "rgb(158,202,225)"
           ],
           [
            0.5,
            "rgb(107,174,214)"
           ],
           [
            0.625,
            "rgb(66,146,198)"
           ],
           [
            0.75,
            "rgb(33,113,181)"
           ],
           [
            0.875,
            "rgb(8,81,156)"
           ],
           [
            1,
            "rgb(8,48,107)"
           ]
          ],
          "line": {
           "color": "Black",
           "width": 1
          },
          "opacity": 0.2,
          "showscale": false,
          "size": 3
         },
         "mode": "markers",
         "showlegend": false,
         "type": "scatter",
         "x": [
          0.283233674984405,
          0.8941528802479964,
          0.19763841871315488,
          0.3611862485960926,
          0.31962764312173914,
          0.358632137068377,
          0.715082621064896,
          0.5652675130840388,
          0.7535168232439694,
          0.027948880507254942,
          0.7409220336067986,
          0.328141961817178,
          0.43035368356526826,
          0.8695039134381632,
          0.48203825592730587,
          0.598988393150364,
          0.6617806383637854,
          0.532608703001282,
          0.9516374658051853,
          0.9716379672087412,
          0.9417933935884387,
          0.9783705420309323,
          0.940681234604886,
          0.9561674998838714,
          0.9747640720262388,
          0.5270930320838039,
          0.5021003302604357,
          0.5212776901101034,
          0.8421154089139286,
          0.8504841381939465,
          0.8086905159852531,
          0.8092168706388745,
          0.5330396028906839,
          0.5427500066106086,
          0.46663259647066724,
          0.6292111655522912,
          0.6214540422812815,
          0.6256209322822761,
          0.8056702268504832,
          0.8261030213916921,
          0.6323690053571276,
          0.606101857634874,
          0.41587613115784683,
          0.42128980841403985,
          0.4205925049973924,
          0.43842789200491716,
          0.41738382043580946,
          0.3975924035331223,
          0.42437858837316544,
          0.6917229815149075,
          0.40716324362851886,
          0.4238463630585146,
          0.4229367328212442,
          0.38469384712137084,
          0.3873819984918178,
          0.27537197570487815,
          0.2867240417569842,
          0.28953300018298056,
          0.3808392780412416,
          0.3651938708326087,
          0.3616839754903117,
          0.30193087480091507,
          0.3238579992041293,
          0.2990627032142512,
          0.2976485468750042,
          0.3386043862390729,
          0.3361835894086602,
          0.32716372263089155,
          0.27993247901801066,
          0.2771907737580365,
          0.25972261238798844,
          0.24004507578653508,
          0.23936474495682755,
          0.2372685769946955,
          0.2442554208844515,
          0.2412910674606386,
          0.22258922258528224,
          0.1731932055878027,
          0.2353249306355626,
          0.23924422139860457,
          0.23788318232247274,
          0.23509961587608935,
          0.17552442379272187,
          0.20058695829594786,
          0.14065983705770715,
          0.17964252451458032,
          0.16736408324221302,
          0.18431573325130607,
          0.16895514111359086,
          0.18948454227433348,
          0.17711783015605312,
          0.20454680586307666,
          0.2002796396630646,
          0.1405065042116706,
          0.20427100672531656,
          0.2142841967309088,
          0.2060518394206617,
          0.12343402417358287,
          0.20601271741684196,
          0.12104422315833314,
          0.12024201737147105,
          0.21157253708397852,
          0.12702432336324276,
          0.1113820527531306,
          0.13804547901644845,
          0.25863298843245525,
          0.25913893776985153,
          0.2625639471924961,
          0.2661317145076748,
          0.26424416928169003,
          0.271361679897872,
          0.2623848344518314,
          0.25939816989528053,
          0.26216072287438863,
          0.2625828818037694,
          0.256357395878145,
          0.310206997060896,
          0.3186431103223971,
          0.3007274960785199,
          0.22614445500466862,
          0.18773758921528655,
          0.3027668679486463,
          0.3095800088184041,
          0.3051819278968208,
          0.3177564521030035,
          0.2977953069108802,
          0.22561491151591728,
          0.221905967495583,
          0.2257820881374763,
          0.21679906529152548,
          0.2216416482379347,
          0.2245836034572444,
          0.3485730065200331,
          0.21831453442827323,
          0.2246310537677648,
          0.22210557478072096,
          0.22160045131314857,
          0.22771457450593444,
          0.22546406820893217,
          0.22601210393187912,
          0.22476453522333661,
          0.2250383045879901,
          0.2176057689874318,
          0.23013930403960964,
          0.27480303587769717,
          0.2857629793892253,
          0.27989204769622045,
          0.15353852622015662,
          0.28208279665462294,
          0.2745405545340464,
          0.27703953512526436,
          0.15793516064287552,
          0.2510491632490456,
          0.28285957540511336,
          0.15767190704837403,
          0.19065842825469678,
          0.18869291441553127,
          0.19552408350456116,
          0.19399923853470097,
          0.19390129221139904,
          0.19247015513374754,
          0.19390344232961398,
          0.18694514207433657,
          0.1603332843906226,
          0.1588727297861073,
          0.161044088436246,
          0.15993080814929567,
          0.16304778822271776,
          0.2523133100304911,
          0.16088462487940303,
          0.15943136127528545,
          0.1616823963766234,
          0.1528608975021338,
          0.16165937099284128,
          0.09368123021145991,
          0.14910976316234933,
          0.10073783387779131,
          0.1541440048418675,
          0.14401002503538213
         ],
         "xaxis": "x3",
         "y": [
          0.8719022753395407,
          0.8719022753395407,
          0.8719022753395407,
          0.8719022753395407,
          0.8719022753395407,
          0.8719022753395407,
          0.8719022753395407,
          0.8719022753395407,
          0.8533235970298179,
          0.8559907438940723,
          0.8361302772806434,
          0.8529366493371618,
          0.8492104219710829,
          0.8688386758703259,
          0.865628739217132,
          0.8259444270048506,
          0.8544510475979903,
          0.8738317145636282,
          0.8270966400954567,
          0.8684694632140427,
          0.8303860876266382,
          0.8658756157551164,
          0.8374982821341208,
          0.8704209798808522,
          0.8616993917942428,
          0.873443683991033,
          0.8740890241115455,
          0.8734871695476139,
          0.8735671147476106,
          0.8728723960560825,
          0.873830493454323,
          0.8351452228832151,
          0.8734663567959681,
          0.8738980054634228,
          0.867942086325493,
          0.8698677498026421,
          0.8701876459043003,
          0.8696854037320623,
          0.8668675601274488,
          0.8696267183492526,
          0.8632502578606605,
          0.8704916931535133,
          0.8583636478539072,
          0.8746803481809351,
          0.874360579025414,
          0.8746961434256736,
          0.8746961434256736,
          0.8749041304881908,
          0.87489187794198,
          0.8734411517492623,
          0.8746649471834649,
          0.8745971360847744,
          0.8744841473558422,
          0.8745321031114927,
          0.8741887455534141,
          0.8750828525950624,
          0.8749091334440996,
          0.8746936172306834,
          0.8745267169723284,
          0.8744178607448347,
          0.8744824313330412,
          0.8744075221944148,
          0.8753751758292369,
          0.8740555806442544,
          0.8738392053252764,
          0.8735402291838534,
          0.8718770525529683,
          0.8714784370635277,
          0.8736194618570569,
          0.8744155199456334,
          0.8745246929172866,
          0.8747011140728048,
          0.8748935264142512,
          0.8751931559926538,
          0.8749608008980709,
          0.8750036471127522,
          0.8748282963265048,
          0.8749248074401859,
          0.8753218295023343,
          0.8751644430396516,
          0.8750599385586462,
          0.8753266754219309,
          0.8750694295323924,
          0.8751964007445849,
          0.87468143726375,
          0.8749234657287877,
          0.8748498458295966,
          0.8753068652651189,
          0.8751971287764354,
          0.8752184935801971,
          0.8736609654608717,
          0.8738171104054056,
          0.8737460463068867,
          0.8727806098142226,
          0.8740867815416052,
          0.8718247864076002,
          0.8742402216897778,
          0.8730307374068126,
          0.8740521956315833,
          0.8709910358753483,
          0.8680634821847905,
          0.8752733779631475,
          0.8745234768252139,
          0.8743876420756962,
          0.8748456871488999,
          0.8752720800941061,
          0.8755095559092501,
          0.8755095559092501,
          0.8751952836366612,
          0.8754420581197657,
          0.8751420140387876,
          0.8751184328511676,
          0.8744284641461991,
          0.8742129247982394,
          0.8753902361432164,
          0.8747249562942802,
          0.875109860804228,
          0.8737390318083105,
          0.8748309192942918,
          0.8754847793659458,
          0.875516002034777,
          0.8752472145606012,
          0.8748365257153038,
          0.8752018012287526,
          0.874274707664577,
          0.8738955644880313,
          0.8753903625916395,
          0.8754230404827066,
          0.8752367573123676,
          0.8753306112793237,
          0.8753856743506491,
          0.8754130925607843,
          0.8751941094792539,
          0.8755222986396051,
          0.875577315397915,
          0.8751100909887557,
          0.8753667508353224,
          0.8753171345850637,
          0.8754627524687294,
          0.8754351087125757,
          0.8753734271684074,
          0.8753368172105939,
          0.8755012700160221,
          0.875353877033389,
          0.8751636836014768,
          0.8754953201320819,
          0.8755058820589638,
          0.8753458158208304,
          0.8750287661508516,
          0.8751226959089843,
          0.8753844066621983,
          0.875533676315891,
          0.8754899775307601,
          0.875454809599144,
          0.8755455469114037,
          0.8752580526455402,
          0.8752182141223844,
          0.875271605012839,
          0.8749286582272513,
          0.8753274108828174,
          0.8755047992664553,
          0.8754665366094245,
          0.8754135016793454,
          0.8754770373946477,
          0.8754728904705843,
          0.8756924224635556,
          0.8754029622843756,
          0.875449888315714,
          0.8753815968144358,
          0.8755216431119697,
          0.8756948998471501,
          0.8755654172421684,
          0.8755214409504181,
          0.8753725356828443,
          0.8754710131994525,
          0.8755582247175567,
          0.8754160626686993,
          0.8751952881890196,
          0.8750985332721204
         ],
         "yaxis": "y3"
        },
        {
         "marker": {
          "color": "Darkgrey",
          "colorbar": {
           "title": {
            "text": "Trial"
           },
           "x": 1,
           "xpad": 40
          },
          "colorscale": [
           [
            0,
            "rgb(247,251,255)"
           ],
           [
            0.125,
            "rgb(222,235,247)"
           ],
           [
            0.25,
            "rgb(198,219,239)"
           ],
           [
            0.375,
            "rgb(158,202,225)"
           ],
           [
            0.5,
            "rgb(107,174,214)"
           ],
           [
            0.625,
            "rgb(66,146,198)"
           ],
           [
            0.75,
            "rgb(33,113,181)"
           ],
           [
            0.875,
            "rgb(8,81,156)"
           ],
           [
            1,
            "rgb(8,48,107)"
           ]
          ],
          "line": {
           "color": "Black",
           "width": 1
          },
          "opacity": 0.2,
          "showscale": false,
          "size": 3
         },
         "mode": "markers",
         "showlegend": false,
         "type": "scatter",
         "x": [
          6,
          18,
          9,
          14,
          6,
          3,
          14,
          2,
          6,
          17,
          19,
          12,
          10,
          7,
          7,
          13,
          8,
          10,
          11,
          8,
          11,
          19,
          20,
          19,
          20,
          3,
          4,
          3,
          4,
          4,
          4,
          16,
          3,
          4,
          1,
          1,
          1,
          1,
          1,
          5,
          1,
          5,
          16,
          5,
          5,
          5,
          5,
          5,
          5,
          5,
          5,
          5,
          5,
          5,
          7,
          7,
          6,
          7,
          7,
          7,
          7,
          7,
          6,
          8,
          8,
          8,
          9,
          9,
          8,
          9,
          9,
          9,
          6,
          6,
          6,
          6,
          6,
          6,
          6,
          6,
          6,
          6,
          6,
          6,
          6,
          6,
          6,
          6,
          6,
          6,
          4,
          4,
          4,
          4,
          4,
          2,
          4,
          4,
          4,
          3,
          2,
          7,
          7,
          7,
          7,
          7,
          7,
          7,
          7,
          7,
          7,
          7,
          8,
          8,
          8,
          8,
          8,
          8,
          10,
          8,
          8,
          8,
          10,
          8,
          12,
          12,
          5,
          10,
          10,
          9,
          9,
          9,
          9,
          7,
          9,
          11,
          9,
          11,
          11,
          11,
          11,
          9,
          11,
          9,
          9,
          9,
          10,
          10,
          10,
          10,
          13,
          12,
          13,
          13,
          13,
          10,
          10,
          13,
          11,
          13,
          14,
          13,
          13,
          14,
          13,
          14,
          14,
          14,
          14,
          14,
          14,
          14,
          14,
          15,
          14,
          15,
          15,
          15,
          15
         ],
         "xaxis": "x4",
         "y": [
          0.8719022753395407,
          0.8719022753395407,
          0.8719022753395407,
          0.8719022753395407,
          0.8719022753395407,
          0.8719022753395407,
          0.8719022753395407,
          0.8719022753395407,
          0.8533235970298179,
          0.8559907438940723,
          0.8361302772806434,
          0.8529366493371618,
          0.8492104219710829,
          0.8688386758703259,
          0.865628739217132,
          0.8259444270048506,
          0.8544510475979903,
          0.8738317145636282,
          0.8270966400954567,
          0.8684694632140427,
          0.8303860876266382,
          0.8658756157551164,
          0.8374982821341208,
          0.8704209798808522,
          0.8616993917942428,
          0.873443683991033,
          0.8740890241115455,
          0.8734871695476139,
          0.8735671147476106,
          0.8728723960560825,
          0.873830493454323,
          0.8351452228832151,
          0.8734663567959681,
          0.8738980054634228,
          0.867942086325493,
          0.8698677498026421,
          0.8701876459043003,
          0.8696854037320623,
          0.8668675601274488,
          0.8696267183492526,
          0.8632502578606605,
          0.8704916931535133,
          0.8583636478539072,
          0.8746803481809351,
          0.874360579025414,
          0.8746961434256736,
          0.8746961434256736,
          0.8749041304881908,
          0.87489187794198,
          0.8734411517492623,
          0.8746649471834649,
          0.8745971360847744,
          0.8744841473558422,
          0.8745321031114927,
          0.8741887455534141,
          0.8750828525950624,
          0.8749091334440996,
          0.8746936172306834,
          0.8745267169723284,
          0.8744178607448347,
          0.8744824313330412,
          0.8744075221944148,
          0.8753751758292369,
          0.8740555806442544,
          0.8738392053252764,
          0.8735402291838534,
          0.8718770525529683,
          0.8714784370635277,
          0.8736194618570569,
          0.8744155199456334,
          0.8745246929172866,
          0.8747011140728048,
          0.8748935264142512,
          0.8751931559926538,
          0.8749608008980709,
          0.8750036471127522,
          0.8748282963265048,
          0.8749248074401859,
          0.8753218295023343,
          0.8751644430396516,
          0.8750599385586462,
          0.8753266754219309,
          0.8750694295323924,
          0.8751964007445849,
          0.87468143726375,
          0.8749234657287877,
          0.8748498458295966,
          0.8753068652651189,
          0.8751971287764354,
          0.8752184935801971,
          0.8736609654608717,
          0.8738171104054056,
          0.8737460463068867,
          0.8727806098142226,
          0.8740867815416052,
          0.8718247864076002,
          0.8742402216897778,
          0.8730307374068126,
          0.8740521956315833,
          0.8709910358753483,
          0.8680634821847905,
          0.8752733779631475,
          0.8745234768252139,
          0.8743876420756962,
          0.8748456871488999,
          0.8752720800941061,
          0.8755095559092501,
          0.8755095559092501,
          0.8751952836366612,
          0.8754420581197657,
          0.8751420140387876,
          0.8751184328511676,
          0.8744284641461991,
          0.8742129247982394,
          0.8753902361432164,
          0.8747249562942802,
          0.875109860804228,
          0.8737390318083105,
          0.8748309192942918,
          0.8754847793659458,
          0.875516002034777,
          0.8752472145606012,
          0.8748365257153038,
          0.8752018012287526,
          0.874274707664577,
          0.8738955644880313,
          0.8753903625916395,
          0.8754230404827066,
          0.8752367573123676,
          0.8753306112793237,
          0.8753856743506491,
          0.8754130925607843,
          0.8751941094792539,
          0.8755222986396051,
          0.875577315397915,
          0.8751100909887557,
          0.8753667508353224,
          0.8753171345850637,
          0.8754627524687294,
          0.8754351087125757,
          0.8753734271684074,
          0.8753368172105939,
          0.8755012700160221,
          0.875353877033389,
          0.8751636836014768,
          0.8754953201320819,
          0.8755058820589638,
          0.8753458158208304,
          0.8750287661508516,
          0.8751226959089843,
          0.8753844066621983,
          0.875533676315891,
          0.8754899775307601,
          0.875454809599144,
          0.8755455469114037,
          0.8752580526455402,
          0.8752182141223844,
          0.875271605012839,
          0.8749286582272513,
          0.8753274108828174,
          0.8755047992664553,
          0.8754665366094245,
          0.8754135016793454,
          0.8754770373946477,
          0.8754728904705843,
          0.8756924224635556,
          0.8754029622843756,
          0.875449888315714,
          0.8753815968144358,
          0.8755216431119697,
          0.8756948998471501,
          0.8755654172421684,
          0.8755214409504181,
          0.8753725356828443,
          0.8754710131994525,
          0.8755582247175567,
          0.8754160626686993,
          0.8751952881890196,
          0.8750985332721204
         ],
         "yaxis": "y4"
        },
        {
         "marker": {
          "color": "Darkgrey",
          "colorbar": {
           "title": {
            "text": "Trial"
           },
           "x": 1,
           "xpad": 40
          },
          "colorscale": [
           [
            0,
            "rgb(247,251,255)"
           ],
           [
            0.125,
            "rgb(222,235,247)"
           ],
           [
            0.25,
            "rgb(198,219,239)"
           ],
           [
            0.375,
            "rgb(158,202,225)"
           ],
           [
            0.5,
            "rgb(107,174,214)"
           ],
           [
            0.625,
            "rgb(66,146,198)"
           ],
           [
            0.75,
            "rgb(33,113,181)"
           ],
           [
            0.875,
            "rgb(8,81,156)"
           ],
           [
            1,
            "rgb(8,48,107)"
           ]
          ],
          "line": {
           "color": "Black",
           "width": 1
          },
          "opacity": 0.2,
          "showscale": false,
          "size": 3
         },
         "mode": "markers",
         "showlegend": false,
         "type": "scatter",
         "x": [
          0.34351756453528165,
          1.3326087170966583,
          6.818448994206038,
          3.8381971303578437,
          0.6325664673006121,
          4.617247012594344,
          0.49214511764426605,
          8.095437002619885,
          0.14565483881466118,
          0.12781801950475882,
          0.6626242062055318,
          1.3509950361107848,
          0.20626753575806372,
          1.5960567661532903,
          0.21879356771257405,
          0.510730430003571,
          1.9686395391543317,
          0.2918319680924636,
          1.7033378881534147,
          1.794588179527956,
          0.2698959982049857,
          0.32472559015496866,
          0.335881194091299,
          0.31570248558083497,
          0.3286244399097615,
          0.33793924239995704,
          0.30190182130577276,
          0.30769686744343233,
          0.34097919825733597,
          0.9268850762074259,
          0.7280092991368278,
          0.9728733952319742,
          0.10135794389120056,
          0.1095217331015654,
          0.18863554464110885,
          0.1026723723003206,
          0.16901205539298061,
          0.10145250384687615,
          0.44681576079643953,
          0.44862151652427085,
          0.19085654875214444,
          0.1641670070735702,
          0.1594922417104804,
          0.24785735669541234,
          0.1450367344799785,
          0.2360959423458205,
          0.2314930294583439,
          0.2437014168921732,
          0.13937566322202563,
          0.22697336084509012,
          0.25844598151672893,
          0.13635382860860099,
          0.1282559304182598,
          0.13436438830498368,
          0.12570567212727904,
          0.2299380052879841,
          0.23969574959416418,
          0.23179492710133592,
          0.24014089105869618,
          0.2600221725362463,
          0.24333708937237275,
          0.25013208121002417,
          0.24529758291837286,
          0.23514203907122586,
          0.20616714405505213,
          0.19582278773877831,
          0.19509922470242558,
          0.17115528978253888,
          0.20232284420044575,
          0.20252229794790605,
          0.19819375399184944,
          0.19774051668793652,
          0.38196484929273167,
          0.1794023191525832,
          0.37320708003934466,
          0.2832801129229213,
          0.38728524551927446,
          0.403099499075508,
          0.40330408361146697,
          0.28496828624004494,
          0.2964662704498379,
          0.3964102399142923,
          0.3762791036873438,
          0.38484187517727464,
          0.29081606122667636,
          0.2856121987859023,
          0.27462887567985206,
          0.5216896361791517,
          0.2976733652641339,
          0.28772477006732744,
          0.2911489856219764,
          0.30153047686380985,
          0.5721723636000515,
          0.518118148308221,
          0.5244271930655438,
          0.4995810690686313,
          0.48585825963462,
          0.5503888253645395,
          0.5395163936148193,
          0.4817456507226218,
          0.4503668446169456,
          0.34151705325916176,
          0.3472967413315254,
          0.34410656576472576,
          0.3286002253768873,
          0.3443496604494165,
          0.4290721415796292,
          0.330052086502989,
          0.3339252210145794,
          0.35259890705484526,
          0.32130701672595524,
          0.4320957054749675,
          0.40762466876202835,
          0.4231446078094231,
          0.4049354772488552,
          0.42276537249408164,
          0.4277192418359826,
          0.6161106160491623,
          0.419789366502102,
          0.4215301990755445,
          0.35641630985617806,
          0.34785629741357843,
          0.35874033666957283,
          0.35814994260875205,
          0.3656221184954632,
          0.36317448161243393,
          0.3707927476101002,
          0.35519645097301694,
          0.36735201805139184,
          0.35300691573327947,
          0.3611583760377797,
          0.46130553470624275,
          0.3210730301246325,
          0.4548544649513744,
          0.4520792494126969,
          0.46984163611502777,
          0.47153397836907185,
          0.4861907100899406,
          0.46434312195960575,
          0.48065267008175433,
          0.4001743544158634,
          0.48645157524198973,
          0.46588663422367976,
          0.45749803098775205,
          0.4601529190402986,
          0.4507505082322478,
          0.5866496228568625,
          0.5917148126722815,
          0.6424556782611455,
          0.6189376319028674,
          0.6063954086934978,
          0.6306846832013491,
          0.6035126193862181,
          0.6499521220895882,
          0.6439469337070759,
          0.6108136685469084,
          0.6959833228122638,
          0.6881544802452133,
          0.536726141427355,
          0.5607081969617121,
          0.6747417550522715,
          0.7014732326886338,
          0.6941467687255697,
          0.6625883552275162,
          0.7495947962889334,
          0.7489092747222146,
          0.8543177196486038,
          0.7762610380756324,
          0.7943718517175541,
          0.7357284548624866,
          0.780312977508543,
          0.7557608277328943,
          0.7591977288185227,
          0.7619081004769152,
          0.7358060058950175,
          0.7901640749422483,
          0.7431256497198708,
          0.7812741014862715,
          0.7733055652517602
         ],
         "xaxis": "x5",
         "y": [
          0.8719022753395407,
          0.8719022753395407,
          0.8719022753395407,
          0.8719022753395407,
          0.8719022753395407,
          0.8719022753395407,
          0.8719022753395407,
          0.8719022753395407,
          0.8533235970298179,
          0.8559907438940723,
          0.8361302772806434,
          0.8529366493371618,
          0.8492104219710829,
          0.8688386758703259,
          0.865628739217132,
          0.8259444270048506,
          0.8544510475979903,
          0.8738317145636282,
          0.8270966400954567,
          0.8684694632140427,
          0.8303860876266382,
          0.8658756157551164,
          0.8374982821341208,
          0.8704209798808522,
          0.8616993917942428,
          0.873443683991033,
          0.8740890241115455,
          0.8734871695476139,
          0.8735671147476106,
          0.8728723960560825,
          0.873830493454323,
          0.8351452228832151,
          0.8734663567959681,
          0.8738980054634228,
          0.867942086325493,
          0.8698677498026421,
          0.8701876459043003,
          0.8696854037320623,
          0.8668675601274488,
          0.8696267183492526,
          0.8632502578606605,
          0.8704916931535133,
          0.8583636478539072,
          0.8746803481809351,
          0.874360579025414,
          0.8746961434256736,
          0.8746961434256736,
          0.8749041304881908,
          0.87489187794198,
          0.8734411517492623,
          0.8746649471834649,
          0.8745971360847744,
          0.8744841473558422,
          0.8745321031114927,
          0.8741887455534141,
          0.8750828525950624,
          0.8749091334440996,
          0.8746936172306834,
          0.8745267169723284,
          0.8744178607448347,
          0.8744824313330412,
          0.8744075221944148,
          0.8753751758292369,
          0.8740555806442544,
          0.8738392053252764,
          0.8735402291838534,
          0.8718770525529683,
          0.8714784370635277,
          0.8736194618570569,
          0.8744155199456334,
          0.8745246929172866,
          0.8747011140728048,
          0.8748935264142512,
          0.8751931559926538,
          0.8749608008980709,
          0.8750036471127522,
          0.8748282963265048,
          0.8749248074401859,
          0.8753218295023343,
          0.8751644430396516,
          0.8750599385586462,
          0.8753266754219309,
          0.8750694295323924,
          0.8751964007445849,
          0.87468143726375,
          0.8749234657287877,
          0.8748498458295966,
          0.8753068652651189,
          0.8751971287764354,
          0.8752184935801971,
          0.8736609654608717,
          0.8738171104054056,
          0.8737460463068867,
          0.8727806098142226,
          0.8740867815416052,
          0.8718247864076002,
          0.8742402216897778,
          0.8730307374068126,
          0.8740521956315833,
          0.8709910358753483,
          0.8680634821847905,
          0.8752733779631475,
          0.8745234768252139,
          0.8743876420756962,
          0.8748456871488999,
          0.8752720800941061,
          0.8755095559092501,
          0.8755095559092501,
          0.8751952836366612,
          0.8754420581197657,
          0.8751420140387876,
          0.8751184328511676,
          0.8744284641461991,
          0.8742129247982394,
          0.8753902361432164,
          0.8747249562942802,
          0.875109860804228,
          0.8737390318083105,
          0.8748309192942918,
          0.8754847793659458,
          0.875516002034777,
          0.8752472145606012,
          0.8748365257153038,
          0.8752018012287526,
          0.874274707664577,
          0.8738955644880313,
          0.8753903625916395,
          0.8754230404827066,
          0.8752367573123676,
          0.8753306112793237,
          0.8753856743506491,
          0.8754130925607843,
          0.8751941094792539,
          0.8755222986396051,
          0.875577315397915,
          0.8751100909887557,
          0.8753667508353224,
          0.8753171345850637,
          0.8754627524687294,
          0.8754351087125757,
          0.8753734271684074,
          0.8753368172105939,
          0.8755012700160221,
          0.875353877033389,
          0.8751636836014768,
          0.8754953201320819,
          0.8755058820589638,
          0.8753458158208304,
          0.8750287661508516,
          0.8751226959089843,
          0.8753844066621983,
          0.875533676315891,
          0.8754899775307601,
          0.875454809599144,
          0.8755455469114037,
          0.8752580526455402,
          0.8752182141223844,
          0.875271605012839,
          0.8749286582272513,
          0.8753274108828174,
          0.8755047992664553,
          0.8754665366094245,
          0.8754135016793454,
          0.8754770373946477,
          0.8754728904705843,
          0.8756924224635556,
          0.8754029622843756,
          0.875449888315714,
          0.8753815968144358,
          0.8755216431119697,
          0.8756948998471501,
          0.8755654172421684,
          0.8755214409504181,
          0.8753725356828443,
          0.8754710131994525,
          0.8755582247175567,
          0.8754160626686993,
          0.8751952881890196,
          0.8750985332721204
         ],
         "yaxis": "y5"
        },
        {
         "marker": {
          "color": "Darkgrey",
          "colorbar": {
           "title": {
            "text": "Trial"
           },
           "x": 1,
           "xpad": 40
          },
          "colorscale": [
           [
            0,
            "rgb(247,251,255)"
           ],
           [
            0.125,
            "rgb(222,235,247)"
           ],
           [
            0.25,
            "rgb(198,219,239)"
           ],
           [
            0.375,
            "rgb(158,202,225)"
           ],
           [
            0.5,
            "rgb(107,174,214)"
           ],
           [
            0.625,
            "rgb(66,146,198)"
           ],
           [
            0.75,
            "rgb(33,113,181)"
           ],
           [
            0.875,
            "rgb(8,81,156)"
           ],
           [
            1,
            "rgb(8,48,107)"
           ]
          ],
          "line": {
           "color": "Black",
           "width": 1
          },
          "opacity": 0.2,
          "showscale": false,
          "size": 3
         },
         "mode": "markers",
         "showlegend": false,
         "type": "scatter",
         "x": [
          15,
          33,
          23,
          10,
          135,
          14,
          17,
          18,
          91,
          53,
          50,
          81,
          77,
          11,
          38,
          76,
          29,
          37,
          32,
          29,
          30,
          29,
          28,
          29,
          26,
          25,
          23,
          22,
          25,
          21,
          21,
          40,
          20,
          20,
          21,
          40,
          43,
          38,
          20,
          15,
          15,
          40,
          15,
          16,
          15,
          14,
          17,
          17,
          25,
          23,
          17,
          17,
          12,
          12,
          12,
          17,
          12,
          12,
          12,
          12,
          12,
          17,
          17,
          10,
          10,
          13,
          10,
          10,
          18,
          14,
          14,
          14,
          14,
          18,
          14,
          14,
          14,
          18,
          19,
          18,
          14,
          19,
          19,
          19,
          19,
          18,
          19,
          19,
          19,
          20,
          19,
          19,
          19,
          19,
          22,
          22,
          22,
          22,
          22,
          22,
          23,
          23,
          16,
          16,
          16,
          16,
          26,
          24,
          16,
          24,
          16,
          20,
          24,
          24,
          26,
          25,
          26,
          27,
          25,
          27,
          27,
          27,
          26,
          27,
          27,
          31,
          30,
          31,
          31,
          31,
          30,
          30,
          31,
          31,
          34,
          34,
          31,
          33,
          29,
          33,
          36,
          33,
          34,
          29,
          29,
          35,
          29,
          29,
          29,
          29,
          29,
          29,
          29,
          35,
          35,
          35,
          35,
          35,
          35,
          34,
          35,
          35,
          35,
          37,
          33,
          37,
          33,
          37,
          38,
          38,
          38,
          38,
          37,
          39,
          38,
          40,
          40,
          39,
          40
         ],
         "xaxis": "x6",
         "y": [
          0.8719022753395407,
          0.8719022753395407,
          0.8719022753395407,
          0.8719022753395407,
          0.8719022753395407,
          0.8719022753395407,
          0.8719022753395407,
          0.8719022753395407,
          0.8533235970298179,
          0.8559907438940723,
          0.8361302772806434,
          0.8529366493371618,
          0.8492104219710829,
          0.8688386758703259,
          0.865628739217132,
          0.8259444270048506,
          0.8544510475979903,
          0.8738317145636282,
          0.8270966400954567,
          0.8684694632140427,
          0.8303860876266382,
          0.8658756157551164,
          0.8374982821341208,
          0.8704209798808522,
          0.8616993917942428,
          0.873443683991033,
          0.8740890241115455,
          0.8734871695476139,
          0.8735671147476106,
          0.8728723960560825,
          0.873830493454323,
          0.8351452228832151,
          0.8734663567959681,
          0.8738980054634228,
          0.867942086325493,
          0.8698677498026421,
          0.8701876459043003,
          0.8696854037320623,
          0.8668675601274488,
          0.8696267183492526,
          0.8632502578606605,
          0.8704916931535133,
          0.8583636478539072,
          0.8746803481809351,
          0.874360579025414,
          0.8746961434256736,
          0.8746961434256736,
          0.8749041304881908,
          0.87489187794198,
          0.8734411517492623,
          0.8746649471834649,
          0.8745971360847744,
          0.8744841473558422,
          0.8745321031114927,
          0.8741887455534141,
          0.8750828525950624,
          0.8749091334440996,
          0.8746936172306834,
          0.8745267169723284,
          0.8744178607448347,
          0.8744824313330412,
          0.8744075221944148,
          0.8753751758292369,
          0.8740555806442544,
          0.8738392053252764,
          0.8735402291838534,
          0.8718770525529683,
          0.8714784370635277,
          0.8736194618570569,
          0.8744155199456334,
          0.8745246929172866,
          0.8747011140728048,
          0.8748935264142512,
          0.8751931559926538,
          0.8749608008980709,
          0.8750036471127522,
          0.8748282963265048,
          0.8749248074401859,
          0.8753218295023343,
          0.8751644430396516,
          0.8750599385586462,
          0.8753266754219309,
          0.8750694295323924,
          0.8751964007445849,
          0.87468143726375,
          0.8749234657287877,
          0.8748498458295966,
          0.8753068652651189,
          0.8751971287764354,
          0.8752184935801971,
          0.8736609654608717,
          0.8738171104054056,
          0.8737460463068867,
          0.8727806098142226,
          0.8740867815416052,
          0.8718247864076002,
          0.8742402216897778,
          0.8730307374068126,
          0.8740521956315833,
          0.8709910358753483,
          0.8680634821847905,
          0.8752733779631475,
          0.8745234768252139,
          0.8743876420756962,
          0.8748456871488999,
          0.8752720800941061,
          0.8755095559092501,
          0.8755095559092501,
          0.8751952836366612,
          0.8754420581197657,
          0.8751420140387876,
          0.8751184328511676,
          0.8744284641461991,
          0.8742129247982394,
          0.8753902361432164,
          0.8747249562942802,
          0.875109860804228,
          0.8737390318083105,
          0.8748309192942918,
          0.8754847793659458,
          0.875516002034777,
          0.8752472145606012,
          0.8748365257153038,
          0.8752018012287526,
          0.874274707664577,
          0.8738955644880313,
          0.8753903625916395,
          0.8754230404827066,
          0.8752367573123676,
          0.8753306112793237,
          0.8753856743506491,
          0.8754130925607843,
          0.8751941094792539,
          0.8755222986396051,
          0.875577315397915,
          0.8751100909887557,
          0.8753667508353224,
          0.8753171345850637,
          0.8754627524687294,
          0.8754351087125757,
          0.8753734271684074,
          0.8753368172105939,
          0.8755012700160221,
          0.875353877033389,
          0.8751636836014768,
          0.8754953201320819,
          0.8755058820589638,
          0.8753458158208304,
          0.8750287661508516,
          0.8751226959089843,
          0.8753844066621983,
          0.875533676315891,
          0.8754899775307601,
          0.875454809599144,
          0.8755455469114037,
          0.8752580526455402,
          0.8752182141223844,
          0.875271605012839,
          0.8749286582272513,
          0.8753274108828174,
          0.8755047992664553,
          0.8754665366094245,
          0.8754135016793454,
          0.8754770373946477,
          0.8754728904705843,
          0.8756924224635556,
          0.8754029622843756,
          0.875449888315714,
          0.8753815968144358,
          0.8755216431119697,
          0.8756948998471501,
          0.8755654172421684,
          0.8755214409504181,
          0.8753725356828443,
          0.8754710131994525,
          0.8755582247175567,
          0.8754160626686993,
          0.8751952881890196,
          0.8750985332721204
         ],
         "yaxis": "y6"
        },
        {
         "marker": {
          "color": "Darkgrey",
          "colorbar": {
           "title": {
            "text": "Trial"
           },
           "x": 1,
           "xpad": 40
          },
          "colorscale": [
           [
            0,
            "rgb(247,251,255)"
           ],
           [
            0.125,
            "rgb(222,235,247)"
           ],
           [
            0.25,
            "rgb(198,219,239)"
           ],
           [
            0.375,
            "rgb(158,202,225)"
           ],
           [
            0.5,
            "rgb(107,174,214)"
           ],
           [
            0.625,
            "rgb(66,146,198)"
           ],
           [
            0.75,
            "rgb(33,113,181)"
           ],
           [
            0.875,
            "rgb(8,81,156)"
           ],
           [
            1,
            "rgb(8,48,107)"
           ]
          ],
          "line": {
           "color": "Black",
           "width": 1
          },
          "opacity": 0.2,
          "showscale": false,
          "size": 3
         },
         "mode": "markers",
         "showlegend": false,
         "type": "scatter",
         "x": [
          0.5011169563583714,
          0.5681218704479398,
          0.5027995739923166,
          0.5313457756673516,
          0.4717658767137029,
          0.4538551748313981,
          0.5498928707573632,
          0.591933811407886,
          0.41429343106393346,
          0.47649771626048865,
          0.540346749419167,
          0.5543446772065876,
          0.5619714578846036,
          0.48806767578956406,
          0.48965720535036844,
          0.4980330528381065,
          0.45734901404902917,
          0.5151048667113889,
          0.5895641167638999,
          0.5976152699064494,
          0.5963409957381618,
          0.5204648615132036,
          0.5142442806761449,
          0.5967388929406999,
          0.5948790517673672,
          0.5167119161492675,
          0.5282264242091015,
          0.5177270861792642,
          0.5198920305699821,
          0.5192407430018783,
          0.5721478830552936,
          0.5705256920060993,
          0.5250007230630674,
          0.5193461152927417,
          0.5292843819820837,
          0.5314671304609312,
          0.534694465489037,
          0.5392127373499397,
          0.533314343171204,
          0.5385942348966055,
          0.5382631314018375,
          0.5395685723520893,
          0.5733012692612042,
          0.5739269435373717,
          0.5679490734878578,
          0.5467129951862423,
          0.5091101496375524,
          0.506922035356841,
          0.5046971781964157,
          0.5047790511952184,
          0.5705881391853279,
          0.5495481934576578,
          0.5073100998102813,
          0.549562791614109,
          0.5559304091884154,
          0.5533368392781306,
          0.5050484339714733,
          0.5503726386871493,
          0.5487297902041511,
          0.5798353780752836,
          0.5820785862552256,
          0.4919297364745372,
          0.5812138639919521,
          0.5820360295283858,
          0.4972831926737184,
          0.4950320775458431,
          0.49567022096989605,
          0.49740595553440214,
          0.4897713902147356,
          0.5095792447894503,
          0.5082502515277986,
          0.49809550101459954,
          0.5096275461969179,
          0.5092326829161713,
          0.5095532517931946,
          0.48212906358992297,
          0.5093837795428855,
          0.5115516222857457,
          0.5598493626028491,
          0.48087899657499295,
          0.4831893811861283,
          0.481809342637502,
          0.4828777786680411,
          0.47723725755939955,
          0.4843355344271011,
          0.4807065332565239,
          0.48275069560178363,
          0.48256247305186223,
          0.48265750252659756,
          0.4838771074117244,
          0.4817100202375503,
          0.46770110477184035,
          0.4711544653674366,
          0.47251064430929723,
          0.46977367827312666,
          0.47059047084502764,
          0.4720325813846666,
          0.47240933343460734,
          0.47383781176241924,
          0.4727899232538662,
          0.4770961090795374,
          0.47631956176209866,
          0.4763366593076363,
          0.4762208630530821,
          0.47687186300316575,
          0.4880959043914005,
          0.47642800922056866,
          0.48916800881793604,
          0.49024171694019725,
          0.49170089217158475,
          0.4879619020535728,
          0.4660638339827936,
          0.4604835340799895,
          0.4867656434264754,
          0.48754112473125194,
          0.4863006886611586,
          0.4657918892191228,
          0.5007148640527835,
          0.5008369323106596,
          0.501824285816601,
          0.501125983013977,
          0.5014109711435447,
          0.49423773389570247,
          0.492673840457706,
          0.49384271058264323,
          0.4917116703429371,
          0.49246068968449536,
          0.4933784900014504,
          0.4923042573831547,
          0.49306618075022346,
          0.4937422666711116,
          0.5029524234325922,
          0.5017722075004737,
          0.48802149440854825,
          0.4889263539142102,
          0.5034058719225389,
          0.5029530528555364,
          0.5024754435900024,
          0.5018531835751285,
          0.4976958637268718,
          0.4970861767463782,
          0.4982339240899871,
          0.4983583465818888,
          0.4974484928690996,
          0.4983497639047141,
          0.5131738746677172,
          0.4975486452487713,
          0.4981250613841947,
          0.49783989713963445,
          0.5147990417297258,
          0.4886224004584231,
          0.4956160898351232,
          0.48850017644632915,
          0.514186198632185,
          0.5139647323717319,
          0.5124005112821284,
          0.5059099472475888,
          0.5055734653959533,
          0.5050870904700048,
          0.5065000361604439,
          0.5136468188165535,
          0.5161971153374457,
          0.5134134938505535,
          0.5167317055267333,
          0.5184384916374553,
          0.5162974064882687,
          0.5163935913649723,
          0.5155928806384299,
          0.5160248471154255,
          0.5226752430342082,
          0.5208166272698982,
          0.519767588482204,
          0.5207850626913391,
          0.5220124047116436,
          0.5231715162191956,
          0.5277784930056334,
          0.5230661063702348,
          0.5243884193079155,
          0.52345546822509
         ],
         "xaxis": "x7",
         "y": [
          0.8719022753395407,
          0.8719022753395407,
          0.8719022753395407,
          0.8719022753395407,
          0.8719022753395407,
          0.8719022753395407,
          0.8719022753395407,
          0.8719022753395407,
          0.8533235970298179,
          0.8559907438940723,
          0.8361302772806434,
          0.8529366493371618,
          0.8492104219710829,
          0.8688386758703259,
          0.865628739217132,
          0.8259444270048506,
          0.8544510475979903,
          0.8738317145636282,
          0.8270966400954567,
          0.8684694632140427,
          0.8303860876266382,
          0.8658756157551164,
          0.8374982821341208,
          0.8704209798808522,
          0.8616993917942428,
          0.873443683991033,
          0.8740890241115455,
          0.8734871695476139,
          0.8735671147476106,
          0.8728723960560825,
          0.873830493454323,
          0.8351452228832151,
          0.8734663567959681,
          0.8738980054634228,
          0.867942086325493,
          0.8698677498026421,
          0.8701876459043003,
          0.8696854037320623,
          0.8668675601274488,
          0.8696267183492526,
          0.8632502578606605,
          0.8704916931535133,
          0.8583636478539072,
          0.8746803481809351,
          0.874360579025414,
          0.8746961434256736,
          0.8746961434256736,
          0.8749041304881908,
          0.87489187794198,
          0.8734411517492623,
          0.8746649471834649,
          0.8745971360847744,
          0.8744841473558422,
          0.8745321031114927,
          0.8741887455534141,
          0.8750828525950624,
          0.8749091334440996,
          0.8746936172306834,
          0.8745267169723284,
          0.8744178607448347,
          0.8744824313330412,
          0.8744075221944148,
          0.8753751758292369,
          0.8740555806442544,
          0.8738392053252764,
          0.8735402291838534,
          0.8718770525529683,
          0.8714784370635277,
          0.8736194618570569,
          0.8744155199456334,
          0.8745246929172866,
          0.8747011140728048,
          0.8748935264142512,
          0.8751931559926538,
          0.8749608008980709,
          0.8750036471127522,
          0.8748282963265048,
          0.8749248074401859,
          0.8753218295023343,
          0.8751644430396516,
          0.8750599385586462,
          0.8753266754219309,
          0.8750694295323924,
          0.8751964007445849,
          0.87468143726375,
          0.8749234657287877,
          0.8748498458295966,
          0.8753068652651189,
          0.8751971287764354,
          0.8752184935801971,
          0.8736609654608717,
          0.8738171104054056,
          0.8737460463068867,
          0.8727806098142226,
          0.8740867815416052,
          0.8718247864076002,
          0.8742402216897778,
          0.8730307374068126,
          0.8740521956315833,
          0.8709910358753483,
          0.8680634821847905,
          0.8752733779631475,
          0.8745234768252139,
          0.8743876420756962,
          0.8748456871488999,
          0.8752720800941061,
          0.8755095559092501,
          0.8755095559092501,
          0.8751952836366612,
          0.8754420581197657,
          0.8751420140387876,
          0.8751184328511676,
          0.8744284641461991,
          0.8742129247982394,
          0.8753902361432164,
          0.8747249562942802,
          0.875109860804228,
          0.8737390318083105,
          0.8748309192942918,
          0.8754847793659458,
          0.875516002034777,
          0.8752472145606012,
          0.8748365257153038,
          0.8752018012287526,
          0.874274707664577,
          0.8738955644880313,
          0.8753903625916395,
          0.8754230404827066,
          0.8752367573123676,
          0.8753306112793237,
          0.8753856743506491,
          0.8754130925607843,
          0.8751941094792539,
          0.8755222986396051,
          0.875577315397915,
          0.8751100909887557,
          0.8753667508353224,
          0.8753171345850637,
          0.8754627524687294,
          0.8754351087125757,
          0.8753734271684074,
          0.8753368172105939,
          0.8755012700160221,
          0.875353877033389,
          0.8751636836014768,
          0.8754953201320819,
          0.8755058820589638,
          0.8753458158208304,
          0.8750287661508516,
          0.8751226959089843,
          0.8753844066621983,
          0.875533676315891,
          0.8754899775307601,
          0.875454809599144,
          0.8755455469114037,
          0.8752580526455402,
          0.8752182141223844,
          0.875271605012839,
          0.8749286582272513,
          0.8753274108828174,
          0.8755047992664553,
          0.8754665366094245,
          0.8754135016793454,
          0.8754770373946477,
          0.8754728904705843,
          0.8756924224635556,
          0.8754029622843756,
          0.875449888315714,
          0.8753815968144358,
          0.8755216431119697,
          0.8756948998471501,
          0.8755654172421684,
          0.8755214409504181,
          0.8753725356828443,
          0.8754710131994525,
          0.8755582247175567,
          0.8754160626686993,
          0.8751952881890196,
          0.8750985332721204
         ],
         "yaxis": "y7"
        },
        {
         "marker": {
          "color": "Darkgrey",
          "colorbar": {
           "title": {
            "text": "Trial"
           },
           "x": 1,
           "xpad": 40
          },
          "colorscale": [
           [
            0,
            "rgb(247,251,255)"
           ],
           [
            0.125,
            "rgb(222,235,247)"
           ],
           [
            0.25,
            "rgb(198,219,239)"
           ],
           [
            0.375,
            "rgb(158,202,225)"
           ],
           [
            0.5,
            "rgb(107,174,214)"
           ],
           [
            0.625,
            "rgb(66,146,198)"
           ],
           [
            0.75,
            "rgb(33,113,181)"
           ],
           [
            0.875,
            "rgb(8,81,156)"
           ],
           [
            1,
            "rgb(8,48,107)"
           ]
          ],
          "line": {
           "color": "Black",
           "width": 1
          },
          "opacity": 0.2,
          "showscale": false,
          "size": 3
         },
         "mode": "markers",
         "showlegend": false,
         "type": "scatter",
         "x": [
          0.712514788185299,
          0.9915315014011037,
          0.6999968004366779,
          0.7234837723740906,
          0.9398763259541794,
          0.8432884713731519,
          0.7940125465068217,
          0.933746701064647,
          0.9402839057405037,
          0.9705194416017981,
          0.7558911005401643,
          0.6326106411593195,
          0.6093294276171435,
          0.4271986885449087,
          0.38244167211207,
          0.6528509012931254,
          0.40756696486991006,
          0.5313436821188992,
          0.5569469983813568,
          0.5254620421865686,
          0.6002504477531405,
          0.5717095957293576,
          0.8649212464049202,
          0.9974342597546049,
          0.5464324579112554,
          0.5203568797744753,
          0.5163688787079749,
          0.32441293864620585,
          0.8334683314743416,
          0.8670208139618953,
          0.9979503898916887,
          0.5048166064517055,
          0.496364040292134,
          0.491573487953064,
          0.3206435504204551,
          0.4530220630979111,
          0.47601577489634045,
          0.47012192689459065,
          0.49359494218438554,
          0.46728932327710865,
          0.47948920184683697,
          0.4592828110216578,
          0.47550635132485164,
          0.6983881828490166,
          0.678415517250586,
          0.6678059087364452,
          0.689239692306669,
          0.667636192134754,
          0.6904474682892787,
          0.6828116420143836,
          0.7010829322787473,
          0.6850285256508927,
          0.6703805879382931,
          0.6874739007435627,
          0.6871995810577791,
          0.7006691700457243,
          0.7119871387817089,
          0.723118741935139,
          0.72817027368828,
          0.7341409365306995,
          0.7226308064490804,
          0.7344557602889915,
          0.7307024297842635,
          0.7407653167764188,
          0.7244795860731522,
          0.75065997580389,
          0.6464483572625614,
          0.6481926978513065,
          0.6550814875644929,
          0.6457893346991532,
          0.6434174736123713,
          0.6541673087934127,
          0.6333783628889227,
          0.6337052472101213,
          0.7755307274378876,
          0.769070331749691,
          0.7662997207089763,
          0.7696577216142406,
          0.7781824536057533,
          0.7677599386702424,
          0.6190551022655574,
          0.6208883286020146,
          0.7758540911854082,
          0.7705292521441487,
          0.625262720744741,
          0.7718523567066089,
          0.7892107499785651,
          0.77502527753646,
          0.7778881193434962,
          0.791623247376195,
          0.8097165232875925,
          0.7980921445955985,
          0.7947036159887485,
          0.8212207575381667,
          0.8043205669785835,
          0.7518031656110498,
          0.8058263730439804,
          0.8120539335030218,
          0.8036403695962522,
          0.7534312701052067,
          0.7511963151509151,
          0.7512243672428167,
          0.8415464763214408,
          0.7505228602755447,
          0.7089729388528877,
          0.7084081126290815,
          0.7080785282307029,
          0.8477451580108816,
          0.708237501747081,
          0.7870014184440287,
          0.7856544255775452,
          0.7048362511888292,
          0.7227312399143347,
          0.7887642192652577,
          0.7867026959490963,
          0.7877993366985249,
          0.7852143990669993,
          0.785069623848726,
          0.8283370435401801,
          0.738588973621938,
          0.8258113378433195,
          0.8338964984593646,
          0.8627818974597105,
          0.7422321101514031,
          0.8612069093167138,
          0.8242481920236739,
          0.7346960805554815,
          0.7416176440921831,
          0.8665838709871152,
          0.8442257912375417,
          0.8492167118944741,
          0.8492173001590325,
          0.8199927290570727,
          0.7174295004426056,
          0.7387663492775175,
          0.733904168719679,
          0.7427790101002382,
          0.8442469022264389,
          0.8507655783399061,
          0.8442885038799932,
          0.8528743213862279,
          0.8442832391709053,
          0.8502973199472054,
          0.8868148651977472,
          0.7382632414615345,
          0.8831694891920524,
          0.878166176887574,
          0.8883704968241316,
          0.7226885099529634,
          0.7216989220951261,
          0.8913014137514282,
          0.8992533579654973,
          0.8911393141064811,
          0.8902830494743105,
          0.8841189368959509,
          0.8748778164896839,
          0.8854203669922492,
          0.8695279293747974,
          0.8705151103823947,
          0.8755699319865582,
          0.883588476512913,
          0.9052329260542227,
          0.9023185463374499,
          0.9189474220919692,
          0.9124604684938404,
          0.9032386177151805,
          0.9079207779413507,
          0.9113083080869557,
          0.9037755966995403,
          0.9057807562459836,
          0.9101978401379107,
          0.9121066141032989,
          0.913413663629104,
          0.9147845707792697,
          0.9174466791547299,
          0.9236156300297982,
          0.9248020766995108,
          0.9244673974402158,
          0.9369517965430468
         ],
         "xaxis": "x8",
         "y": [
          0.8719022753395407,
          0.8719022753395407,
          0.8719022753395407,
          0.8719022753395407,
          0.8719022753395407,
          0.8719022753395407,
          0.8719022753395407,
          0.8719022753395407,
          0.8533235970298179,
          0.8559907438940723,
          0.8361302772806434,
          0.8529366493371618,
          0.8492104219710829,
          0.8688386758703259,
          0.865628739217132,
          0.8259444270048506,
          0.8544510475979903,
          0.8738317145636282,
          0.8270966400954567,
          0.8684694632140427,
          0.8303860876266382,
          0.8658756157551164,
          0.8374982821341208,
          0.8704209798808522,
          0.8616993917942428,
          0.873443683991033,
          0.8740890241115455,
          0.8734871695476139,
          0.8735671147476106,
          0.8728723960560825,
          0.873830493454323,
          0.8351452228832151,
          0.8734663567959681,
          0.8738980054634228,
          0.867942086325493,
          0.8698677498026421,
          0.8701876459043003,
          0.8696854037320623,
          0.8668675601274488,
          0.8696267183492526,
          0.8632502578606605,
          0.8704916931535133,
          0.8583636478539072,
          0.8746803481809351,
          0.874360579025414,
          0.8746961434256736,
          0.8746961434256736,
          0.8749041304881908,
          0.87489187794198,
          0.8734411517492623,
          0.8746649471834649,
          0.8745971360847744,
          0.8744841473558422,
          0.8745321031114927,
          0.8741887455534141,
          0.8750828525950624,
          0.8749091334440996,
          0.8746936172306834,
          0.8745267169723284,
          0.8744178607448347,
          0.8744824313330412,
          0.8744075221944148,
          0.8753751758292369,
          0.8740555806442544,
          0.8738392053252764,
          0.8735402291838534,
          0.8718770525529683,
          0.8714784370635277,
          0.8736194618570569,
          0.8744155199456334,
          0.8745246929172866,
          0.8747011140728048,
          0.8748935264142512,
          0.8751931559926538,
          0.8749608008980709,
          0.8750036471127522,
          0.8748282963265048,
          0.8749248074401859,
          0.8753218295023343,
          0.8751644430396516,
          0.8750599385586462,
          0.8753266754219309,
          0.8750694295323924,
          0.8751964007445849,
          0.87468143726375,
          0.8749234657287877,
          0.8748498458295966,
          0.8753068652651189,
          0.8751971287764354,
          0.8752184935801971,
          0.8736609654608717,
          0.8738171104054056,
          0.8737460463068867,
          0.8727806098142226,
          0.8740867815416052,
          0.8718247864076002,
          0.8742402216897778,
          0.8730307374068126,
          0.8740521956315833,
          0.8709910358753483,
          0.8680634821847905,
          0.8752733779631475,
          0.8745234768252139,
          0.8743876420756962,
          0.8748456871488999,
          0.8752720800941061,
          0.8755095559092501,
          0.8755095559092501,
          0.8751952836366612,
          0.8754420581197657,
          0.8751420140387876,
          0.8751184328511676,
          0.8744284641461991,
          0.8742129247982394,
          0.8753902361432164,
          0.8747249562942802,
          0.875109860804228,
          0.8737390318083105,
          0.8748309192942918,
          0.8754847793659458,
          0.875516002034777,
          0.8752472145606012,
          0.8748365257153038,
          0.8752018012287526,
          0.874274707664577,
          0.8738955644880313,
          0.8753903625916395,
          0.8754230404827066,
          0.8752367573123676,
          0.8753306112793237,
          0.8753856743506491,
          0.8754130925607843,
          0.8751941094792539,
          0.8755222986396051,
          0.875577315397915,
          0.8751100909887557,
          0.8753667508353224,
          0.8753171345850637,
          0.8754627524687294,
          0.8754351087125757,
          0.8753734271684074,
          0.8753368172105939,
          0.8755012700160221,
          0.875353877033389,
          0.8751636836014768,
          0.8754953201320819,
          0.8755058820589638,
          0.8753458158208304,
          0.8750287661508516,
          0.8751226959089843,
          0.8753844066621983,
          0.875533676315891,
          0.8754899775307601,
          0.875454809599144,
          0.8755455469114037,
          0.8752580526455402,
          0.8752182141223844,
          0.875271605012839,
          0.8749286582272513,
          0.8753274108828174,
          0.8755047992664553,
          0.8754665366094245,
          0.8754135016793454,
          0.8754770373946477,
          0.8754728904705843,
          0.8756924224635556,
          0.8754029622843756,
          0.875449888315714,
          0.8753815968144358,
          0.8755216431119697,
          0.8756948998471501,
          0.8755654172421684,
          0.8755214409504181,
          0.8753725356828443,
          0.8754710131994525,
          0.8755582247175567,
          0.8754160626686993,
          0.8751952881890196,
          0.8750985332721204
         ],
         "yaxis": "y8"
        }
       ],
       "layout": {
        "font": {
         "size": 10
        },
        "template": {
         "layout": {
          "autosize": true,
          "height": 200,
          "legend": {
           "orientation": "h"
          },
          "margin": {
           "b": 40,
           "t": 40
          },
          "template": {
           "data": {
            "bar": [
             {
              "error_x": {
               "color": "rgb(36,36,36)"
              },
              "error_y": {
               "color": "rgb(36,36,36)"
              },
              "marker": {
               "line": {
                "color": "rgb(234,234,242)",
                "width": 0.5
               },
               "pattern": {
                "fillmode": "overlay",
                "size": 10,
                "solidity": 0.2
               }
              },
              "type": "bar"
             }
            ],
            "barpolar": [
             {
              "marker": {
               "line": {
                "color": "rgb(234,234,242)",
                "width": 0.5
               },
               "pattern": {
                "fillmode": "overlay",
                "size": 10,
                "solidity": 0.2
               }
              },
              "type": "barpolar"
             }
            ],
            "carpet": [
             {
              "aaxis": {
               "endlinecolor": "rgb(36,36,36)",
               "gridcolor": "white",
               "linecolor": "white",
               "minorgridcolor": "white",
               "startlinecolor": "rgb(36,36,36)"
              },
              "baxis": {
               "endlinecolor": "rgb(36,36,36)",
               "gridcolor": "white",
               "linecolor": "white",
               "minorgridcolor": "white",
               "startlinecolor": "rgb(36,36,36)"
              },
              "type": "carpet"
             }
            ],
            "choropleth": [
             {
              "colorbar": {
               "outlinewidth": 0,
               "tickcolor": "rgb(36,36,36)",
               "ticklen": 8,
               "ticks": "outside",
               "tickwidth": 2
              },
              "type": "choropleth"
             }
            ],
            "contour": [
             {
              "colorbar": {
               "outlinewidth": 0,
               "tickcolor": "rgb(36,36,36)",
               "ticklen": 8,
               "ticks": "outside",
               "tickwidth": 2
              },
              "colorscale": [
               [
                0,
                "rgb(2,4,25)"
               ],
               [
                0.06274509803921569,
                "rgb(24,15,41)"
               ],
               [
                0.12549019607843137,
                "rgb(47,23,57)"
               ],
               [
                0.18823529411764706,
                "rgb(71,28,72)"
               ],
               [
                0.25098039215686274,
                "rgb(97,30,82)"
               ],
               [
                0.3137254901960784,
                "rgb(123,30,89)"
               ],
               [
                0.3764705882352941,
                "rgb(150,27,91)"
               ],
               [
                0.4392156862745098,
                "rgb(177,22,88)"
               ],
               [
                0.5019607843137255,
                "rgb(203,26,79)"
               ],
               [
                0.5647058823529412,
                "rgb(223,47,67)"
               ],
               [
                0.6274509803921569,
                "rgb(236,76,61)"
               ],
               [
                0.6901960784313725,
                "rgb(242,107,73)"
               ],
               [
                0.7529411764705882,
                "rgb(244,135,95)"
               ],
               [
                0.8156862745098039,
                "rgb(245,162,122)"
               ],
               [
                0.8784313725490196,
                "rgb(246,188,153)"
               ],
               [
                0.9411764705882353,
                "rgb(247,212,187)"
               ],
               [
                1,
                "rgb(250,234,220)"
               ]
              ],
              "type": "contour"
             }
            ],
            "contourcarpet": [
             {
              "colorbar": {
               "outlinewidth": 0,
               "tickcolor": "rgb(36,36,36)",
               "ticklen": 8,
               "ticks": "outside",
               "tickwidth": 2
              },
              "type": "contourcarpet"
             }
            ],
            "heatmap": [
             {
              "colorbar": {
               "outlinewidth": 0,
               "tickcolor": "rgb(36,36,36)",
               "ticklen": 8,
               "ticks": "outside",
               "tickwidth": 2
              },
              "colorscale": [
               [
                0,
                "rgb(2,4,25)"
               ],
               [
                0.06274509803921569,
                "rgb(24,15,41)"
               ],
               [
                0.12549019607843137,
                "rgb(47,23,57)"
               ],
               [
                0.18823529411764706,
                "rgb(71,28,72)"
               ],
               [
                0.25098039215686274,
                "rgb(97,30,82)"
               ],
               [
                0.3137254901960784,
                "rgb(123,30,89)"
               ],
               [
                0.3764705882352941,
                "rgb(150,27,91)"
               ],
               [
                0.4392156862745098,
                "rgb(177,22,88)"
               ],
               [
                0.5019607843137255,
                "rgb(203,26,79)"
               ],
               [
                0.5647058823529412,
                "rgb(223,47,67)"
               ],
               [
                0.6274509803921569,
                "rgb(236,76,61)"
               ],
               [
                0.6901960784313725,
                "rgb(242,107,73)"
               ],
               [
                0.7529411764705882,
                "rgb(244,135,95)"
               ],
               [
                0.8156862745098039,
                "rgb(245,162,122)"
               ],
               [
                0.8784313725490196,
                "rgb(246,188,153)"
               ],
               [
                0.9411764705882353,
                "rgb(247,212,187)"
               ],
               [
                1,
                "rgb(250,234,220)"
               ]
              ],
              "type": "heatmap"
             }
            ],
            "heatmapgl": [
             {
              "colorbar": {
               "outlinewidth": 0,
               "tickcolor": "rgb(36,36,36)",
               "ticklen": 8,
               "ticks": "outside",
               "tickwidth": 2
              },
              "colorscale": [
               [
                0,
                "rgb(2,4,25)"
               ],
               [
                0.06274509803921569,
                "rgb(24,15,41)"
               ],
               [
                0.12549019607843137,
                "rgb(47,23,57)"
               ],
               [
                0.18823529411764706,
                "rgb(71,28,72)"
               ],
               [
                0.25098039215686274,
                "rgb(97,30,82)"
               ],
               [
                0.3137254901960784,
                "rgb(123,30,89)"
               ],
               [
                0.3764705882352941,
                "rgb(150,27,91)"
               ],
               [
                0.4392156862745098,
                "rgb(177,22,88)"
               ],
               [
                0.5019607843137255,
                "rgb(203,26,79)"
               ],
               [
                0.5647058823529412,
                "rgb(223,47,67)"
               ],
               [
                0.6274509803921569,
                "rgb(236,76,61)"
               ],
               [
                0.6901960784313725,
                "rgb(242,107,73)"
               ],
               [
                0.7529411764705882,
                "rgb(244,135,95)"
               ],
               [
                0.8156862745098039,
                "rgb(245,162,122)"
               ],
               [
                0.8784313725490196,
                "rgb(246,188,153)"
               ],
               [
                0.9411764705882353,
                "rgb(247,212,187)"
               ],
               [
                1,
                "rgb(250,234,220)"
               ]
              ],
              "type": "heatmapgl"
             }
            ],
            "histogram": [
             {
              "marker": {
               "pattern": {
                "fillmode": "overlay",
                "size": 10,
                "solidity": 0.2
               }
              },
              "type": "histogram"
             }
            ],
            "histogram2d": [
             {
              "colorbar": {
               "outlinewidth": 0,
               "tickcolor": "rgb(36,36,36)",
               "ticklen": 8,
               "ticks": "outside",
               "tickwidth": 2
              },
              "colorscale": [
               [
                0,
                "rgb(2,4,25)"
               ],
               [
                0.06274509803921569,
                "rgb(24,15,41)"
               ],
               [
                0.12549019607843137,
                "rgb(47,23,57)"
               ],
               [
                0.18823529411764706,
                "rgb(71,28,72)"
               ],
               [
                0.25098039215686274,
                "rgb(97,30,82)"
               ],
               [
                0.3137254901960784,
                "rgb(123,30,89)"
               ],
               [
                0.3764705882352941,
                "rgb(150,27,91)"
               ],
               [
                0.4392156862745098,
                "rgb(177,22,88)"
               ],
               [
                0.5019607843137255,
                "rgb(203,26,79)"
               ],
               [
                0.5647058823529412,
                "rgb(223,47,67)"
               ],
               [
                0.6274509803921569,
                "rgb(236,76,61)"
               ],
               [
                0.6901960784313725,
                "rgb(242,107,73)"
               ],
               [
                0.7529411764705882,
                "rgb(244,135,95)"
               ],
               [
                0.8156862745098039,
                "rgb(245,162,122)"
               ],
               [
                0.8784313725490196,
                "rgb(246,188,153)"
               ],
               [
                0.9411764705882353,
                "rgb(247,212,187)"
               ],
               [
                1,
                "rgb(250,234,220)"
               ]
              ],
              "type": "histogram2d"
             }
            ],
            "histogram2dcontour": [
             {
              "colorbar": {
               "outlinewidth": 0,
               "tickcolor": "rgb(36,36,36)",
               "ticklen": 8,
               "ticks": "outside",
               "tickwidth": 2
              },
              "colorscale": [
               [
                0,
                "rgb(2,4,25)"
               ],
               [
                0.06274509803921569,
                "rgb(24,15,41)"
               ],
               [
                0.12549019607843137,
                "rgb(47,23,57)"
               ],
               [
                0.18823529411764706,
                "rgb(71,28,72)"
               ],
               [
                0.25098039215686274,
                "rgb(97,30,82)"
               ],
               [
                0.3137254901960784,
                "rgb(123,30,89)"
               ],
               [
                0.3764705882352941,
                "rgb(150,27,91)"
               ],
               [
                0.4392156862745098,
                "rgb(177,22,88)"
               ],
               [
                0.5019607843137255,
                "rgb(203,26,79)"
               ],
               [
                0.5647058823529412,
                "rgb(223,47,67)"
               ],
               [
                0.6274509803921569,
                "rgb(236,76,61)"
               ],
               [
                0.6901960784313725,
                "rgb(242,107,73)"
               ],
               [
                0.7529411764705882,
                "rgb(244,135,95)"
               ],
               [
                0.8156862745098039,
                "rgb(245,162,122)"
               ],
               [
                0.8784313725490196,
                "rgb(246,188,153)"
               ],
               [
                0.9411764705882353,
                "rgb(247,212,187)"
               ],
               [
                1,
                "rgb(250,234,220)"
               ]
              ],
              "type": "histogram2dcontour"
             }
            ],
            "mesh3d": [
             {
              "colorbar": {
               "outlinewidth": 0,
               "tickcolor": "rgb(36,36,36)",
               "ticklen": 8,
               "ticks": "outside",
               "tickwidth": 2
              },
              "type": "mesh3d"
             }
            ],
            "parcoords": [
             {
              "line": {
               "colorbar": {
                "outlinewidth": 0,
                "tickcolor": "rgb(36,36,36)",
                "ticklen": 8,
                "ticks": "outside",
                "tickwidth": 2
               }
              },
              "type": "parcoords"
             }
            ],
            "pie": [
             {
              "automargin": true,
              "type": "pie"
             }
            ],
            "scatter": [
             {
              "fillpattern": {
               "fillmode": "overlay",
               "size": 10,
               "solidity": 0.2
              },
              "type": "scatter"
             }
            ],
            "scatter3d": [
             {
              "line": {
               "colorbar": {
                "outlinewidth": 0,
                "tickcolor": "rgb(36,36,36)",
                "ticklen": 8,
                "ticks": "outside",
                "tickwidth": 2
               }
              },
              "marker": {
               "colorbar": {
                "outlinewidth": 0,
                "tickcolor": "rgb(36,36,36)",
                "ticklen": 8,
                "ticks": "outside",
                "tickwidth": 2
               }
              },
              "type": "scatter3d"
             }
            ],
            "scattercarpet": [
             {
              "marker": {
               "colorbar": {
                "outlinewidth": 0,
                "tickcolor": "rgb(36,36,36)",
                "ticklen": 8,
                "ticks": "outside",
                "tickwidth": 2
               }
              },
              "type": "scattercarpet"
             }
            ],
            "scattergeo": [
             {
              "marker": {
               "colorbar": {
                "outlinewidth": 0,
                "tickcolor": "rgb(36,36,36)",
                "ticklen": 8,
                "ticks": "outside",
                "tickwidth": 2
               }
              },
              "type": "scattergeo"
             }
            ],
            "scattergl": [
             {
              "marker": {
               "colorbar": {
                "outlinewidth": 0,
                "tickcolor": "rgb(36,36,36)",
                "ticklen": 8,
                "ticks": "outside",
                "tickwidth": 2
               }
              },
              "type": "scattergl"
             }
            ],
            "scattermapbox": [
             {
              "marker": {
               "colorbar": {
                "outlinewidth": 0,
                "tickcolor": "rgb(36,36,36)",
                "ticklen": 8,
                "ticks": "outside",
                "tickwidth": 2
               }
              },
              "type": "scattermapbox"
             }
            ],
            "scatterpolar": [
             {
              "marker": {
               "colorbar": {
                "outlinewidth": 0,
                "tickcolor": "rgb(36,36,36)",
                "ticklen": 8,
                "ticks": "outside",
                "tickwidth": 2
               }
              },
              "type": "scatterpolar"
             }
            ],
            "scatterpolargl": [
             {
              "marker": {
               "colorbar": {
                "outlinewidth": 0,
                "tickcolor": "rgb(36,36,36)",
                "ticklen": 8,
                "ticks": "outside",
                "tickwidth": 2
               }
              },
              "type": "scatterpolargl"
             }
            ],
            "scatterternary": [
             {
              "marker": {
               "colorbar": {
                "outlinewidth": 0,
                "tickcolor": "rgb(36,36,36)",
                "ticklen": 8,
                "ticks": "outside",
                "tickwidth": 2
               }
              },
              "type": "scatterternary"
             }
            ],
            "surface": [
             {
              "colorbar": {
               "outlinewidth": 0,
               "tickcolor": "rgb(36,36,36)",
               "ticklen": 8,
               "ticks": "outside",
               "tickwidth": 2
              },
              "colorscale": [
               [
                0,
                "rgb(2,4,25)"
               ],
               [
                0.06274509803921569,
                "rgb(24,15,41)"
               ],
               [
                0.12549019607843137,
                "rgb(47,23,57)"
               ],
               [
                0.18823529411764706,
                "rgb(71,28,72)"
               ],
               [
                0.25098039215686274,
                "rgb(97,30,82)"
               ],
               [
                0.3137254901960784,
                "rgb(123,30,89)"
               ],
               [
                0.3764705882352941,
                "rgb(150,27,91)"
               ],
               [
                0.4392156862745098,
                "rgb(177,22,88)"
               ],
               [
                0.5019607843137255,
                "rgb(203,26,79)"
               ],
               [
                0.5647058823529412,
                "rgb(223,47,67)"
               ],
               [
                0.6274509803921569,
                "rgb(236,76,61)"
               ],
               [
                0.6901960784313725,
                "rgb(242,107,73)"
               ],
               [
                0.7529411764705882,
                "rgb(244,135,95)"
               ],
               [
                0.8156862745098039,
                "rgb(245,162,122)"
               ],
               [
                0.8784313725490196,
                "rgb(246,188,153)"
               ],
               [
                0.9411764705882353,
                "rgb(247,212,187)"
               ],
               [
                1,
                "rgb(250,234,220)"
               ]
              ],
              "type": "surface"
             }
            ],
            "table": [
             {
              "cells": {
               "fill": {
                "color": "rgb(231,231,240)"
               },
               "line": {
                "color": "white"
               }
              },
              "header": {
               "fill": {
                "color": "rgb(183,183,191)"
               },
               "line": {
                "color": "white"
               }
              },
              "type": "table"
             }
            ]
           },
           "layout": {
            "annotationdefaults": {
             "arrowcolor": "rgb(67,103,167)"
            },
            "autotypenumbers": "strict",
            "coloraxis": {
             "colorbar": {
              "outlinewidth": 0,
              "tickcolor": "rgb(36,36,36)",
              "ticklen": 8,
              "ticks": "outside",
              "tickwidth": 2
             }
            },
            "colorscale": {
             "sequential": [
              [
               0,
               "rgb(2,4,25)"
              ],
              [
               0.06274509803921569,
               "rgb(24,15,41)"
              ],
              [
               0.12549019607843137,
               "rgb(47,23,57)"
              ],
              [
               0.18823529411764706,
               "rgb(71,28,72)"
              ],
              [
               0.25098039215686274,
               "rgb(97,30,82)"
              ],
              [
               0.3137254901960784,
               "rgb(123,30,89)"
              ],
              [
               0.3764705882352941,
               "rgb(150,27,91)"
              ],
              [
               0.4392156862745098,
               "rgb(177,22,88)"
              ],
              [
               0.5019607843137255,
               "rgb(203,26,79)"
              ],
              [
               0.5647058823529412,
               "rgb(223,47,67)"
              ],
              [
               0.6274509803921569,
               "rgb(236,76,61)"
              ],
              [
               0.6901960784313725,
               "rgb(242,107,73)"
              ],
              [
               0.7529411764705882,
               "rgb(244,135,95)"
              ],
              [
               0.8156862745098039,
               "rgb(245,162,122)"
              ],
              [
               0.8784313725490196,
               "rgb(246,188,153)"
              ],
              [
               0.9411764705882353,
               "rgb(247,212,187)"
              ],
              [
               1,
               "rgb(250,234,220)"
              ]
             ],
             "sequentialminus": [
              [
               0,
               "rgb(2,4,25)"
              ],
              [
               0.06274509803921569,
               "rgb(24,15,41)"
              ],
              [
               0.12549019607843137,
               "rgb(47,23,57)"
              ],
              [
               0.18823529411764706,
               "rgb(71,28,72)"
              ],
              [
               0.25098039215686274,
               "rgb(97,30,82)"
              ],
              [
               0.3137254901960784,
               "rgb(123,30,89)"
              ],
              [
               0.3764705882352941,
               "rgb(150,27,91)"
              ],
              [
               0.4392156862745098,
               "rgb(177,22,88)"
              ],
              [
               0.5019607843137255,
               "rgb(203,26,79)"
              ],
              [
               0.5647058823529412,
               "rgb(223,47,67)"
              ],
              [
               0.6274509803921569,
               "rgb(236,76,61)"
              ],
              [
               0.6901960784313725,
               "rgb(242,107,73)"
              ],
              [
               0.7529411764705882,
               "rgb(244,135,95)"
              ],
              [
               0.8156862745098039,
               "rgb(245,162,122)"
              ],
              [
               0.8784313725490196,
               "rgb(246,188,153)"
              ],
              [
               0.9411764705882353,
               "rgb(247,212,187)"
              ],
              [
               1,
               "rgb(250,234,220)"
              ]
             ]
            },
            "colorway": [
             "rgb(76,114,176)",
             "rgb(221,132,82)",
             "rgb(85,168,104)",
             "rgb(196,78,82)",
             "rgb(129,114,179)",
             "rgb(147,120,96)",
             "rgb(218,139,195)",
             "rgb(140,140,140)",
             "rgb(204,185,116)",
             "rgb(100,181,205)"
            ],
            "font": {
             "color": "rgb(36,36,36)"
            },
            "geo": {
             "bgcolor": "white",
             "lakecolor": "white",
             "landcolor": "rgb(234,234,242)",
             "showlakes": true,
             "showland": true,
             "subunitcolor": "white"
            },
            "hoverlabel": {
             "align": "left"
            },
            "hovermode": "closest",
            "paper_bgcolor": "white",
            "plot_bgcolor": "rgb(234,234,242)",
            "polar": {
             "angularaxis": {
              "gridcolor": "white",
              "linecolor": "white",
              "showgrid": true,
              "ticks": ""
             },
             "bgcolor": "rgb(234,234,242)",
             "radialaxis": {
              "gridcolor": "white",
              "linecolor": "white",
              "showgrid": true,
              "ticks": ""
             }
            },
            "scene": {
             "xaxis": {
              "backgroundcolor": "rgb(234,234,242)",
              "gridcolor": "white",
              "gridwidth": 2,
              "linecolor": "white",
              "showbackground": true,
              "showgrid": true,
              "ticks": "",
              "zerolinecolor": "white"
             },
             "yaxis": {
              "backgroundcolor": "rgb(234,234,242)",
              "gridcolor": "white",
              "gridwidth": 2,
              "linecolor": "white",
              "showbackground": true,
              "showgrid": true,
              "ticks": "",
              "zerolinecolor": "white"
             },
             "zaxis": {
              "backgroundcolor": "rgb(234,234,242)",
              "gridcolor": "white",
              "gridwidth": 2,
              "linecolor": "white",
              "showbackground": true,
              "showgrid": true,
              "ticks": "",
              "zerolinecolor": "white"
             }
            },
            "shapedefaults": {
             "fillcolor": "rgb(67,103,167)",
             "line": {
              "width": 0
             },
             "opacity": 0.5
            },
            "ternary": {
             "aaxis": {
              "gridcolor": "white",
              "linecolor": "white",
              "showgrid": true,
              "ticks": ""
             },
             "baxis": {
              "gridcolor": "white",
              "linecolor": "white",
              "showgrid": true,
              "ticks": ""
             },
             "bgcolor": "rgb(234,234,242)",
             "caxis": {
              "gridcolor": "white",
              "linecolor": "white",
              "showgrid": true,
              "ticks": ""
             }
            },
            "xaxis": {
             "automargin": true,
             "gridcolor": "white",
             "linecolor": "white",
             "showgrid": true,
             "ticks": "",
             "title": {
              "standoff": 15
             },
             "zerolinecolor": "white"
            },
            "yaxis": {
             "automargin": true,
             "gridcolor": "white",
             "linecolor": "white",
             "showgrid": true,
             "ticks": "",
             "title": {
              "standoff": 15
             },
             "zerolinecolor": "white"
            }
           }
          }
         }
        },
        "title": {
         "text": "XGBClassifier",
         "x": 0
        },
        "width": 2400,
        "xaxis": {
         "anchor": "y",
         "domain": [
          0,
          0.103125
         ],
         "title": {
          "text": "XGBC__gamma"
         },
         "type": "log"
        },
        "xaxis2": {
         "anchor": "y2",
         "domain": [
          0.128125,
          0.23124999999999998
         ],
         "title": {
          "text": "XGBC__lambda"
         },
         "type": "log"
        },
        "xaxis3": {
         "anchor": "y3",
         "domain": [
          0.25625,
          0.359375
         ],
         "title": {
          "text": "XGBC__learning_rate"
         }
        },
        "xaxis4": {
         "anchor": "y4",
         "domain": [
          0.38437499999999997,
          0.48749999999999993
         ],
         "title": {
          "text": "XGBC__max_depth"
         }
        },
        "xaxis5": {
         "anchor": "y5",
         "domain": [
          0.5125,
          0.615625
         ],
         "title": {
          "text": "XGBC__min_child_weight"
         },
         "type": "log"
        },
        "xaxis6": {
         "anchor": "y6",
         "domain": [
          0.640625,
          0.74375
         ],
         "title": {
          "text": "XGBC__n_estimators"
         },
         "type": "log"
        },
        "xaxis7": {
         "anchor": "y7",
         "domain": [
          0.76875,
          0.8718750000000001
         ],
         "title": {
          "text": "XGBC__scale_pos_weight"
         }
        },
        "xaxis8": {
         "anchor": "y8",
         "domain": [
          0.8968750000000001,
          1
         ],
         "title": {
          "text": "XGBC__subsample"
         }
        },
        "yaxis": {
         "anchor": "x",
         "domain": [
          0,
          1
         ],
         "title": {
          "text": "Objective Value"
         }
        },
        "yaxis2": {
         "anchor": "x2",
         "domain": [
          0,
          1
         ],
         "matches": "y",
         "showticklabels": false
        },
        "yaxis3": {
         "anchor": "x3",
         "domain": [
          0,
          1
         ],
         "matches": "y",
         "showticklabels": false
        },
        "yaxis4": {
         "anchor": "x4",
         "domain": [
          0,
          1
         ],
         "matches": "y",
         "showticklabels": false
        },
        "yaxis5": {
         "anchor": "x5",
         "domain": [
          0,
          1
         ],
         "matches": "y",
         "showticklabels": false
        },
        "yaxis6": {
         "anchor": "x6",
         "domain": [
          0,
          1
         ],
         "matches": "y",
         "showticklabels": false
        },
        "yaxis7": {
         "anchor": "x7",
         "domain": [
          0,
          1
         ],
         "matches": "y",
         "showticklabels": false
        },
        "yaxis8": {
         "anchor": "x8",
         "domain": [
          0,
          1
         ],
         "matches": "y",
         "showticklabels": false
        }
       }
      },
      "text/html": [
       "<div>                            <div id=\"c483d386-12b5-4959-b499-8c1877747da6\" class=\"plotly-graph-div\" style=\"height:200px; width:2400px;\"></div>            <script type=\"text/javascript\">                require([\"plotly\"], function(Plotly) {                    window.PLOTLYENV=window.PLOTLYENV || {};                                    if (document.getElementById(\"c483d386-12b5-4959-b499-8c1877747da6\")) {                    Plotly.newPlot(                        \"c483d386-12b5-4959-b499-8c1877747da6\",                        [{\"marker\":{\"color\":\"Darkgrey\",\"colorbar\":{\"title\":{\"text\":\"Trial\"},\"x\":1.0,\"xpad\":40},\"colorscale\":[[0.0,\"rgb(247,251,255)\"],[0.125,\"rgb(222,235,247)\"],[0.25,\"rgb(198,219,239)\"],[0.375,\"rgb(158,202,225)\"],[0.5,\"rgb(107,174,214)\"],[0.625,\"rgb(66,146,198)\"],[0.75,\"rgb(33,113,181)\"],[0.875,\"rgb(8,81,156)\"],[1.0,\"rgb(8,48,107)\"]],\"line\":{\"color\":\"Black\",\"width\":1},\"showscale\":true,\"opacity\":0.2,\"size\":3},\"mode\":\"markers\",\"showlegend\":false,\"x\":[5.575430583426718,2.0686953532700616,0.4090205938166273,0.10698951978599963,0.1696749671365948,1.2382907982451037,4.997763383545062,4.971254787545075,0.1501734031128111,0.21324805298316854,0.5208685296956396,0.11864571969659046,0.10692012676110518,1.1109444107713655,0.19016518299564153,0.45726634828151635,0.27184910677617374,9.255252895123345,2.37040369799621,8.573294956950502,2.6465555418262787,9.423635161334039,2.5901109961993063,9.826797170035402,9.780330675664601,9.276813778764184,8.68823407767331,8.857359271473355,7.891782602466267,5.651820133024307,5.696235306823774,6.094293356411403,6.099257705894294,7.426314644120262,7.0711909025169675,6.439787817974019,6.3627062537331875,4.425478577607349,6.239977868385543,3.883693566211896,3.9561376067659766,5.220061103744716,4.029346611417309,4.089027168872844,4.158084717865504,3.8881960726157554,3.8784321031837137,3.6920868034848318,7.640618288485812,7.518892058725707,3.4301256785945706,3.3767894346341274,3.203533752606705,3.4495289768226285,3.1216045019623992,3.163445575545129,3.1674668546774556,3.356717395529089,3.3778174909202665,3.1501763723110354,1.8812320297750125,1.7190228143560207,4.8690595329234725,1.7737755229951395,1.567760291785556,1.8354661374996644,2.041870920886629,1.762792908745188,2.1368894231175473,5.019508392422767,4.8823921952850915,5.0233784240744015,4.846319323429509,5.083938064912742,4.925489101753197,4.846150294709619,4.832471409718265,4.822198334169068,2.707033030482517,4.809723576867683,2.683128250117793,2.7365823191531002,2.737429028952897,4.5215066339573005,2.756320840482467,2.624964573769321,2.793082029386287,2.667406330599419,2.73511837440943,2.5690306456441756,2.805599890790337,2.8171767241083874,2.70166120040391,2.82051847940764,2.389427246534222,2.344128482595265,2.2972210239354456,2.208060275636828,4.372463737929712,4.1918489605655775,2.3754714650107895,2.3288736422326424,5.579246966387238,5.52153909634349,4.220280012622761,5.559232392789388,5.69841858321802,5.605104536944802,5.646260410766785,5.542513576015296,3.6103243689825844,3.634148615905154,3.0665628365808475,3.621276724186623,6.371702504343078,3.7505503609364874,6.843253847139366,3.660134739963389,6.8122793356319535,6.004463107967615,6.637912727791941,6.759308971795672,6.2879821019348,6.5074473866214015,6.742042680509341,6.652255678424964,6.004842492551328,6.208129012381611,8.21507316866953,8.295635159507539,7.945329775760839,8.06705874630279,8.381430540984363,8.71751180396191,8.01595989609487,7.326683266810135,7.63003268086717,7.59249302416407,7.710467424539605,7.862305381226739,7.583814095428963,7.492007641305037,7.8611357026895785,8.993596013414388,9.838907454887515,9.826130568892927,9.367100541955944,9.27211638558298,9.205199447440606,9.181367906980395,9.182162828141292,9.529182117330729,8.98186412001231,8.988525492662355,9.650790305821408,9.897931796864006,9.916091747957436,9.967516462601903,6.079453156278792,9.867820846718137,8.478340995741895,9.854038307225833,9.793363122661049,8.717990997382541,8.46460726725963,8.439257394311753,8.756236686569826,8.689109028363882,8.512598757299653,8.634930601627453,8.743417721091333,8.639232815647778,8.296029534987259,8.47318645548648,8.369470893086534,8.224536056247992,7.112749457949413,7.118423141549555,7.078742123866138],\"y\":[0.8719022753395407,0.8719022753395407,0.8719022753395407,0.8719022753395407,0.8719022753395407,0.8719022753395407,0.8719022753395407,0.8719022753395407,0.8533235970298179,0.8559907438940723,0.8361302772806434,0.8529366493371618,0.8492104219710829,0.8688386758703259,0.865628739217132,0.8259444270048506,0.8544510475979903,0.8738317145636282,0.8270966400954567,0.8684694632140427,0.8303860876266382,0.8658756157551164,0.8374982821341208,0.8704209798808522,0.8616993917942428,0.873443683991033,0.8740890241115455,0.8734871695476139,0.8735671147476106,0.8728723960560825,0.873830493454323,0.8351452228832151,0.8734663567959681,0.8738980054634228,0.867942086325493,0.8698677498026421,0.8701876459043003,0.8696854037320623,0.8668675601274488,0.8696267183492526,0.8632502578606605,0.8704916931535133,0.8583636478539072,0.8746803481809351,0.874360579025414,0.8746961434256736,0.8746961434256736,0.8749041304881908,0.87489187794198,0.8734411517492623,0.8746649471834649,0.8745971360847744,0.8744841473558422,0.8745321031114927,0.8741887455534141,0.8750828525950624,0.8749091334440996,0.8746936172306834,0.8745267169723284,0.8744178607448347,0.8744824313330412,0.8744075221944148,0.8753751758292369,0.8740555806442544,0.8738392053252764,0.8735402291838534,0.8718770525529683,0.8714784370635277,0.8736194618570569,0.8744155199456334,0.8745246929172866,0.8747011140728048,0.8748935264142512,0.8751931559926538,0.8749608008980709,0.8750036471127522,0.8748282963265048,0.8749248074401859,0.8753218295023343,0.8751644430396516,0.8750599385586462,0.8753266754219309,0.8750694295323924,0.8751964007445849,0.87468143726375,0.8749234657287877,0.8748498458295966,0.8753068652651189,0.8751971287764354,0.8752184935801971,0.8736609654608717,0.8738171104054056,0.8737460463068867,0.8727806098142226,0.8740867815416052,0.8718247864076002,0.8742402216897778,0.8730307374068126,0.8740521956315833,0.8709910358753483,0.8680634821847905,0.8752733779631475,0.8745234768252139,0.8743876420756962,0.8748456871488999,0.8752720800941061,0.8755095559092501,0.8755095559092501,0.8751952836366612,0.8754420581197657,0.8751420140387876,0.8751184328511676,0.8744284641461991,0.8742129247982394,0.8753902361432164,0.8747249562942802,0.875109860804228,0.8737390318083105,0.8748309192942918,0.8754847793659458,0.875516002034777,0.8752472145606012,0.8748365257153038,0.8752018012287526,0.874274707664577,0.8738955644880313,0.8753903625916395,0.8754230404827066,0.8752367573123676,0.8753306112793237,0.8753856743506491,0.8754130925607843,0.8751941094792539,0.8755222986396051,0.875577315397915,0.8751100909887557,0.8753667508353224,0.8753171345850637,0.8754627524687294,0.8754351087125757,0.8753734271684074,0.8753368172105939,0.8755012700160221,0.875353877033389,0.8751636836014768,0.8754953201320819,0.8755058820589638,0.8753458158208304,0.8750287661508516,0.8751226959089843,0.8753844066621983,0.875533676315891,0.8754899775307601,0.875454809599144,0.8755455469114037,0.8752580526455402,0.8752182141223844,0.875271605012839,0.8749286582272513,0.8753274108828174,0.8755047992664553,0.8754665366094245,0.8754135016793454,0.8754770373946477,0.8754728904705843,0.8756924224635556,0.8754029622843756,0.875449888315714,0.8753815968144358,0.8755216431119697,0.8756948998471501,0.8755654172421684,0.8755214409504181,0.8753725356828443,0.8754710131994525,0.8755582247175567,0.8754160626686993,0.8751952881890196,0.8750985332721204],\"type\":\"scatter\",\"xaxis\":\"x\",\"yaxis\":\"y\"},{\"marker\":{\"color\":\"Darkgrey\",\"colorbar\":{\"title\":{\"text\":\"Trial\"},\"x\":1.0,\"xpad\":40},\"colorscale\":[[0.0,\"rgb(247,251,255)\"],[0.125,\"rgb(222,235,247)\"],[0.25,\"rgb(198,219,239)\"],[0.375,\"rgb(158,202,225)\"],[0.5,\"rgb(107,174,214)\"],[0.625,\"rgb(66,146,198)\"],[0.75,\"rgb(33,113,181)\"],[0.875,\"rgb(8,81,156)\"],[1.0,\"rgb(8,48,107)\"]],\"line\":{\"color\":\"Black\",\"width\":1},\"showscale\":false,\"opacity\":0.2,\"size\":3},\"mode\":\"markers\",\"showlegend\":false,\"x\":[0.6622442893117263,2.475117145277899,8.315381418691965,0.44228540908468505,5.907673976555064,6.534973555694418,7.416996079942144,2.1884409310132558,0.24568866485945745,0.16732371908350047,5.180459503272892,5.403778477187618,4.3907754482569485,7.741293881671674,5.9434320899493,0.3198069153978498,1.7940673237326779,0.7217108410725379,1.0400884921465705,0.9259623032572349,0.9034689724888488,0.8911113831851396,1.0546914210887517,0.6691884121476198,0.7315787817306666,0.8162102256491622,0.5742810706654634,0.11488045221932396,0.47255260898459756,0.5617065238088422,0.5209583942830248,0.4890644662759873,0.6290829096906878,0.44761360363030134,0.10646909992517388,0.4769173845177102,0.4819105387592195,0.34990755719214545,0.5009172571097469,0.48164362136981814,0.3784308454468032,0.39790768525129766,0.31492948047232094,0.3528756579869728,0.37261335120256267,0.3010735813269571,0.36974441631905713,0.3135351189378394,0.2917518727119535,0.26660108663100185,0.2797274695192607,0.29607172929842607,0.25451234364971265,0.2332389544199128,0.2336284839940742,0.2226006131625931,0.24554942202695593,0.21189017705205027,0.21666745845880062,0.2022918316654593,0.20765553229334385,0.1972071201123001,0.21212609778741498,0.20184033842871452,0.19358084357676494,0.172526164799393,0.16144740893609746,0.16763397818088746,0.17810153586784616,0.1774429524553312,0.1646606088798302,0.1510770850410104,0.16409663198396499,0.14767227808645997,0.31093117809639154,0.2816221350569787,0.2929491621849542,0.3064077383830266,0.29171656559881753,0.2850216862179405,0.14238351799313817,0.13718739535722832,0.13436227471386417,0.13292699188931975,0.13141237620457225,0.1316062272135055,0.2502352536951104,0.2624854804990868,0.1315019072705179,0.14162298693528858,0.13979843453880528,0.13552381002272101,0.12816398257184572,0.10087064327301416,0.10110157434908135,0.11877070457479129,0.10040754136558291,0.11636336982133186,0.118473695643213,0.11285459054034247,0.11415503589276944,0.11658479695125953,0.11875161258979713,0.11610207082888463,0.14950986327974058,0.11555665804883151,0.14793843787942906,0.14839275176111255,0.15352527214983522,0.14902381029348966,0.15336318997132234,0.1513389257452161,0.15115713461825914,0.1475690639469873,0.1458786814491294,0.1503778664622163,0.18547042516566514,0.18714634544200504,0.12885826319536314,0.18212078714128138,0.17699331898922277,0.18266595673280722,0.17494663856327958,0.19001079397559342,0.19029779983764122,0.1724902746459953,0.18830589291372854,0.1773872024976413,0.18149273994651924,0.1776492909118372,0.2209311326819885,0.22434098473714342,0.2279834649504543,0.2211621457370264,0.2210309112962758,0.21735876488273348,0.21555442573463257,0.224009355760472,0.2263221321796945,0.21941180513049982,0.20715124308921826,0.21557296048654712,0.22295585791989433,0.21579578105542124,0.2359927904466811,0.20342525235192044,0.24882075228314499,0.26296936767048174,0.2441206678121982,0.24033653911648514,0.2415509087429743,0.24771337962585532,0.25564318114163403,0.25929560943455454,0.24963832810452274,0.24258126934207294,0.24636195765601188,0.1963373683762513,0.1631771024198158,0.25611711154867167,0.26939723876425387,0.26288789899945136,0.3233414969827717,0.26910974993775294,0.2724288968967748,0.2762533111280041,0.26992276107171165,0.3322078099646951,0.2782283615763541,0.1975624932944147,0.2684956565838877,0.2655438569367275,0.2677024625880542,0.2799179378695623,0.3363966053350861,0.2842345820375795,0.3528183962024298,0.33129170723788914,0.3020484028074108],\"y\":[0.8719022753395407,0.8719022753395407,0.8719022753395407,0.8719022753395407,0.8719022753395407,0.8719022753395407,0.8719022753395407,0.8719022753395407,0.8533235970298179,0.8559907438940723,0.8361302772806434,0.8529366493371618,0.8492104219710829,0.8688386758703259,0.865628739217132,0.8259444270048506,0.8544510475979903,0.8738317145636282,0.8270966400954567,0.8684694632140427,0.8303860876266382,0.8658756157551164,0.8374982821341208,0.8704209798808522,0.8616993917942428,0.873443683991033,0.8740890241115455,0.8734871695476139,0.8735671147476106,0.8728723960560825,0.873830493454323,0.8351452228832151,0.8734663567959681,0.8738980054634228,0.867942086325493,0.8698677498026421,0.8701876459043003,0.8696854037320623,0.8668675601274488,0.8696267183492526,0.8632502578606605,0.8704916931535133,0.8583636478539072,0.8746803481809351,0.874360579025414,0.8746961434256736,0.8746961434256736,0.8749041304881908,0.87489187794198,0.8734411517492623,0.8746649471834649,0.8745971360847744,0.8744841473558422,0.8745321031114927,0.8741887455534141,0.8750828525950624,0.8749091334440996,0.8746936172306834,0.8745267169723284,0.8744178607448347,0.8744824313330412,0.8744075221944148,0.8753751758292369,0.8740555806442544,0.8738392053252764,0.8735402291838534,0.8718770525529683,0.8714784370635277,0.8736194618570569,0.8744155199456334,0.8745246929172866,0.8747011140728048,0.8748935264142512,0.8751931559926538,0.8749608008980709,0.8750036471127522,0.8748282963265048,0.8749248074401859,0.8753218295023343,0.8751644430396516,0.8750599385586462,0.8753266754219309,0.8750694295323924,0.8751964007445849,0.87468143726375,0.8749234657287877,0.8748498458295966,0.8753068652651189,0.8751971287764354,0.8752184935801971,0.8736609654608717,0.8738171104054056,0.8737460463068867,0.8727806098142226,0.8740867815416052,0.8718247864076002,0.8742402216897778,0.8730307374068126,0.8740521956315833,0.8709910358753483,0.8680634821847905,0.8752733779631475,0.8745234768252139,0.8743876420756962,0.8748456871488999,0.8752720800941061,0.8755095559092501,0.8755095559092501,0.8751952836366612,0.8754420581197657,0.8751420140387876,0.8751184328511676,0.8744284641461991,0.8742129247982394,0.8753902361432164,0.8747249562942802,0.875109860804228,0.8737390318083105,0.8748309192942918,0.8754847793659458,0.875516002034777,0.8752472145606012,0.8748365257153038,0.8752018012287526,0.874274707664577,0.8738955644880313,0.8753903625916395,0.8754230404827066,0.8752367573123676,0.8753306112793237,0.8753856743506491,0.8754130925607843,0.8751941094792539,0.8755222986396051,0.875577315397915,0.8751100909887557,0.8753667508353224,0.8753171345850637,0.8754627524687294,0.8754351087125757,0.8753734271684074,0.8753368172105939,0.8755012700160221,0.875353877033389,0.8751636836014768,0.8754953201320819,0.8755058820589638,0.8753458158208304,0.8750287661508516,0.8751226959089843,0.8753844066621983,0.875533676315891,0.8754899775307601,0.875454809599144,0.8755455469114037,0.8752580526455402,0.8752182141223844,0.875271605012839,0.8749286582272513,0.8753274108828174,0.8755047992664553,0.8754665366094245,0.8754135016793454,0.8754770373946477,0.8754728904705843,0.8756924224635556,0.8754029622843756,0.875449888315714,0.8753815968144358,0.8755216431119697,0.8756948998471501,0.8755654172421684,0.8755214409504181,0.8753725356828443,0.8754710131994525,0.8755582247175567,0.8754160626686993,0.8751952881890196,0.8750985332721204],\"type\":\"scatter\",\"xaxis\":\"x2\",\"yaxis\":\"y2\"},{\"marker\":{\"color\":\"Darkgrey\",\"colorbar\":{\"title\":{\"text\":\"Trial\"},\"x\":1.0,\"xpad\":40},\"colorscale\":[[0.0,\"rgb(247,251,255)\"],[0.125,\"rgb(222,235,247)\"],[0.25,\"rgb(198,219,239)\"],[0.375,\"rgb(158,202,225)\"],[0.5,\"rgb(107,174,214)\"],[0.625,\"rgb(66,146,198)\"],[0.75,\"rgb(33,113,181)\"],[0.875,\"rgb(8,81,156)\"],[1.0,\"rgb(8,48,107)\"]],\"line\":{\"color\":\"Black\",\"width\":1},\"showscale\":false,\"opacity\":0.2,\"size\":3},\"mode\":\"markers\",\"showlegend\":false,\"x\":[0.283233674984405,0.8941528802479964,0.19763841871315488,0.3611862485960926,0.31962764312173914,0.358632137068377,0.715082621064896,0.5652675130840388,0.7535168232439694,0.027948880507254942,0.7409220336067986,0.328141961817178,0.43035368356526826,0.8695039134381632,0.48203825592730587,0.598988393150364,0.6617806383637854,0.532608703001282,0.9516374658051853,0.9716379672087412,0.9417933935884387,0.9783705420309323,0.940681234604886,0.9561674998838714,0.9747640720262388,0.5270930320838039,0.5021003302604357,0.5212776901101034,0.8421154089139286,0.8504841381939465,0.8086905159852531,0.8092168706388745,0.5330396028906839,0.5427500066106086,0.46663259647066724,0.6292111655522912,0.6214540422812815,0.6256209322822761,0.8056702268504832,0.8261030213916921,0.6323690053571276,0.606101857634874,0.41587613115784683,0.42128980841403985,0.4205925049973924,0.43842789200491716,0.41738382043580946,0.3975924035331223,0.42437858837316544,0.6917229815149075,0.40716324362851886,0.4238463630585146,0.4229367328212442,0.38469384712137084,0.3873819984918178,0.27537197570487815,0.2867240417569842,0.28953300018298056,0.3808392780412416,0.3651938708326087,0.3616839754903117,0.30193087480091507,0.3238579992041293,0.2990627032142512,0.2976485468750042,0.3386043862390729,0.3361835894086602,0.32716372263089155,0.27993247901801066,0.2771907737580365,0.25972261238798844,0.24004507578653508,0.23936474495682755,0.2372685769946955,0.2442554208844515,0.2412910674606386,0.22258922258528224,0.1731932055878027,0.2353249306355626,0.23924422139860457,0.23788318232247274,0.23509961587608935,0.17552442379272187,0.20058695829594786,0.14065983705770715,0.17964252451458032,0.16736408324221302,0.18431573325130607,0.16895514111359086,0.18948454227433348,0.17711783015605312,0.20454680586307666,0.2002796396630646,0.1405065042116706,0.20427100672531656,0.2142841967309088,0.2060518394206617,0.12343402417358287,0.20601271741684196,0.12104422315833314,0.12024201737147105,0.21157253708397852,0.12702432336324276,0.1113820527531306,0.13804547901644845,0.25863298843245525,0.25913893776985153,0.2625639471924961,0.2661317145076748,0.26424416928169003,0.271361679897872,0.2623848344518314,0.25939816989528053,0.26216072287438863,0.2625828818037694,0.256357395878145,0.310206997060896,0.3186431103223971,0.3007274960785199,0.22614445500466862,0.18773758921528655,0.3027668679486463,0.3095800088184041,0.3051819278968208,0.3177564521030035,0.2977953069108802,0.22561491151591728,0.221905967495583,0.2257820881374763,0.21679906529152548,0.2216416482379347,0.2245836034572444,0.3485730065200331,0.21831453442827323,0.2246310537677648,0.22210557478072096,0.22160045131314857,0.22771457450593444,0.22546406820893217,0.22601210393187912,0.22476453522333661,0.2250383045879901,0.2176057689874318,0.23013930403960964,0.27480303587769717,0.2857629793892253,0.27989204769622045,0.15353852622015662,0.28208279665462294,0.2745405545340464,0.27703953512526436,0.15793516064287552,0.2510491632490456,0.28285957540511336,0.15767190704837403,0.19065842825469678,0.18869291441553127,0.19552408350456116,0.19399923853470097,0.19390129221139904,0.19247015513374754,0.19390344232961398,0.18694514207433657,0.1603332843906226,0.1588727297861073,0.161044088436246,0.15993080814929567,0.16304778822271776,0.2523133100304911,0.16088462487940303,0.15943136127528545,0.1616823963766234,0.1528608975021338,0.16165937099284128,0.09368123021145991,0.14910976316234933,0.10073783387779131,0.1541440048418675,0.14401002503538213],\"y\":[0.8719022753395407,0.8719022753395407,0.8719022753395407,0.8719022753395407,0.8719022753395407,0.8719022753395407,0.8719022753395407,0.8719022753395407,0.8533235970298179,0.8559907438940723,0.8361302772806434,0.8529366493371618,0.8492104219710829,0.8688386758703259,0.865628739217132,0.8259444270048506,0.8544510475979903,0.8738317145636282,0.8270966400954567,0.8684694632140427,0.8303860876266382,0.8658756157551164,0.8374982821341208,0.8704209798808522,0.8616993917942428,0.873443683991033,0.8740890241115455,0.8734871695476139,0.8735671147476106,0.8728723960560825,0.873830493454323,0.8351452228832151,0.8734663567959681,0.8738980054634228,0.867942086325493,0.8698677498026421,0.8701876459043003,0.8696854037320623,0.8668675601274488,0.8696267183492526,0.8632502578606605,0.8704916931535133,0.8583636478539072,0.8746803481809351,0.874360579025414,0.8746961434256736,0.8746961434256736,0.8749041304881908,0.87489187794198,0.8734411517492623,0.8746649471834649,0.8745971360847744,0.8744841473558422,0.8745321031114927,0.8741887455534141,0.8750828525950624,0.8749091334440996,0.8746936172306834,0.8745267169723284,0.8744178607448347,0.8744824313330412,0.8744075221944148,0.8753751758292369,0.8740555806442544,0.8738392053252764,0.8735402291838534,0.8718770525529683,0.8714784370635277,0.8736194618570569,0.8744155199456334,0.8745246929172866,0.8747011140728048,0.8748935264142512,0.8751931559926538,0.8749608008980709,0.8750036471127522,0.8748282963265048,0.8749248074401859,0.8753218295023343,0.8751644430396516,0.8750599385586462,0.8753266754219309,0.8750694295323924,0.8751964007445849,0.87468143726375,0.8749234657287877,0.8748498458295966,0.8753068652651189,0.8751971287764354,0.8752184935801971,0.8736609654608717,0.8738171104054056,0.8737460463068867,0.8727806098142226,0.8740867815416052,0.8718247864076002,0.8742402216897778,0.8730307374068126,0.8740521956315833,0.8709910358753483,0.8680634821847905,0.8752733779631475,0.8745234768252139,0.8743876420756962,0.8748456871488999,0.8752720800941061,0.8755095559092501,0.8755095559092501,0.8751952836366612,0.8754420581197657,0.8751420140387876,0.8751184328511676,0.8744284641461991,0.8742129247982394,0.8753902361432164,0.8747249562942802,0.875109860804228,0.8737390318083105,0.8748309192942918,0.8754847793659458,0.875516002034777,0.8752472145606012,0.8748365257153038,0.8752018012287526,0.874274707664577,0.8738955644880313,0.8753903625916395,0.8754230404827066,0.8752367573123676,0.8753306112793237,0.8753856743506491,0.8754130925607843,0.8751941094792539,0.8755222986396051,0.875577315397915,0.8751100909887557,0.8753667508353224,0.8753171345850637,0.8754627524687294,0.8754351087125757,0.8753734271684074,0.8753368172105939,0.8755012700160221,0.875353877033389,0.8751636836014768,0.8754953201320819,0.8755058820589638,0.8753458158208304,0.8750287661508516,0.8751226959089843,0.8753844066621983,0.875533676315891,0.8754899775307601,0.875454809599144,0.8755455469114037,0.8752580526455402,0.8752182141223844,0.875271605012839,0.8749286582272513,0.8753274108828174,0.8755047992664553,0.8754665366094245,0.8754135016793454,0.8754770373946477,0.8754728904705843,0.8756924224635556,0.8754029622843756,0.875449888315714,0.8753815968144358,0.8755216431119697,0.8756948998471501,0.8755654172421684,0.8755214409504181,0.8753725356828443,0.8754710131994525,0.8755582247175567,0.8754160626686993,0.8751952881890196,0.8750985332721204],\"type\":\"scatter\",\"xaxis\":\"x3\",\"yaxis\":\"y3\"},{\"marker\":{\"color\":\"Darkgrey\",\"colorbar\":{\"title\":{\"text\":\"Trial\"},\"x\":1.0,\"xpad\":40},\"colorscale\":[[0.0,\"rgb(247,251,255)\"],[0.125,\"rgb(222,235,247)\"],[0.25,\"rgb(198,219,239)\"],[0.375,\"rgb(158,202,225)\"],[0.5,\"rgb(107,174,214)\"],[0.625,\"rgb(66,146,198)\"],[0.75,\"rgb(33,113,181)\"],[0.875,\"rgb(8,81,156)\"],[1.0,\"rgb(8,48,107)\"]],\"line\":{\"color\":\"Black\",\"width\":1},\"showscale\":false,\"opacity\":0.2,\"size\":3},\"mode\":\"markers\",\"showlegend\":false,\"x\":[6,18,9,14,6,3,14,2,6,17,19,12,10,7,7,13,8,10,11,8,11,19,20,19,20,3,4,3,4,4,4,16,3,4,1,1,1,1,1,5,1,5,16,5,5,5,5,5,5,5,5,5,5,5,7,7,6,7,7,7,7,7,6,8,8,8,9,9,8,9,9,9,6,6,6,6,6,6,6,6,6,6,6,6,6,6,6,6,6,6,4,4,4,4,4,2,4,4,4,3,2,7,7,7,7,7,7,7,7,7,7,7,8,8,8,8,8,8,10,8,8,8,10,8,12,12,5,10,10,9,9,9,9,7,9,11,9,11,11,11,11,9,11,9,9,9,10,10,10,10,13,12,13,13,13,10,10,13,11,13,14,13,13,14,13,14,14,14,14,14,14,14,14,15,14,15,15,15,15],\"y\":[0.8719022753395407,0.8719022753395407,0.8719022753395407,0.8719022753395407,0.8719022753395407,0.8719022753395407,0.8719022753395407,0.8719022753395407,0.8533235970298179,0.8559907438940723,0.8361302772806434,0.8529366493371618,0.8492104219710829,0.8688386758703259,0.865628739217132,0.8259444270048506,0.8544510475979903,0.8738317145636282,0.8270966400954567,0.8684694632140427,0.8303860876266382,0.8658756157551164,0.8374982821341208,0.8704209798808522,0.8616993917942428,0.873443683991033,0.8740890241115455,0.8734871695476139,0.8735671147476106,0.8728723960560825,0.873830493454323,0.8351452228832151,0.8734663567959681,0.8738980054634228,0.867942086325493,0.8698677498026421,0.8701876459043003,0.8696854037320623,0.8668675601274488,0.8696267183492526,0.8632502578606605,0.8704916931535133,0.8583636478539072,0.8746803481809351,0.874360579025414,0.8746961434256736,0.8746961434256736,0.8749041304881908,0.87489187794198,0.8734411517492623,0.8746649471834649,0.8745971360847744,0.8744841473558422,0.8745321031114927,0.8741887455534141,0.8750828525950624,0.8749091334440996,0.8746936172306834,0.8745267169723284,0.8744178607448347,0.8744824313330412,0.8744075221944148,0.8753751758292369,0.8740555806442544,0.8738392053252764,0.8735402291838534,0.8718770525529683,0.8714784370635277,0.8736194618570569,0.8744155199456334,0.8745246929172866,0.8747011140728048,0.8748935264142512,0.8751931559926538,0.8749608008980709,0.8750036471127522,0.8748282963265048,0.8749248074401859,0.8753218295023343,0.8751644430396516,0.8750599385586462,0.8753266754219309,0.8750694295323924,0.8751964007445849,0.87468143726375,0.8749234657287877,0.8748498458295966,0.8753068652651189,0.8751971287764354,0.8752184935801971,0.8736609654608717,0.8738171104054056,0.8737460463068867,0.8727806098142226,0.8740867815416052,0.8718247864076002,0.8742402216897778,0.8730307374068126,0.8740521956315833,0.8709910358753483,0.8680634821847905,0.8752733779631475,0.8745234768252139,0.8743876420756962,0.8748456871488999,0.8752720800941061,0.8755095559092501,0.8755095559092501,0.8751952836366612,0.8754420581197657,0.8751420140387876,0.8751184328511676,0.8744284641461991,0.8742129247982394,0.8753902361432164,0.8747249562942802,0.875109860804228,0.8737390318083105,0.8748309192942918,0.8754847793659458,0.875516002034777,0.8752472145606012,0.8748365257153038,0.8752018012287526,0.874274707664577,0.8738955644880313,0.8753903625916395,0.8754230404827066,0.8752367573123676,0.8753306112793237,0.8753856743506491,0.8754130925607843,0.8751941094792539,0.8755222986396051,0.875577315397915,0.8751100909887557,0.8753667508353224,0.8753171345850637,0.8754627524687294,0.8754351087125757,0.8753734271684074,0.8753368172105939,0.8755012700160221,0.875353877033389,0.8751636836014768,0.8754953201320819,0.8755058820589638,0.8753458158208304,0.8750287661508516,0.8751226959089843,0.8753844066621983,0.875533676315891,0.8754899775307601,0.875454809599144,0.8755455469114037,0.8752580526455402,0.8752182141223844,0.875271605012839,0.8749286582272513,0.8753274108828174,0.8755047992664553,0.8754665366094245,0.8754135016793454,0.8754770373946477,0.8754728904705843,0.8756924224635556,0.8754029622843756,0.875449888315714,0.8753815968144358,0.8755216431119697,0.8756948998471501,0.8755654172421684,0.8755214409504181,0.8753725356828443,0.8754710131994525,0.8755582247175567,0.8754160626686993,0.8751952881890196,0.8750985332721204],\"type\":\"scatter\",\"xaxis\":\"x4\",\"yaxis\":\"y4\"},{\"marker\":{\"color\":\"Darkgrey\",\"colorbar\":{\"title\":{\"text\":\"Trial\"},\"x\":1.0,\"xpad\":40},\"colorscale\":[[0.0,\"rgb(247,251,255)\"],[0.125,\"rgb(222,235,247)\"],[0.25,\"rgb(198,219,239)\"],[0.375,\"rgb(158,202,225)\"],[0.5,\"rgb(107,174,214)\"],[0.625,\"rgb(66,146,198)\"],[0.75,\"rgb(33,113,181)\"],[0.875,\"rgb(8,81,156)\"],[1.0,\"rgb(8,48,107)\"]],\"line\":{\"color\":\"Black\",\"width\":1},\"showscale\":false,\"opacity\":0.2,\"size\":3},\"mode\":\"markers\",\"showlegend\":false,\"x\":[0.34351756453528165,1.3326087170966583,6.818448994206038,3.8381971303578437,0.6325664673006121,4.617247012594344,0.49214511764426605,8.095437002619885,0.14565483881466118,0.12781801950475882,0.6626242062055318,1.3509950361107848,0.20626753575806372,1.5960567661532903,0.21879356771257405,0.510730430003571,1.9686395391543317,0.2918319680924636,1.7033378881534147,1.794588179527956,0.2698959982049857,0.32472559015496866,0.335881194091299,0.31570248558083497,0.3286244399097615,0.33793924239995704,0.30190182130577276,0.30769686744343233,0.34097919825733597,0.9268850762074259,0.7280092991368278,0.9728733952319742,0.10135794389120056,0.1095217331015654,0.18863554464110885,0.1026723723003206,0.16901205539298061,0.10145250384687615,0.44681576079643953,0.44862151652427085,0.19085654875214444,0.1641670070735702,0.1594922417104804,0.24785735669541234,0.1450367344799785,0.2360959423458205,0.2314930294583439,0.2437014168921732,0.13937566322202563,0.22697336084509012,0.25844598151672893,0.13635382860860099,0.1282559304182598,0.13436438830498368,0.12570567212727904,0.2299380052879841,0.23969574959416418,0.23179492710133592,0.24014089105869618,0.2600221725362463,0.24333708937237275,0.25013208121002417,0.24529758291837286,0.23514203907122586,0.20616714405505213,0.19582278773877831,0.19509922470242558,0.17115528978253888,0.20232284420044575,0.20252229794790605,0.19819375399184944,0.19774051668793652,0.38196484929273167,0.1794023191525832,0.37320708003934466,0.2832801129229213,0.38728524551927446,0.403099499075508,0.40330408361146697,0.28496828624004494,0.2964662704498379,0.3964102399142923,0.3762791036873438,0.38484187517727464,0.29081606122667636,0.2856121987859023,0.27462887567985206,0.5216896361791517,0.2976733652641339,0.28772477006732744,0.2911489856219764,0.30153047686380985,0.5721723636000515,0.518118148308221,0.5244271930655438,0.4995810690686313,0.48585825963462,0.5503888253645395,0.5395163936148193,0.4817456507226218,0.4503668446169456,0.34151705325916176,0.3472967413315254,0.34410656576472576,0.3286002253768873,0.3443496604494165,0.4290721415796292,0.330052086502989,0.3339252210145794,0.35259890705484526,0.32130701672595524,0.4320957054749675,0.40762466876202835,0.4231446078094231,0.4049354772488552,0.42276537249408164,0.4277192418359826,0.6161106160491623,0.419789366502102,0.4215301990755445,0.35641630985617806,0.34785629741357843,0.35874033666957283,0.35814994260875205,0.3656221184954632,0.36317448161243393,0.3707927476101002,0.35519645097301694,0.36735201805139184,0.35300691573327947,0.3611583760377797,0.46130553470624275,0.3210730301246325,0.4548544649513744,0.4520792494126969,0.46984163611502777,0.47153397836907185,0.4861907100899406,0.46434312195960575,0.48065267008175433,0.4001743544158634,0.48645157524198973,0.46588663422367976,0.45749803098775205,0.4601529190402986,0.4507505082322478,0.5866496228568625,0.5917148126722815,0.6424556782611455,0.6189376319028674,0.6063954086934978,0.6306846832013491,0.6035126193862181,0.6499521220895882,0.6439469337070759,0.6108136685469084,0.6959833228122638,0.6881544802452133,0.536726141427355,0.5607081969617121,0.6747417550522715,0.7014732326886338,0.6941467687255697,0.6625883552275162,0.7495947962889334,0.7489092747222146,0.8543177196486038,0.7762610380756324,0.7943718517175541,0.7357284548624866,0.780312977508543,0.7557608277328943,0.7591977288185227,0.7619081004769152,0.7358060058950175,0.7901640749422483,0.7431256497198708,0.7812741014862715,0.7733055652517602],\"y\":[0.8719022753395407,0.8719022753395407,0.8719022753395407,0.8719022753395407,0.8719022753395407,0.8719022753395407,0.8719022753395407,0.8719022753395407,0.8533235970298179,0.8559907438940723,0.8361302772806434,0.8529366493371618,0.8492104219710829,0.8688386758703259,0.865628739217132,0.8259444270048506,0.8544510475979903,0.8738317145636282,0.8270966400954567,0.8684694632140427,0.8303860876266382,0.8658756157551164,0.8374982821341208,0.8704209798808522,0.8616993917942428,0.873443683991033,0.8740890241115455,0.8734871695476139,0.8735671147476106,0.8728723960560825,0.873830493454323,0.8351452228832151,0.8734663567959681,0.8738980054634228,0.867942086325493,0.8698677498026421,0.8701876459043003,0.8696854037320623,0.8668675601274488,0.8696267183492526,0.8632502578606605,0.8704916931535133,0.8583636478539072,0.8746803481809351,0.874360579025414,0.8746961434256736,0.8746961434256736,0.8749041304881908,0.87489187794198,0.8734411517492623,0.8746649471834649,0.8745971360847744,0.8744841473558422,0.8745321031114927,0.8741887455534141,0.8750828525950624,0.8749091334440996,0.8746936172306834,0.8745267169723284,0.8744178607448347,0.8744824313330412,0.8744075221944148,0.8753751758292369,0.8740555806442544,0.8738392053252764,0.8735402291838534,0.8718770525529683,0.8714784370635277,0.8736194618570569,0.8744155199456334,0.8745246929172866,0.8747011140728048,0.8748935264142512,0.8751931559926538,0.8749608008980709,0.8750036471127522,0.8748282963265048,0.8749248074401859,0.8753218295023343,0.8751644430396516,0.8750599385586462,0.8753266754219309,0.8750694295323924,0.8751964007445849,0.87468143726375,0.8749234657287877,0.8748498458295966,0.8753068652651189,0.8751971287764354,0.8752184935801971,0.8736609654608717,0.8738171104054056,0.8737460463068867,0.8727806098142226,0.8740867815416052,0.8718247864076002,0.8742402216897778,0.8730307374068126,0.8740521956315833,0.8709910358753483,0.8680634821847905,0.8752733779631475,0.8745234768252139,0.8743876420756962,0.8748456871488999,0.8752720800941061,0.8755095559092501,0.8755095559092501,0.8751952836366612,0.8754420581197657,0.8751420140387876,0.8751184328511676,0.8744284641461991,0.8742129247982394,0.8753902361432164,0.8747249562942802,0.875109860804228,0.8737390318083105,0.8748309192942918,0.8754847793659458,0.875516002034777,0.8752472145606012,0.8748365257153038,0.8752018012287526,0.874274707664577,0.8738955644880313,0.8753903625916395,0.8754230404827066,0.8752367573123676,0.8753306112793237,0.8753856743506491,0.8754130925607843,0.8751941094792539,0.8755222986396051,0.875577315397915,0.8751100909887557,0.8753667508353224,0.8753171345850637,0.8754627524687294,0.8754351087125757,0.8753734271684074,0.8753368172105939,0.8755012700160221,0.875353877033389,0.8751636836014768,0.8754953201320819,0.8755058820589638,0.8753458158208304,0.8750287661508516,0.8751226959089843,0.8753844066621983,0.875533676315891,0.8754899775307601,0.875454809599144,0.8755455469114037,0.8752580526455402,0.8752182141223844,0.875271605012839,0.8749286582272513,0.8753274108828174,0.8755047992664553,0.8754665366094245,0.8754135016793454,0.8754770373946477,0.8754728904705843,0.8756924224635556,0.8754029622843756,0.875449888315714,0.8753815968144358,0.8755216431119697,0.8756948998471501,0.8755654172421684,0.8755214409504181,0.8753725356828443,0.8754710131994525,0.8755582247175567,0.8754160626686993,0.8751952881890196,0.8750985332721204],\"type\":\"scatter\",\"xaxis\":\"x5\",\"yaxis\":\"y5\"},{\"marker\":{\"color\":\"Darkgrey\",\"colorbar\":{\"title\":{\"text\":\"Trial\"},\"x\":1.0,\"xpad\":40},\"colorscale\":[[0.0,\"rgb(247,251,255)\"],[0.125,\"rgb(222,235,247)\"],[0.25,\"rgb(198,219,239)\"],[0.375,\"rgb(158,202,225)\"],[0.5,\"rgb(107,174,214)\"],[0.625,\"rgb(66,146,198)\"],[0.75,\"rgb(33,113,181)\"],[0.875,\"rgb(8,81,156)\"],[1.0,\"rgb(8,48,107)\"]],\"line\":{\"color\":\"Black\",\"width\":1},\"showscale\":false,\"opacity\":0.2,\"size\":3},\"mode\":\"markers\",\"showlegend\":false,\"x\":[15,33,23,10,135,14,17,18,91,53,50,81,77,11,38,76,29,37,32,29,30,29,28,29,26,25,23,22,25,21,21,40,20,20,21,40,43,38,20,15,15,40,15,16,15,14,17,17,25,23,17,17,12,12,12,17,12,12,12,12,12,17,17,10,10,13,10,10,18,14,14,14,14,18,14,14,14,18,19,18,14,19,19,19,19,18,19,19,19,20,19,19,19,19,22,22,22,22,22,22,23,23,16,16,16,16,26,24,16,24,16,20,24,24,26,25,26,27,25,27,27,27,26,27,27,31,30,31,31,31,30,30,31,31,34,34,31,33,29,33,36,33,34,29,29,35,29,29,29,29,29,29,29,35,35,35,35,35,35,34,35,35,35,37,33,37,33,37,38,38,38,38,37,39,38,40,40,39,40],\"y\":[0.8719022753395407,0.8719022753395407,0.8719022753395407,0.8719022753395407,0.8719022753395407,0.8719022753395407,0.8719022753395407,0.8719022753395407,0.8533235970298179,0.8559907438940723,0.8361302772806434,0.8529366493371618,0.8492104219710829,0.8688386758703259,0.865628739217132,0.8259444270048506,0.8544510475979903,0.8738317145636282,0.8270966400954567,0.8684694632140427,0.8303860876266382,0.8658756157551164,0.8374982821341208,0.8704209798808522,0.8616993917942428,0.873443683991033,0.8740890241115455,0.8734871695476139,0.8735671147476106,0.8728723960560825,0.873830493454323,0.8351452228832151,0.8734663567959681,0.8738980054634228,0.867942086325493,0.8698677498026421,0.8701876459043003,0.8696854037320623,0.8668675601274488,0.8696267183492526,0.8632502578606605,0.8704916931535133,0.8583636478539072,0.8746803481809351,0.874360579025414,0.8746961434256736,0.8746961434256736,0.8749041304881908,0.87489187794198,0.8734411517492623,0.8746649471834649,0.8745971360847744,0.8744841473558422,0.8745321031114927,0.8741887455534141,0.8750828525950624,0.8749091334440996,0.8746936172306834,0.8745267169723284,0.8744178607448347,0.8744824313330412,0.8744075221944148,0.8753751758292369,0.8740555806442544,0.8738392053252764,0.8735402291838534,0.8718770525529683,0.8714784370635277,0.8736194618570569,0.8744155199456334,0.8745246929172866,0.8747011140728048,0.8748935264142512,0.8751931559926538,0.8749608008980709,0.8750036471127522,0.8748282963265048,0.8749248074401859,0.8753218295023343,0.8751644430396516,0.8750599385586462,0.8753266754219309,0.8750694295323924,0.8751964007445849,0.87468143726375,0.8749234657287877,0.8748498458295966,0.8753068652651189,0.8751971287764354,0.8752184935801971,0.8736609654608717,0.8738171104054056,0.8737460463068867,0.8727806098142226,0.8740867815416052,0.8718247864076002,0.8742402216897778,0.8730307374068126,0.8740521956315833,0.8709910358753483,0.8680634821847905,0.8752733779631475,0.8745234768252139,0.8743876420756962,0.8748456871488999,0.8752720800941061,0.8755095559092501,0.8755095559092501,0.8751952836366612,0.8754420581197657,0.8751420140387876,0.8751184328511676,0.8744284641461991,0.8742129247982394,0.8753902361432164,0.8747249562942802,0.875109860804228,0.8737390318083105,0.8748309192942918,0.8754847793659458,0.875516002034777,0.8752472145606012,0.8748365257153038,0.8752018012287526,0.874274707664577,0.8738955644880313,0.8753903625916395,0.8754230404827066,0.8752367573123676,0.8753306112793237,0.8753856743506491,0.8754130925607843,0.8751941094792539,0.8755222986396051,0.875577315397915,0.8751100909887557,0.8753667508353224,0.8753171345850637,0.8754627524687294,0.8754351087125757,0.8753734271684074,0.8753368172105939,0.8755012700160221,0.875353877033389,0.8751636836014768,0.8754953201320819,0.8755058820589638,0.8753458158208304,0.8750287661508516,0.8751226959089843,0.8753844066621983,0.875533676315891,0.8754899775307601,0.875454809599144,0.8755455469114037,0.8752580526455402,0.8752182141223844,0.875271605012839,0.8749286582272513,0.8753274108828174,0.8755047992664553,0.8754665366094245,0.8754135016793454,0.8754770373946477,0.8754728904705843,0.8756924224635556,0.8754029622843756,0.875449888315714,0.8753815968144358,0.8755216431119697,0.8756948998471501,0.8755654172421684,0.8755214409504181,0.8753725356828443,0.8754710131994525,0.8755582247175567,0.8754160626686993,0.8751952881890196,0.8750985332721204],\"type\":\"scatter\",\"xaxis\":\"x6\",\"yaxis\":\"y6\"},{\"marker\":{\"color\":\"Darkgrey\",\"colorbar\":{\"title\":{\"text\":\"Trial\"},\"x\":1.0,\"xpad\":40},\"colorscale\":[[0.0,\"rgb(247,251,255)\"],[0.125,\"rgb(222,235,247)\"],[0.25,\"rgb(198,219,239)\"],[0.375,\"rgb(158,202,225)\"],[0.5,\"rgb(107,174,214)\"],[0.625,\"rgb(66,146,198)\"],[0.75,\"rgb(33,113,181)\"],[0.875,\"rgb(8,81,156)\"],[1.0,\"rgb(8,48,107)\"]],\"line\":{\"color\":\"Black\",\"width\":1},\"showscale\":false,\"opacity\":0.2,\"size\":3},\"mode\":\"markers\",\"showlegend\":false,\"x\":[0.5011169563583714,0.5681218704479398,0.5027995739923166,0.5313457756673516,0.4717658767137029,0.4538551748313981,0.5498928707573632,0.591933811407886,0.41429343106393346,0.47649771626048865,0.540346749419167,0.5543446772065876,0.5619714578846036,0.48806767578956406,0.48965720535036844,0.4980330528381065,0.45734901404902917,0.5151048667113889,0.5895641167638999,0.5976152699064494,0.5963409957381618,0.5204648615132036,0.5142442806761449,0.5967388929406999,0.5948790517673672,0.5167119161492675,0.5282264242091015,0.5177270861792642,0.5198920305699821,0.5192407430018783,0.5721478830552936,0.5705256920060993,0.5250007230630674,0.5193461152927417,0.5292843819820837,0.5314671304609312,0.534694465489037,0.5392127373499397,0.533314343171204,0.5385942348966055,0.5382631314018375,0.5395685723520893,0.5733012692612042,0.5739269435373717,0.5679490734878578,0.5467129951862423,0.5091101496375524,0.506922035356841,0.5046971781964157,0.5047790511952184,0.5705881391853279,0.5495481934576578,0.5073100998102813,0.549562791614109,0.5559304091884154,0.5533368392781306,0.5050484339714733,0.5503726386871493,0.5487297902041511,0.5798353780752836,0.5820785862552256,0.4919297364745372,0.5812138639919521,0.5820360295283858,0.4972831926737184,0.4950320775458431,0.49567022096989605,0.49740595553440214,0.4897713902147356,0.5095792447894503,0.5082502515277986,0.49809550101459954,0.5096275461969179,0.5092326829161713,0.5095532517931946,0.48212906358992297,0.5093837795428855,0.5115516222857457,0.5598493626028491,0.48087899657499295,0.4831893811861283,0.481809342637502,0.4828777786680411,0.47723725755939955,0.4843355344271011,0.4807065332565239,0.48275069560178363,0.48256247305186223,0.48265750252659756,0.4838771074117244,0.4817100202375503,0.46770110477184035,0.4711544653674366,0.47251064430929723,0.46977367827312666,0.47059047084502764,0.4720325813846666,0.47240933343460734,0.47383781176241924,0.4727899232538662,0.4770961090795374,0.47631956176209866,0.4763366593076363,0.4762208630530821,0.47687186300316575,0.4880959043914005,0.47642800922056866,0.48916800881793604,0.49024171694019725,0.49170089217158475,0.4879619020535728,0.4660638339827936,0.4604835340799895,0.4867656434264754,0.48754112473125194,0.4863006886611586,0.4657918892191228,0.5007148640527835,0.5008369323106596,0.501824285816601,0.501125983013977,0.5014109711435447,0.49423773389570247,0.492673840457706,0.49384271058264323,0.4917116703429371,0.49246068968449536,0.4933784900014504,0.4923042573831547,0.49306618075022346,0.4937422666711116,0.5029524234325922,0.5017722075004737,0.48802149440854825,0.4889263539142102,0.5034058719225389,0.5029530528555364,0.5024754435900024,0.5018531835751285,0.4976958637268718,0.4970861767463782,0.4982339240899871,0.4983583465818888,0.4974484928690996,0.4983497639047141,0.5131738746677172,0.4975486452487713,0.4981250613841947,0.49783989713963445,0.5147990417297258,0.4886224004584231,0.4956160898351232,0.48850017644632915,0.514186198632185,0.5139647323717319,0.5124005112821284,0.5059099472475888,0.5055734653959533,0.5050870904700048,0.5065000361604439,0.5136468188165535,0.5161971153374457,0.5134134938505535,0.5167317055267333,0.5184384916374553,0.5162974064882687,0.5163935913649723,0.5155928806384299,0.5160248471154255,0.5226752430342082,0.5208166272698982,0.519767588482204,0.5207850626913391,0.5220124047116436,0.5231715162191956,0.5277784930056334,0.5230661063702348,0.5243884193079155,0.52345546822509],\"y\":[0.8719022753395407,0.8719022753395407,0.8719022753395407,0.8719022753395407,0.8719022753395407,0.8719022753395407,0.8719022753395407,0.8719022753395407,0.8533235970298179,0.8559907438940723,0.8361302772806434,0.8529366493371618,0.8492104219710829,0.8688386758703259,0.865628739217132,0.8259444270048506,0.8544510475979903,0.8738317145636282,0.8270966400954567,0.8684694632140427,0.8303860876266382,0.8658756157551164,0.8374982821341208,0.8704209798808522,0.8616993917942428,0.873443683991033,0.8740890241115455,0.8734871695476139,0.8735671147476106,0.8728723960560825,0.873830493454323,0.8351452228832151,0.8734663567959681,0.8738980054634228,0.867942086325493,0.8698677498026421,0.8701876459043003,0.8696854037320623,0.8668675601274488,0.8696267183492526,0.8632502578606605,0.8704916931535133,0.8583636478539072,0.8746803481809351,0.874360579025414,0.8746961434256736,0.8746961434256736,0.8749041304881908,0.87489187794198,0.8734411517492623,0.8746649471834649,0.8745971360847744,0.8744841473558422,0.8745321031114927,0.8741887455534141,0.8750828525950624,0.8749091334440996,0.8746936172306834,0.8745267169723284,0.8744178607448347,0.8744824313330412,0.8744075221944148,0.8753751758292369,0.8740555806442544,0.8738392053252764,0.8735402291838534,0.8718770525529683,0.8714784370635277,0.8736194618570569,0.8744155199456334,0.8745246929172866,0.8747011140728048,0.8748935264142512,0.8751931559926538,0.8749608008980709,0.8750036471127522,0.8748282963265048,0.8749248074401859,0.8753218295023343,0.8751644430396516,0.8750599385586462,0.8753266754219309,0.8750694295323924,0.8751964007445849,0.87468143726375,0.8749234657287877,0.8748498458295966,0.8753068652651189,0.8751971287764354,0.8752184935801971,0.8736609654608717,0.8738171104054056,0.8737460463068867,0.8727806098142226,0.8740867815416052,0.8718247864076002,0.8742402216897778,0.8730307374068126,0.8740521956315833,0.8709910358753483,0.8680634821847905,0.8752733779631475,0.8745234768252139,0.8743876420756962,0.8748456871488999,0.8752720800941061,0.8755095559092501,0.8755095559092501,0.8751952836366612,0.8754420581197657,0.8751420140387876,0.8751184328511676,0.8744284641461991,0.8742129247982394,0.8753902361432164,0.8747249562942802,0.875109860804228,0.8737390318083105,0.8748309192942918,0.8754847793659458,0.875516002034777,0.8752472145606012,0.8748365257153038,0.8752018012287526,0.874274707664577,0.8738955644880313,0.8753903625916395,0.8754230404827066,0.8752367573123676,0.8753306112793237,0.8753856743506491,0.8754130925607843,0.8751941094792539,0.8755222986396051,0.875577315397915,0.8751100909887557,0.8753667508353224,0.8753171345850637,0.8754627524687294,0.8754351087125757,0.8753734271684074,0.8753368172105939,0.8755012700160221,0.875353877033389,0.8751636836014768,0.8754953201320819,0.8755058820589638,0.8753458158208304,0.8750287661508516,0.8751226959089843,0.8753844066621983,0.875533676315891,0.8754899775307601,0.875454809599144,0.8755455469114037,0.8752580526455402,0.8752182141223844,0.875271605012839,0.8749286582272513,0.8753274108828174,0.8755047992664553,0.8754665366094245,0.8754135016793454,0.8754770373946477,0.8754728904705843,0.8756924224635556,0.8754029622843756,0.875449888315714,0.8753815968144358,0.8755216431119697,0.8756948998471501,0.8755654172421684,0.8755214409504181,0.8753725356828443,0.8754710131994525,0.8755582247175567,0.8754160626686993,0.8751952881890196,0.8750985332721204],\"type\":\"scatter\",\"xaxis\":\"x7\",\"yaxis\":\"y7\"},{\"marker\":{\"color\":\"Darkgrey\",\"colorbar\":{\"title\":{\"text\":\"Trial\"},\"x\":1.0,\"xpad\":40},\"colorscale\":[[0.0,\"rgb(247,251,255)\"],[0.125,\"rgb(222,235,247)\"],[0.25,\"rgb(198,219,239)\"],[0.375,\"rgb(158,202,225)\"],[0.5,\"rgb(107,174,214)\"],[0.625,\"rgb(66,146,198)\"],[0.75,\"rgb(33,113,181)\"],[0.875,\"rgb(8,81,156)\"],[1.0,\"rgb(8,48,107)\"]],\"line\":{\"color\":\"Black\",\"width\":1},\"showscale\":false,\"opacity\":0.2,\"size\":3},\"mode\":\"markers\",\"showlegend\":false,\"x\":[0.712514788185299,0.9915315014011037,0.6999968004366779,0.7234837723740906,0.9398763259541794,0.8432884713731519,0.7940125465068217,0.933746701064647,0.9402839057405037,0.9705194416017981,0.7558911005401643,0.6326106411593195,0.6093294276171435,0.4271986885449087,0.38244167211207,0.6528509012931254,0.40756696486991006,0.5313436821188992,0.5569469983813568,0.5254620421865686,0.6002504477531405,0.5717095957293576,0.8649212464049202,0.9974342597546049,0.5464324579112554,0.5203568797744753,0.5163688787079749,0.32441293864620585,0.8334683314743416,0.8670208139618953,0.9979503898916887,0.5048166064517055,0.496364040292134,0.491573487953064,0.3206435504204551,0.4530220630979111,0.47601577489634045,0.47012192689459065,0.49359494218438554,0.46728932327710865,0.47948920184683697,0.4592828110216578,0.47550635132485164,0.6983881828490166,0.678415517250586,0.6678059087364452,0.689239692306669,0.667636192134754,0.6904474682892787,0.6828116420143836,0.7010829322787473,0.6850285256508927,0.6703805879382931,0.6874739007435627,0.6871995810577791,0.7006691700457243,0.7119871387817089,0.723118741935139,0.72817027368828,0.7341409365306995,0.7226308064490804,0.7344557602889915,0.7307024297842635,0.7407653167764188,0.7244795860731522,0.75065997580389,0.6464483572625614,0.6481926978513065,0.6550814875644929,0.6457893346991532,0.6434174736123713,0.6541673087934127,0.6333783628889227,0.6337052472101213,0.7755307274378876,0.769070331749691,0.7662997207089763,0.7696577216142406,0.7781824536057533,0.7677599386702424,0.6190551022655574,0.6208883286020146,0.7758540911854082,0.7705292521441487,0.625262720744741,0.7718523567066089,0.7892107499785651,0.77502527753646,0.7778881193434962,0.791623247376195,0.8097165232875925,0.7980921445955985,0.7947036159887485,0.8212207575381667,0.8043205669785835,0.7518031656110498,0.8058263730439804,0.8120539335030218,0.8036403695962522,0.7534312701052067,0.7511963151509151,0.7512243672428167,0.8415464763214408,0.7505228602755447,0.7089729388528877,0.7084081126290815,0.7080785282307029,0.8477451580108816,0.708237501747081,0.7870014184440287,0.7856544255775452,0.7048362511888292,0.7227312399143347,0.7887642192652577,0.7867026959490963,0.7877993366985249,0.7852143990669993,0.785069623848726,0.8283370435401801,0.738588973621938,0.8258113378433195,0.8338964984593646,0.8627818974597105,0.7422321101514031,0.8612069093167138,0.8242481920236739,0.7346960805554815,0.7416176440921831,0.8665838709871152,0.8442257912375417,0.8492167118944741,0.8492173001590325,0.8199927290570727,0.7174295004426056,0.7387663492775175,0.733904168719679,0.7427790101002382,0.8442469022264389,0.8507655783399061,0.8442885038799932,0.8528743213862279,0.8442832391709053,0.8502973199472054,0.8868148651977472,0.7382632414615345,0.8831694891920524,0.878166176887574,0.8883704968241316,0.7226885099529634,0.7216989220951261,0.8913014137514282,0.8992533579654973,0.8911393141064811,0.8902830494743105,0.8841189368959509,0.8748778164896839,0.8854203669922492,0.8695279293747974,0.8705151103823947,0.8755699319865582,0.883588476512913,0.9052329260542227,0.9023185463374499,0.9189474220919692,0.9124604684938404,0.9032386177151805,0.9079207779413507,0.9113083080869557,0.9037755966995403,0.9057807562459836,0.9101978401379107,0.9121066141032989,0.913413663629104,0.9147845707792697,0.9174466791547299,0.9236156300297982,0.9248020766995108,0.9244673974402158,0.9369517965430468],\"y\":[0.8719022753395407,0.8719022753395407,0.8719022753395407,0.8719022753395407,0.8719022753395407,0.8719022753395407,0.8719022753395407,0.8719022753395407,0.8533235970298179,0.8559907438940723,0.8361302772806434,0.8529366493371618,0.8492104219710829,0.8688386758703259,0.865628739217132,0.8259444270048506,0.8544510475979903,0.8738317145636282,0.8270966400954567,0.8684694632140427,0.8303860876266382,0.8658756157551164,0.8374982821341208,0.8704209798808522,0.8616993917942428,0.873443683991033,0.8740890241115455,0.8734871695476139,0.8735671147476106,0.8728723960560825,0.873830493454323,0.8351452228832151,0.8734663567959681,0.8738980054634228,0.867942086325493,0.8698677498026421,0.8701876459043003,0.8696854037320623,0.8668675601274488,0.8696267183492526,0.8632502578606605,0.8704916931535133,0.8583636478539072,0.8746803481809351,0.874360579025414,0.8746961434256736,0.8746961434256736,0.8749041304881908,0.87489187794198,0.8734411517492623,0.8746649471834649,0.8745971360847744,0.8744841473558422,0.8745321031114927,0.8741887455534141,0.8750828525950624,0.8749091334440996,0.8746936172306834,0.8745267169723284,0.8744178607448347,0.8744824313330412,0.8744075221944148,0.8753751758292369,0.8740555806442544,0.8738392053252764,0.8735402291838534,0.8718770525529683,0.8714784370635277,0.8736194618570569,0.8744155199456334,0.8745246929172866,0.8747011140728048,0.8748935264142512,0.8751931559926538,0.8749608008980709,0.8750036471127522,0.8748282963265048,0.8749248074401859,0.8753218295023343,0.8751644430396516,0.8750599385586462,0.8753266754219309,0.8750694295323924,0.8751964007445849,0.87468143726375,0.8749234657287877,0.8748498458295966,0.8753068652651189,0.8751971287764354,0.8752184935801971,0.8736609654608717,0.8738171104054056,0.8737460463068867,0.8727806098142226,0.8740867815416052,0.8718247864076002,0.8742402216897778,0.8730307374068126,0.8740521956315833,0.8709910358753483,0.8680634821847905,0.8752733779631475,0.8745234768252139,0.8743876420756962,0.8748456871488999,0.8752720800941061,0.8755095559092501,0.8755095559092501,0.8751952836366612,0.8754420581197657,0.8751420140387876,0.8751184328511676,0.8744284641461991,0.8742129247982394,0.8753902361432164,0.8747249562942802,0.875109860804228,0.8737390318083105,0.8748309192942918,0.8754847793659458,0.875516002034777,0.8752472145606012,0.8748365257153038,0.8752018012287526,0.874274707664577,0.8738955644880313,0.8753903625916395,0.8754230404827066,0.8752367573123676,0.8753306112793237,0.8753856743506491,0.8754130925607843,0.8751941094792539,0.8755222986396051,0.875577315397915,0.8751100909887557,0.8753667508353224,0.8753171345850637,0.8754627524687294,0.8754351087125757,0.8753734271684074,0.8753368172105939,0.8755012700160221,0.875353877033389,0.8751636836014768,0.8754953201320819,0.8755058820589638,0.8753458158208304,0.8750287661508516,0.8751226959089843,0.8753844066621983,0.875533676315891,0.8754899775307601,0.875454809599144,0.8755455469114037,0.8752580526455402,0.8752182141223844,0.875271605012839,0.8749286582272513,0.8753274108828174,0.8755047992664553,0.8754665366094245,0.8754135016793454,0.8754770373946477,0.8754728904705843,0.8756924224635556,0.8754029622843756,0.875449888315714,0.8753815968144358,0.8755216431119697,0.8756948998471501,0.8755654172421684,0.8755214409504181,0.8753725356828443,0.8754710131994525,0.8755582247175567,0.8754160626686993,0.8751952881890196,0.8750985332721204],\"type\":\"scatter\",\"xaxis\":\"x8\",\"yaxis\":\"y8\"}],                        {\"template\":{\"layout\":{\"autosize\":true,\"height\":200,\"legend\":{\"orientation\":\"h\"},\"margin\":{\"b\":40,\"t\":40},\"template\":{\"data\":{\"barpolar\":[{\"marker\":{\"line\":{\"color\":\"rgb(234,234,242)\",\"width\":0.5},\"pattern\":{\"fillmode\":\"overlay\",\"size\":10,\"solidity\":0.2}},\"type\":\"barpolar\"}],\"bar\":[{\"error_x\":{\"color\":\"rgb(36,36,36)\"},\"error_y\":{\"color\":\"rgb(36,36,36)\"},\"marker\":{\"line\":{\"color\":\"rgb(234,234,242)\",\"width\":0.5},\"pattern\":{\"fillmode\":\"overlay\",\"size\":10,\"solidity\":0.2}},\"type\":\"bar\"}],\"carpet\":[{\"aaxis\":{\"endlinecolor\":\"rgb(36,36,36)\",\"gridcolor\":\"white\",\"linecolor\":\"white\",\"minorgridcolor\":\"white\",\"startlinecolor\":\"rgb(36,36,36)\"},\"baxis\":{\"endlinecolor\":\"rgb(36,36,36)\",\"gridcolor\":\"white\",\"linecolor\":\"white\",\"minorgridcolor\":\"white\",\"startlinecolor\":\"rgb(36,36,36)\"},\"type\":\"carpet\"}],\"choropleth\":[{\"colorbar\":{\"outlinewidth\":0,\"tickcolor\":\"rgb(36,36,36)\",\"ticklen\":8,\"ticks\":\"outside\",\"tickwidth\":2},\"type\":\"choropleth\"}],\"contourcarpet\":[{\"colorbar\":{\"outlinewidth\":0,\"tickcolor\":\"rgb(36,36,36)\",\"ticklen\":8,\"ticks\":\"outside\",\"tickwidth\":2},\"type\":\"contourcarpet\"}],\"contour\":[{\"colorbar\":{\"outlinewidth\":0,\"tickcolor\":\"rgb(36,36,36)\",\"ticklen\":8,\"ticks\":\"outside\",\"tickwidth\":2},\"colorscale\":[[0.0,\"rgb(2,4,25)\"],[0.06274509803921569,\"rgb(24,15,41)\"],[0.12549019607843137,\"rgb(47,23,57)\"],[0.18823529411764706,\"rgb(71,28,72)\"],[0.25098039215686274,\"rgb(97,30,82)\"],[0.3137254901960784,\"rgb(123,30,89)\"],[0.3764705882352941,\"rgb(150,27,91)\"],[0.4392156862745098,\"rgb(177,22,88)\"],[0.5019607843137255,\"rgb(203,26,79)\"],[0.5647058823529412,\"rgb(223,47,67)\"],[0.6274509803921569,\"rgb(236,76,61)\"],[0.6901960784313725,\"rgb(242,107,73)\"],[0.7529411764705882,\"rgb(244,135,95)\"],[0.8156862745098039,\"rgb(245,162,122)\"],[0.8784313725490196,\"rgb(246,188,153)\"],[0.9411764705882353,\"rgb(247,212,187)\"],[1.0,\"rgb(250,234,220)\"]],\"type\":\"contour\"}],\"heatmapgl\":[{\"colorbar\":{\"outlinewidth\":0,\"tickcolor\":\"rgb(36,36,36)\",\"ticklen\":8,\"ticks\":\"outside\",\"tickwidth\":2},\"colorscale\":[[0.0,\"rgb(2,4,25)\"],[0.06274509803921569,\"rgb(24,15,41)\"],[0.12549019607843137,\"rgb(47,23,57)\"],[0.18823529411764706,\"rgb(71,28,72)\"],[0.25098039215686274,\"rgb(97,30,82)\"],[0.3137254901960784,\"rgb(123,30,89)\"],[0.3764705882352941,\"rgb(150,27,91)\"],[0.4392156862745098,\"rgb(177,22,88)\"],[0.5019607843137255,\"rgb(203,26,79)\"],[0.5647058823529412,\"rgb(223,47,67)\"],[0.6274509803921569,\"rgb(236,76,61)\"],[0.6901960784313725,\"rgb(242,107,73)\"],[0.7529411764705882,\"rgb(244,135,95)\"],[0.8156862745098039,\"rgb(245,162,122)\"],[0.8784313725490196,\"rgb(246,188,153)\"],[0.9411764705882353,\"rgb(247,212,187)\"],[1.0,\"rgb(250,234,220)\"]],\"type\":\"heatmapgl\"}],\"heatmap\":[{\"colorbar\":{\"outlinewidth\":0,\"tickcolor\":\"rgb(36,36,36)\",\"ticklen\":8,\"ticks\":\"outside\",\"tickwidth\":2},\"colorscale\":[[0.0,\"rgb(2,4,25)\"],[0.06274509803921569,\"rgb(24,15,41)\"],[0.12549019607843137,\"rgb(47,23,57)\"],[0.18823529411764706,\"rgb(71,28,72)\"],[0.25098039215686274,\"rgb(97,30,82)\"],[0.3137254901960784,\"rgb(123,30,89)\"],[0.3764705882352941,\"rgb(150,27,91)\"],[0.4392156862745098,\"rgb(177,22,88)\"],[0.5019607843137255,\"rgb(203,26,79)\"],[0.5647058823529412,\"rgb(223,47,67)\"],[0.6274509803921569,\"rgb(236,76,61)\"],[0.6901960784313725,\"rgb(242,107,73)\"],[0.7529411764705882,\"rgb(244,135,95)\"],[0.8156862745098039,\"rgb(245,162,122)\"],[0.8784313725490196,\"rgb(246,188,153)\"],[0.9411764705882353,\"rgb(247,212,187)\"],[1.0,\"rgb(250,234,220)\"]],\"type\":\"heatmap\"}],\"histogram2dcontour\":[{\"colorbar\":{\"outlinewidth\":0,\"tickcolor\":\"rgb(36,36,36)\",\"ticklen\":8,\"ticks\":\"outside\",\"tickwidth\":2},\"colorscale\":[[0.0,\"rgb(2,4,25)\"],[0.06274509803921569,\"rgb(24,15,41)\"],[0.12549019607843137,\"rgb(47,23,57)\"],[0.18823529411764706,\"rgb(71,28,72)\"],[0.25098039215686274,\"rgb(97,30,82)\"],[0.3137254901960784,\"rgb(123,30,89)\"],[0.3764705882352941,\"rgb(150,27,91)\"],[0.4392156862745098,\"rgb(177,22,88)\"],[0.5019607843137255,\"rgb(203,26,79)\"],[0.5647058823529412,\"rgb(223,47,67)\"],[0.6274509803921569,\"rgb(236,76,61)\"],[0.6901960784313725,\"rgb(242,107,73)\"],[0.7529411764705882,\"rgb(244,135,95)\"],[0.8156862745098039,\"rgb(245,162,122)\"],[0.8784313725490196,\"rgb(246,188,153)\"],[0.9411764705882353,\"rgb(247,212,187)\"],[1.0,\"rgb(250,234,220)\"]],\"type\":\"histogram2dcontour\"}],\"histogram2d\":[{\"colorbar\":{\"outlinewidth\":0,\"tickcolor\":\"rgb(36,36,36)\",\"ticklen\":8,\"ticks\":\"outside\",\"tickwidth\":2},\"colorscale\":[[0.0,\"rgb(2,4,25)\"],[0.06274509803921569,\"rgb(24,15,41)\"],[0.12549019607843137,\"rgb(47,23,57)\"],[0.18823529411764706,\"rgb(71,28,72)\"],[0.25098039215686274,\"rgb(97,30,82)\"],[0.3137254901960784,\"rgb(123,30,89)\"],[0.3764705882352941,\"rgb(150,27,91)\"],[0.4392156862745098,\"rgb(177,22,88)\"],[0.5019607843137255,\"rgb(203,26,79)\"],[0.5647058823529412,\"rgb(223,47,67)\"],[0.6274509803921569,\"rgb(236,76,61)\"],[0.6901960784313725,\"rgb(242,107,73)\"],[0.7529411764705882,\"rgb(244,135,95)\"],[0.8156862745098039,\"rgb(245,162,122)\"],[0.8784313725490196,\"rgb(246,188,153)\"],[0.9411764705882353,\"rgb(247,212,187)\"],[1.0,\"rgb(250,234,220)\"]],\"type\":\"histogram2d\"}],\"histogram\":[{\"marker\":{\"pattern\":{\"fillmode\":\"overlay\",\"size\":10,\"solidity\":0.2}},\"type\":\"histogram\"}],\"mesh3d\":[{\"colorbar\":{\"outlinewidth\":0,\"tickcolor\":\"rgb(36,36,36)\",\"ticklen\":8,\"ticks\":\"outside\",\"tickwidth\":2},\"type\":\"mesh3d\"}],\"parcoords\":[{\"line\":{\"colorbar\":{\"outlinewidth\":0,\"tickcolor\":\"rgb(36,36,36)\",\"ticklen\":8,\"ticks\":\"outside\",\"tickwidth\":2}},\"type\":\"parcoords\"}],\"pie\":[{\"automargin\":true,\"type\":\"pie\"}],\"scatter3d\":[{\"line\":{\"colorbar\":{\"outlinewidth\":0,\"tickcolor\":\"rgb(36,36,36)\",\"ticklen\":8,\"ticks\":\"outside\",\"tickwidth\":2}},\"marker\":{\"colorbar\":{\"outlinewidth\":0,\"tickcolor\":\"rgb(36,36,36)\",\"ticklen\":8,\"ticks\":\"outside\",\"tickwidth\":2}},\"type\":\"scatter3d\"}],\"scattercarpet\":[{\"marker\":{\"colorbar\":{\"outlinewidth\":0,\"tickcolor\":\"rgb(36,36,36)\",\"ticklen\":8,\"ticks\":\"outside\",\"tickwidth\":2}},\"type\":\"scattercarpet\"}],\"scattergeo\":[{\"marker\":{\"colorbar\":{\"outlinewidth\":0,\"tickcolor\":\"rgb(36,36,36)\",\"ticklen\":8,\"ticks\":\"outside\",\"tickwidth\":2}},\"type\":\"scattergeo\"}],\"scattergl\":[{\"marker\":{\"colorbar\":{\"outlinewidth\":0,\"tickcolor\":\"rgb(36,36,36)\",\"ticklen\":8,\"ticks\":\"outside\",\"tickwidth\":2}},\"type\":\"scattergl\"}],\"scattermapbox\":[{\"marker\":{\"colorbar\":{\"outlinewidth\":0,\"tickcolor\":\"rgb(36,36,36)\",\"ticklen\":8,\"ticks\":\"outside\",\"tickwidth\":2}},\"type\":\"scattermapbox\"}],\"scatterpolargl\":[{\"marker\":{\"colorbar\":{\"outlinewidth\":0,\"tickcolor\":\"rgb(36,36,36)\",\"ticklen\":8,\"ticks\":\"outside\",\"tickwidth\":2}},\"type\":\"scatterpolargl\"}],\"scatterpolar\":[{\"marker\":{\"colorbar\":{\"outlinewidth\":0,\"tickcolor\":\"rgb(36,36,36)\",\"ticklen\":8,\"ticks\":\"outside\",\"tickwidth\":2}},\"type\":\"scatterpolar\"}],\"scatter\":[{\"fillpattern\":{\"fillmode\":\"overlay\",\"size\":10,\"solidity\":0.2},\"type\":\"scatter\"}],\"scatterternary\":[{\"marker\":{\"colorbar\":{\"outlinewidth\":0,\"tickcolor\":\"rgb(36,36,36)\",\"ticklen\":8,\"ticks\":\"outside\",\"tickwidth\":2}},\"type\":\"scatterternary\"}],\"surface\":[{\"colorbar\":{\"outlinewidth\":0,\"tickcolor\":\"rgb(36,36,36)\",\"ticklen\":8,\"ticks\":\"outside\",\"tickwidth\":2},\"colorscale\":[[0.0,\"rgb(2,4,25)\"],[0.06274509803921569,\"rgb(24,15,41)\"],[0.12549019607843137,\"rgb(47,23,57)\"],[0.18823529411764706,\"rgb(71,28,72)\"],[0.25098039215686274,\"rgb(97,30,82)\"],[0.3137254901960784,\"rgb(123,30,89)\"],[0.3764705882352941,\"rgb(150,27,91)\"],[0.4392156862745098,\"rgb(177,22,88)\"],[0.5019607843137255,\"rgb(203,26,79)\"],[0.5647058823529412,\"rgb(223,47,67)\"],[0.6274509803921569,\"rgb(236,76,61)\"],[0.6901960784313725,\"rgb(242,107,73)\"],[0.7529411764705882,\"rgb(244,135,95)\"],[0.8156862745098039,\"rgb(245,162,122)\"],[0.8784313725490196,\"rgb(246,188,153)\"],[0.9411764705882353,\"rgb(247,212,187)\"],[1.0,\"rgb(250,234,220)\"]],\"type\":\"surface\"}],\"table\":[{\"cells\":{\"fill\":{\"color\":\"rgb(231,231,240)\"},\"line\":{\"color\":\"white\"}},\"header\":{\"fill\":{\"color\":\"rgb(183,183,191)\"},\"line\":{\"color\":\"white\"}},\"type\":\"table\"}]},\"layout\":{\"annotationdefaults\":{\"arrowcolor\":\"rgb(67,103,167)\"},\"autotypenumbers\":\"strict\",\"coloraxis\":{\"colorbar\":{\"outlinewidth\":0,\"tickcolor\":\"rgb(36,36,36)\",\"ticklen\":8,\"ticks\":\"outside\",\"tickwidth\":2}},\"colorscale\":{\"sequential\":[[0.0,\"rgb(2,4,25)\"],[0.06274509803921569,\"rgb(24,15,41)\"],[0.12549019607843137,\"rgb(47,23,57)\"],[0.18823529411764706,\"rgb(71,28,72)\"],[0.25098039215686274,\"rgb(97,30,82)\"],[0.3137254901960784,\"rgb(123,30,89)\"],[0.3764705882352941,\"rgb(150,27,91)\"],[0.4392156862745098,\"rgb(177,22,88)\"],[0.5019607843137255,\"rgb(203,26,79)\"],[0.5647058823529412,\"rgb(223,47,67)\"],[0.6274509803921569,\"rgb(236,76,61)\"],[0.6901960784313725,\"rgb(242,107,73)\"],[0.7529411764705882,\"rgb(244,135,95)\"],[0.8156862745098039,\"rgb(245,162,122)\"],[0.8784313725490196,\"rgb(246,188,153)\"],[0.9411764705882353,\"rgb(247,212,187)\"],[1.0,\"rgb(250,234,220)\"]],\"sequentialminus\":[[0.0,\"rgb(2,4,25)\"],[0.06274509803921569,\"rgb(24,15,41)\"],[0.12549019607843137,\"rgb(47,23,57)\"],[0.18823529411764706,\"rgb(71,28,72)\"],[0.25098039215686274,\"rgb(97,30,82)\"],[0.3137254901960784,\"rgb(123,30,89)\"],[0.3764705882352941,\"rgb(150,27,91)\"],[0.4392156862745098,\"rgb(177,22,88)\"],[0.5019607843137255,\"rgb(203,26,79)\"],[0.5647058823529412,\"rgb(223,47,67)\"],[0.6274509803921569,\"rgb(236,76,61)\"],[0.6901960784313725,\"rgb(242,107,73)\"],[0.7529411764705882,\"rgb(244,135,95)\"],[0.8156862745098039,\"rgb(245,162,122)\"],[0.8784313725490196,\"rgb(246,188,153)\"],[0.9411764705882353,\"rgb(247,212,187)\"],[1.0,\"rgb(250,234,220)\"]]},\"colorway\":[\"rgb(76,114,176)\",\"rgb(221,132,82)\",\"rgb(85,168,104)\",\"rgb(196,78,82)\",\"rgb(129,114,179)\",\"rgb(147,120,96)\",\"rgb(218,139,195)\",\"rgb(140,140,140)\",\"rgb(204,185,116)\",\"rgb(100,181,205)\"],\"font\":{\"color\":\"rgb(36,36,36)\"},\"geo\":{\"bgcolor\":\"white\",\"lakecolor\":\"white\",\"landcolor\":\"rgb(234,234,242)\",\"showlakes\":true,\"showland\":true,\"subunitcolor\":\"white\"},\"hoverlabel\":{\"align\":\"left\"},\"hovermode\":\"closest\",\"paper_bgcolor\":\"white\",\"plot_bgcolor\":\"rgb(234,234,242)\",\"polar\":{\"angularaxis\":{\"gridcolor\":\"white\",\"linecolor\":\"white\",\"showgrid\":true,\"ticks\":\"\"},\"bgcolor\":\"rgb(234,234,242)\",\"radialaxis\":{\"gridcolor\":\"white\",\"linecolor\":\"white\",\"showgrid\":true,\"ticks\":\"\"}},\"scene\":{\"xaxis\":{\"backgroundcolor\":\"rgb(234,234,242)\",\"gridcolor\":\"white\",\"gridwidth\":2,\"linecolor\":\"white\",\"showbackground\":true,\"showgrid\":true,\"ticks\":\"\",\"zerolinecolor\":\"white\"},\"yaxis\":{\"backgroundcolor\":\"rgb(234,234,242)\",\"gridcolor\":\"white\",\"gridwidth\":2,\"linecolor\":\"white\",\"showbackground\":true,\"showgrid\":true,\"ticks\":\"\",\"zerolinecolor\":\"white\"},\"zaxis\":{\"backgroundcolor\":\"rgb(234,234,242)\",\"gridcolor\":\"white\",\"gridwidth\":2,\"linecolor\":\"white\",\"showbackground\":true,\"showgrid\":true,\"ticks\":\"\",\"zerolinecolor\":\"white\"}},\"shapedefaults\":{\"fillcolor\":\"rgb(67,103,167)\",\"line\":{\"width\":0},\"opacity\":0.5},\"ternary\":{\"aaxis\":{\"gridcolor\":\"white\",\"linecolor\":\"white\",\"showgrid\":true,\"ticks\":\"\"},\"baxis\":{\"gridcolor\":\"white\",\"linecolor\":\"white\",\"showgrid\":true,\"ticks\":\"\"},\"bgcolor\":\"rgb(234,234,242)\",\"caxis\":{\"gridcolor\":\"white\",\"linecolor\":\"white\",\"showgrid\":true,\"ticks\":\"\"}},\"xaxis\":{\"automargin\":true,\"gridcolor\":\"white\",\"linecolor\":\"white\",\"showgrid\":true,\"ticks\":\"\",\"title\":{\"standoff\":15},\"zerolinecolor\":\"white\"},\"yaxis\":{\"automargin\":true,\"gridcolor\":\"white\",\"linecolor\":\"white\",\"showgrid\":true,\"ticks\":\"\",\"title\":{\"standoff\":15},\"zerolinecolor\":\"white\"}}}}},\"xaxis\":{\"anchor\":\"y\",\"domain\":[0.0,0.103125],\"title\":{\"text\":\"XGBC__gamma\"},\"type\":\"log\"},\"yaxis\":{\"anchor\":\"x\",\"domain\":[0.0,1.0],\"title\":{\"text\":\"Objective Value\"}},\"xaxis2\":{\"anchor\":\"y2\",\"domain\":[0.128125,0.23124999999999998],\"title\":{\"text\":\"XGBC__lambda\"},\"type\":\"log\"},\"yaxis2\":{\"anchor\":\"x2\",\"domain\":[0.0,1.0],\"matches\":\"y\",\"showticklabels\":false},\"xaxis3\":{\"anchor\":\"y3\",\"domain\":[0.25625,0.359375],\"title\":{\"text\":\"XGBC__learning_rate\"}},\"yaxis3\":{\"anchor\":\"x3\",\"domain\":[0.0,1.0],\"matches\":\"y\",\"showticklabels\":false},\"xaxis4\":{\"anchor\":\"y4\",\"domain\":[0.38437499999999997,0.48749999999999993],\"title\":{\"text\":\"XGBC__max_depth\"}},\"yaxis4\":{\"anchor\":\"x4\",\"domain\":[0.0,1.0],\"matches\":\"y\",\"showticklabels\":false},\"xaxis5\":{\"anchor\":\"y5\",\"domain\":[0.5125,0.615625],\"title\":{\"text\":\"XGBC__min_child_weight\"},\"type\":\"log\"},\"yaxis5\":{\"anchor\":\"x5\",\"domain\":[0.0,1.0],\"matches\":\"y\",\"showticklabels\":false},\"xaxis6\":{\"anchor\":\"y6\",\"domain\":[0.640625,0.74375],\"title\":{\"text\":\"XGBC__n_estimators\"},\"type\":\"log\"},\"yaxis6\":{\"anchor\":\"x6\",\"domain\":[0.0,1.0],\"matches\":\"y\",\"showticklabels\":false},\"xaxis7\":{\"anchor\":\"y7\",\"domain\":[0.76875,0.8718750000000001],\"title\":{\"text\":\"XGBC__scale_pos_weight\"}},\"yaxis7\":{\"anchor\":\"x7\",\"domain\":[0.0,1.0],\"matches\":\"y\",\"showticklabels\":false},\"xaxis8\":{\"anchor\":\"y8\",\"domain\":[0.8968750000000001,1.0],\"title\":{\"text\":\"XGBC__subsample\"}},\"yaxis8\":{\"anchor\":\"x8\",\"domain\":[0.0,1.0],\"matches\":\"y\",\"showticklabels\":false},\"title\":{\"text\":\"XGBClassifier\",\"x\":0},\"width\":2400,\"font\":{\"size\":10}},                        {\"responsive\": true}                    ).then(function(){\n",
       "                            \n",
       "var gd = document.getElementById('c483d386-12b5-4959-b499-8c1877747da6');\n",
       "var x = new MutationObserver(function (mutations, observer) {{\n",
       "        var display = window.getComputedStyle(gd).display;\n",
       "        if (!display || display === 'none') {{\n",
       "            console.log([gd, 'removed!']);\n",
       "            Plotly.purge(gd);\n",
       "            observer.disconnect();\n",
       "        }}\n",
       "}});\n",
       "\n",
       "// Listen for the removal of the full notebook cells\n",
       "var notebookContainer = gd.closest('#notebook-container');\n",
       "if (notebookContainer) {{\n",
       "    x.observe(notebookContainer, {childList: true});\n",
       "}}\n",
       "\n",
       "// Listen for the clearing of the current output cell\n",
       "var outputEl = gd.closest('.output');\n",
       "if (outputEl) {{\n",
       "    x.observe(outputEl, {childList: true});\n",
       "}}\n",
       "\n",
       "                        })                };                });            </script>        </div>"
      ]
     },
     "metadata": {},
     "output_type": "display_data"
    }
   ],
   "source": [
    "for item in range(models.shape[0]):\n",
    "    plot_Optuna(models.loc[item,'study'], 'plot_slice', models.loc[item, 'name'])\n",
    "#     plot_Optuna(models.loc[item,'study'], 'plot_param_importances', models.loc[item, 'name'])     # может работать долго !\n",
    "#     plot_Optuna(models.loc[item,'study'], 'plot_optimization_history', models.loc[item, 'name'])"
   ]
  },
  {
   "cell_type": "markdown",
   "id": "46a25b89",
   "metadata": {},
   "source": [
    "## Results"
   ]
  },
  {
   "cell_type": "markdown",
   "id": "06bad396",
   "metadata": {},
   "source": [
    "### Выбор лучшей модели\n",
    "\n",
    "XGBClassifier"
   ]
  },
  {
   "cell_type": "code",
   "execution_count": 64,
   "id": "889118d3",
   "metadata": {},
   "outputs": [],
   "source": [
    "# выбор модели из таблицы\n",
    "\n",
    "BEST_MODEL_NAME = 'XGBClassifier'\n",
    "model = models.model.values[models.name == BEST_MODEL_NAME][0]"
   ]
  },
  {
   "cell_type": "markdown",
   "id": "5608cc2b",
   "metadata": {},
   "source": [
    "### Важность признаков"
   ]
  },
  {
   "cell_type": "code",
   "execution_count": 65,
   "id": "f93da5c6",
   "metadata": {},
   "outputs": [
    {
     "data": {
      "image/png": "[encoded data removed]",
      "text/plain": [
       "<Figure size 2250x750 with 1 Axes>"
      ]
     },
     "metadata": {},
     "output_type": "display_data"
    },
    {
     "data": {
      "image/png": "[encoded data removed]",
      "text/plain": [
       "<Figure size 2250x750 with 1 Axes>"
      ]
     },
     "metadata": {},
     "output_type": "display_data"
    }
   ],
   "source": [
    "# permutation importance for train\n",
    "plot_feature_importances(\n",
    "                         'Permutation importance for train',\n",
    "                         # извлечение списка признаков\n",
    "                         model.feature_names_in_,\n",
    "                         # вычисление важности признаков\n",
    "                         permutation_importance(model,\n",
    "                                                X_train, Y_train,\n",
    "                                                scoring=SCORING, n_repeats=5, n_jobs=-1, random_state=RS)\n",
    "                        )\n",
    "\n",
    "# permutation importance for valid\n",
    "plot_feature_importances(\n",
    "                         'Permutation importance for valid',\n",
    "                         # извлечение списка признаков\n",
    "                         model.feature_names_in_,\n",
    "                         # вычисление важности признаков\n",
    "                         permutation_importance(model,\n",
    "                                                X_valid, Y_valid,\n",
    "                                                scoring=SCORING, n_repeats=5, n_jobs=-1, random_state=RS)\n",
    "                        )"
   ]
  },
  {
   "cell_type": "markdown",
   "id": "5936e9ee",
   "metadata": {},
   "source": [
    "### Additional metrics"
   ]
  },
  {
   "cell_type": "code",
   "execution_count": 66,
   "id": "0d888084",
   "metadata": {},
   "outputs": [
    {
     "data": {
      "text/html": [
       "<div>\n",
       "<style scoped>\n",
       "    .dataframe tbody tr th:only-of-type {\n",
       "        vertical-align: middle;\n",
       "    }\n",
       "\n",
       "    .dataframe tbody tr th {\n",
       "        vertical-align: top;\n",
       "    }\n",
       "\n",
       "    .dataframe thead th {\n",
       "        text-align: right;\n",
       "    }\n",
       "</style>\n",
       "<table border=\"1\" class=\"dataframe\">\n",
       "  <thead>\n",
       "    <tr style=\"text-align: left;\">\n",
       "      <th></th>\n",
       "      <th>name</th>\n",
       "      <th>roc_auc_train</th>\n",
       "      <th>roc_auc_valid</th>\n",
       "      <th>f1_train</th>\n",
       "      <th>f1_valid</th>\n",
       "      <th>accuracy_train</th>\n",
       "      <th>accuracy_valid</th>\n",
       "      <th>ROC_AUC</th>\n",
       "      <th>matthews_coeff</th>\n",
       "      <th>cohen_kappa</th>\n",
       "    </tr>\n",
       "  </thead>\n",
       "  <tbody>\n",
       "    <tr>\n",
       "      <th>0</th>\n",
       "      <td>XGBClassifier</td>\n",
       "      <td>0.876</td>\n",
       "      <td>0.869</td>\n",
       "      <td>0.730</td>\n",
       "      <td>0.725</td>\n",
       "      <td>0.773</td>\n",
       "      <td>0.767</td>\n",
       "      <td>0.874</td>\n",
       "      <td>0.567</td>\n",
       "      <td>0.545</td>\n",
       "    </tr>\n",
       "  </tbody>\n",
       "</table>\n",
       "</div>"
      ],
      "text/plain": [
       "  name            roc_auc_train  roc_auc_valid  f1_train  f1_valid  \\\n",
       "0  XGBClassifier 0.876          0.869          0.730     0.725       \n",
       "\n",
       "   accuracy_train  accuracy_valid  ROC_AUC  matthews_coeff  cohen_kappa  \n",
       "0 0.773           0.767           0.874    0.567           0.545         "
      ]
     },
     "execution_count": 66,
     "metadata": {},
     "output_type": "execute_result"
    }
   ],
   "source": [
    "# дополнительные метрики моделей\n",
    "models = add_model_metrics(models, X_train, Y_train, X_valid, Y_valid, cv=5, scoring_list=['roc_auc','f1','accuracy'])\n",
    "\n",
    "models.drop(['short_name','model','study','best_params'], axis=1)"
   ]
  },
  {
   "cell_type": "markdown",
   "id": "fcfab7d8",
   "metadata": {},
   "source": [
    "### Save models parameters and metrics"
   ]
  },
  {
   "cell_type": "code",
   "execution_count": 67,
   "id": "b291599f",
   "metadata": {},
   "outputs": [],
   "source": [
    "# # запись в файл\n",
    "# models.to_excel('C:\\\\Users\\\\Admin\\\\Desktop\\\\DS studies\\\\Data\\\\Heart diseases\\\\PROJECT\\\\For work\\\\models{datetime.now().strftime(\"date_%Y-%m-%d time_%H-%M\")}score_{study.best_value:0.4f}.xlsx',sheet_name='best params', index=False)"
   ]
  },
  {
   "cell_type": "code",
   "execution_count": 68,
   "id": "d739244c",
   "metadata": {},
   "outputs": [],
   "source": [
    "models.to_excel('C:\\\\Users\\\\Admin\\\\Desktop\\\\DS studies\\\\Data\\\\Heart diseases\\\\PROJECT\\\\FINAL\\\\models.xlsx')"
   ]
  },
  {
   "cell_type": "code",
   "execution_count": 69,
   "id": "d93d03f5",
   "metadata": {},
   "outputs": [],
   "source": [
    "models.to_csv('C:\\\\Users\\\\Admin\\\\Desktop\\\\DS studies\\\\Data\\\\Heart diseases\\\\PROJECT\\\\FINAL\\\\models.csv')"
   ]
  },
  {
   "cell_type": "code",
   "execution_count": 70,
   "id": "2c3fd2ca",
   "metadata": {},
   "outputs": [
    {
     "data": {
      "text/plain": [
       "['model_dump.mdl']"
      ]
     },
     "execution_count": 70,
     "metadata": {},
     "output_type": "execute_result"
    }
   ],
   "source": [
    "joblib.dump(models, 'model_dump.mdl', compress=0, protocol=None, cache_size=None)"
   ]
  },
  {
   "cell_type": "markdown",
   "id": "39530712",
   "metadata": {},
   "source": [
    "## Подготовка прогноза для участия в соревновании"
   ]
  },
  {
   "cell_type": "code",
   "execution_count": 71,
   "id": "4dc83d45",
   "metadata": {},
   "outputs": [],
   "source": [
    "data_pred = data_test[['id']].copy()"
   ]
  },
  {
   "cell_type": "code",
   "execution_count": 72,
   "id": "a60f7d67",
   "metadata": {},
   "outputs": [],
   "source": [
    "# обучение модели на полном наборе данных и прогноз модели (вероятность)\n",
    "data_pred['cardio'] = model.fit(X,Y).predict_proba(data_test)[:,1]"
   ]
  },
  {
   "cell_type": "code",
   "execution_count": 73,
   "id": "1af558f2",
   "metadata": {},
   "outputs": [
    {
     "data": {
      "image/png": "[encoded data removed]",
      "text/plain": [
       "<Figure size 2250x450 with 1 Axes>"
      ]
     },
     "metadata": {},
     "output_type": "display_data"
    }
   ],
   "source": [
    "fig, ax = plt.subplots(figsize=(15,3), dpi=PLOT_DPI)\n",
    "sns.histplot(x=data_pred.cardio, bins=40);"
   ]
  },
  {
   "cell_type": "code",
   "execution_count": 74,
   "id": "51c1a78d",
   "metadata": {},
   "outputs": [
    {
     "data": {
      "text/plain": [
       "(0.0003699999999999999, 0.289]    15000\n",
       "(0.289, 0.999]                    15000\n",
       "Name: cardio, dtype: int64"
      ]
     },
     "execution_count": 74,
     "metadata": {},
     "output_type": "execute_result"
    }
   ],
   "source": [
    "pd.qcut(data_pred.cardio, q=2).value_counts()"
   ]
  },
  {
   "cell_type": "code",
   "execution_count": 75,
   "id": "ff1046f5",
   "metadata": {},
   "outputs": [],
   "source": [
    "# запись в файл\n",
    "data_pred[['id','cardio']].to_csv(\n",
    "    'C:\\\\Users\\\\Admin\\\\Desktop\\\\DS studies\\\\Data\\\\Heart diseases\\\\PROJECT\\\\FINAL\\\\Result.csv',\n",
    "                      index=False,\n",
    ")"
   ]
  },
  {
   "cell_type": "code",
   "execution_count": 76,
   "id": "5d9de939",
   "metadata": {},
   "outputs": [
    {
     "data": {
      "text/html": [
       "<div>\n",
       "<style scoped>\n",
       "    .dataframe tbody tr th:only-of-type {\n",
       "        vertical-align: middle;\n",
       "    }\n",
       "\n",
       "    .dataframe tbody tr th {\n",
       "        vertical-align: top;\n",
       "    }\n",
       "\n",
       "    .dataframe thead th {\n",
       "        text-align: right;\n",
       "    }\n",
       "</style>\n",
       "<table border=\"1\" class=\"dataframe\">\n",
       "  <thead>\n",
       "    <tr style=\"text-align: left;\">\n",
       "      <th></th>\n",
       "      <th>id</th>\n",
       "      <th>cardio</th>\n",
       "    </tr>\n",
       "  </thead>\n",
       "  <tbody>\n",
       "    <tr>\n",
       "      <th>0</th>\n",
       "      <td>5</td>\n",
       "      <td>0.316</td>\n",
       "    </tr>\n",
       "    <tr>\n",
       "      <th>1</th>\n",
       "      <td>6</td>\n",
       "      <td>0.358</td>\n",
       "    </tr>\n",
       "    <tr>\n",
       "      <th>2</th>\n",
       "      <td>7</td>\n",
       "      <td>0.277</td>\n",
       "    </tr>\n",
       "    <tr>\n",
       "      <th>3</th>\n",
       "      <td>10</td>\n",
       "      <td>0.001</td>\n",
       "    </tr>\n",
       "    <tr>\n",
       "      <th>4</th>\n",
       "      <td>11</td>\n",
       "      <td>0.115</td>\n",
       "    </tr>\n",
       "    <tr>\n",
       "      <th>...</th>\n",
       "      <td>...</td>\n",
       "      <td>...</td>\n",
       "    </tr>\n",
       "    <tr>\n",
       "      <th>29995</th>\n",
       "      <td>99984</td>\n",
       "      <td>0.897</td>\n",
       "    </tr>\n",
       "    <tr>\n",
       "      <th>29996</th>\n",
       "      <td>99987</td>\n",
       "      <td>0.075</td>\n",
       "    </tr>\n",
       "    <tr>\n",
       "      <th>29997</th>\n",
       "      <td>99989</td>\n",
       "      <td>0.284</td>\n",
       "    </tr>\n",
       "    <tr>\n",
       "      <th>29998</th>\n",
       "      <td>99994</td>\n",
       "      <td>0.303</td>\n",
       "    </tr>\n",
       "    <tr>\n",
       "      <th>29999</th>\n",
       "      <td>99997</td>\n",
       "      <td>0.001</td>\n",
       "    </tr>\n",
       "  </tbody>\n",
       "</table>\n",
       "<p>30000 rows × 2 columns</p>\n",
       "</div>"
      ],
      "text/plain": [
       "       id     cardio\n",
       "0          5 0.316  \n",
       "1          6 0.358  \n",
       "2          7 0.277  \n",
       "3         10 0.001  \n",
       "4         11 0.115  \n",
       "...      ...     ...\n",
       "29995  99984 0.897  \n",
       "29996  99987 0.075  \n",
       "29997  99989 0.284  \n",
       "29998  99994 0.303  \n",
       "29999  99997 0.001  \n",
       "\n",
       "[30000 rows x 2 columns]"
      ]
     },
     "execution_count": 76,
     "metadata": {},
     "output_type": "execute_result"
    }
   ],
   "source": [
    "data_pred"
   ]
  },
  {
   "cell_type": "code",
   "execution_count": null,
   "id": "a0f2ac51",
   "metadata": {},
   "outputs": [],
   "source": []
  }
 ],
 "metadata": {
  "kernelspec": {
   "display_name": "Python 3 (ipykernel)",
   "language": "python",
   "name": "python3"
  },
  "language_info": {
   "codemirror_mode": {
    "name": "ipython",
    "version": 3
   },
   "file_extension": ".py",
   "mimetype": "text/x-python",
   "name": "python",
   "nbconvert_exporter": "python",
   "pygments_lexer": "ipython3",
   "version": "3.9.13"
  }
 },
 "nbformat": 4,
 "nbformat_minor": 5
}
